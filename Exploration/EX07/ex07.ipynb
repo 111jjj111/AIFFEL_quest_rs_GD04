{
 "cells": [
  {
   "cell_type": "code",
   "execution_count": 58,
   "id": "2763a6f3",
   "metadata": {},
   "outputs": [
    {
     "name": "stdout",
     "output_type": "stream",
     "text": [
      "Collecting koeda\n",
      "  Downloading koeda-0.0.4-py3-none-any.whl (566 kB)\n",
      "     |████████████████████████████████| 566 kB 7.4 MB/s            \n",
      "\u001b[?25hRequirement already satisfied: konlpy>=0.5.2 in /opt/conda/lib/python3.9/site-packages (from koeda) (0.5.2)\n",
      "Requirement already satisfied: numpy>=1.19.4 in /opt/conda/lib/python3.9/site-packages (from koeda) (1.21.4)\n",
      "Requirement already satisfied: tweepy==3.10.0 in /opt/conda/lib/python3.9/site-packages (from koeda) (3.10.0)\n",
      "Requirement already satisfied: requests[socks]>=2.11.1 in /opt/conda/lib/python3.9/site-packages (from tweepy==3.10.0->koeda) (2.26.0)\n",
      "Requirement already satisfied: six>=1.10.0 in /opt/conda/lib/python3.9/site-packages (from tweepy==3.10.0->koeda) (1.16.0)\n",
      "Requirement already satisfied: requests-oauthlib>=0.7.0 in /opt/conda/lib/python3.9/site-packages (from tweepy==3.10.0->koeda) (1.3.0)\n",
      "Requirement already satisfied: lxml>=4.1.0 in /opt/conda/lib/python3.9/site-packages (from konlpy>=0.5.2->koeda) (4.6.3)\n",
      "Requirement already satisfied: colorama in /opt/conda/lib/python3.9/site-packages (from konlpy>=0.5.2->koeda) (0.4.4)\n",
      "Requirement already satisfied: beautifulsoup4==4.6.0 in /opt/conda/lib/python3.9/site-packages (from konlpy>=0.5.2->koeda) (4.6.0)\n",
      "Requirement already satisfied: JPype1>=0.7.0 in /opt/conda/lib/python3.9/site-packages (from konlpy>=0.5.2->koeda) (1.3.0)\n",
      "Requirement already satisfied: oauthlib>=3.0.0 in /opt/conda/lib/python3.9/site-packages (from requests-oauthlib>=0.7.0->tweepy==3.10.0->koeda) (3.1.1)\n",
      "Requirement already satisfied: certifi>=2017.4.17 in /opt/conda/lib/python3.9/site-packages (from requests[socks]>=2.11.1->tweepy==3.10.0->koeda) (2021.10.8)\n",
      "Requirement already satisfied: idna<4,>=2.5 in /opt/conda/lib/python3.9/site-packages (from requests[socks]>=2.11.1->tweepy==3.10.0->koeda) (2.10)\n",
      "Requirement already satisfied: urllib3<1.27,>=1.21.1 in /opt/conda/lib/python3.9/site-packages (from requests[socks]>=2.11.1->tweepy==3.10.0->koeda) (1.26.7)\n",
      "Requirement already satisfied: charset-normalizer~=2.0.0 in /opt/conda/lib/python3.9/site-packages (from requests[socks]>=2.11.1->tweepy==3.10.0->koeda) (2.0.8)\n",
      "Requirement already satisfied: PySocks!=1.5.7,>=1.5.6 in /opt/conda/lib/python3.9/site-packages (from requests[socks]>=2.11.1->tweepy==3.10.0->koeda) (1.7.1)\n",
      "Installing collected packages: koeda\n",
      "Successfully installed koeda-0.0.4\n",
      "\u001b[33mWARNING: Running pip as the 'root' user can result in broken permissions and conflicting behaviour with the system package manager. It is recommended to use a virtual environment instead: https://pip.pypa.io/warnings/venv\u001b[0m\n"
     ]
    }
   ],
   "source": [
    "!pip install koeda"
   ]
  },
  {
   "cell_type": "code",
   "execution_count": 59,
   "id": "627cbf0f",
   "metadata": {},
   "outputs": [],
   "source": [
    "import tensorflow as tf\n",
    "import tensorflow_datasets as tfds\n",
    "import os\n",
    "import re\n",
    "import numpy as np\n",
    "import matplotlib.pyplot as plt\n",
    "import pandas as pd"
   ]
  },
  {
   "cell_type": "code",
   "execution_count": 2,
   "id": "8ea5acd1",
   "metadata": {},
   "outputs": [],
   "source": [
    "class PositionalEncoding(tf.keras.layers.Layer):\n",
    "    def __init__(self, position, d_model):\n",
    "        super(PositionalEncoding, self).__init__()\n",
    "        self.pos_encoding = self.positional_encoding(position, d_model)\n",
    "        \n",
    "    def get_angles(self, position, i, d_model):\n",
    "        # position : padded input size, 행의 크기\n",
    "        # d_model : 임베딩 차원, 열의 크기\n",
    "        # angle shape : (1, d_model)\n",
    "        # position shape : (position, 1)\n",
    "        # return shape : (position, d_model)\n",
    "        angles = 1 / tf.pow(10000, (2 * (i//2)) / tf.cast(d_model, tf.float32))\n",
    "        return position * angles\n",
    "    \n",
    "    def positional_encoding(self, position, d_model):\n",
    "        angle_rads = self.get_angles(\n",
    "            # position * angle을 위해서 newaxis를 작성\n",
    "            position = tf.range(position, dtype=tf.float32)[:, tf.newaxis],\n",
    "            i = tf.range(d_model, dtype=tf.float32)[tf.newaxis, :],\n",
    "            d_model=d_model\n",
    "        )\n",
    "        \n",
    "        sines = tf.math.sin(angle_rads[:, 0::2])\n",
    "        cosines = tf.math.cos(angle_rads[:, 1::2])\n",
    "        \n",
    "        # [2, position, d_model*0.5]\n",
    "        pos_encoding = tf.stack([sines, cosines], axis=0)\n",
    "        # [position, d_model*0.5, 2]\n",
    "        pos_encoding = tf.transpose(pos_encoding, [1, 2, 0])\n",
    "        # [position, d_model], sin과 cosine이 교차\n",
    "        pos_encoding = tf.reshape(pos_encoding, [position, d_model])\n",
    "        # [1, position, d_model]\n",
    "        pos_encoding = pos_encoding[tf.newaxis, ...]\n",
    "        return tf.cast(pos_encoding, tf.float32)\n",
    "    \n",
    "    def call(self, inputs):\n",
    "        position = tf.shape(inputs)[1]\n",
    "        return inputs + self.pos_encoding[:, :position, :]\n",
    "        "
   ]
  },
  {
   "cell_type": "code",
   "execution_count": 3,
   "id": "3bc42571",
   "metadata": {},
   "outputs": [],
   "source": [
    "def scaled_dot_product_attention(query, key, value, mask):\n",
    "    # query, key, value : (batch, n_heads, n_token, depth)\n",
    "    \n",
    "    # Q·K^T 연산 (키 텐서의 마지막 두 차원 전치)\n",
    "    # (batch, n_heads, n_token, depth) × (batch, n_heads, depth, n_token)\n",
    "    # → (batch, n_heads, n_token, n_token)\n",
    "    matmul_qk = tf.matmul(query, key, transpose_b=True)\n",
    "    \n",
    "    # depth : d_model // num_heads (멀티헤드 일 때)\n",
    "    depth = tf.cast(tf.shape(key)[-1], tf.float32)\n",
    "    logits = matmul_qk / tf.math.sqrt(depth)\n",
    "    \n",
    "    if mask is not None:\n",
    "        logits += (mask * -1e9)\n",
    "        \n",
    "    # axis = -1 : 각 query에 대해 key들 전체에 softmax를 적용\n",
    "    # logit의 각 행마다 softmax를 적용함.\n",
    "    # 모든 행의 합은 각각 1\n",
    "    # shape : (batch, n_heads, n_token, n_token)\n",
    "    attention_weights = tf.nn.softmax(logits, axis=-1)\n",
    "    \n",
    "    output = tf.matmul(attention_weights, value)\n",
    "    # return shape : (batch, n_heads, n_token, depth)\n",
    "    return output"
   ]
  },
  {
   "cell_type": "code",
   "execution_count": 4,
   "id": "58360f62",
   "metadata": {},
   "outputs": [],
   "source": [
    "class MultiHeadAttention(tf.keras.layers.Layer):\n",
    "    \n",
    "    def __init__(self, d_model, num_heads, name=\"multi_head_attention\"):\n",
    "        super(MultiHeadAttention, self).__init__(name=name)\n",
    "        self.num_heads = num_heads\n",
    "        self.d_model = d_model\n",
    "        \n",
    "        assert d_model % self.num_heads == 0\n",
    "        \n",
    "        self.depth = d_model // self.num_heads\n",
    "        \n",
    "        self.query_dense = tf.keras.layers.Dense(units=d_model)\n",
    "        self.key_dense = tf.keras.layers.Dense(units=d_model)\n",
    "        self.value_dense = tf.keras.layers.Dense(units=d_model)\n",
    "        \n",
    "        self.dense = tf.keras.layers.Dense(units=d_model)\n",
    "        \n",
    "    def split_heads(self, inputs, batch_size):\n",
    "        # shape : (batch, n_token, d_model) \n",
    "        # -> (batch, n_token, num_heads, depth)\n",
    "        # -> (batch, num_heads, n_token, depth)\n",
    "        inputs = tf.reshape(\n",
    "        inputs, shape=(batch_size, -1, self.num_heads, self.depth))\n",
    "        return tf.transpose(inputs, perm=[0, 2, 1, 3])\n",
    "    \n",
    "    def call(self, inputs):\n",
    "        query, key, value, mask = inputs['query'], inputs['key'], inputs['value'], inputs['mask']\n",
    "        batch_size = tf.shape(query)[0]\n",
    "        \n",
    "        query = self.query_dense(query)\n",
    "        key = self.key_dense(key)\n",
    "        value = self.value_dense(value)\n",
    "        \n",
    "        # shape : (batch, n_heads, n_token, depth)\n",
    "        query = self.split_heads(query, batch_size)\n",
    "        key = self.split_heads(key, batch_size)\n",
    "        value = self.split_heads(value, batch_size)\n",
    "        \n",
    "        # -> (batch, n_token, n_heads, depth)\n",
    "        scaled_attention = scaled_dot_product_attention(query, key, value, mask)\n",
    "        scaled_attention = tf.transpose(scaled_attention, perm=[0, 2, 1, 3])\n",
    "        \n",
    "        concat_attention = tf.reshape(scaled_attention, \n",
    "                                     (batch_size, -1, self.d_model))\n",
    "        \n",
    "        outputs = self.dense(concat_attention)\n",
    "        \n",
    "        return outputs"
   ]
  },
  {
   "cell_type": "code",
   "execution_count": 5,
   "id": "93b616d2",
   "metadata": {},
   "outputs": [],
   "source": [
    "def create_padding_mask(x):\n",
    "    # tf.math.equal(x, y) : x와 y의 값이 같으면 True, 아니면 False\n",
    "    # shape : (batch, 1, 1, seq_length)\n",
    "    mask = tf.cast(tf.math.equal(x, 0), tf.float32)\n",
    "    return mask[:, tf.newaxis, tf.newaxis, :]\n"
   ]
  },
  {
   "cell_type": "code",
   "execution_count": 6,
   "id": "13b22be5",
   "metadata": {},
   "outputs": [],
   "source": [
    "def create_look_ahead_mask(x):\n",
    "    seq_len = tf.shape(x)[1]\n",
    "    \"\"\"\n",
    "    tf.linalg.band_part(\n",
    "    input,      # 입력 텐서 (2D 이상의 행렬)\n",
    "    num_lower,  # 유지할 하부 대각선(subdiagonal) 수 (음수: 전체 하부 삼각행렬 유지)\n",
    "    num_upper,  # 유지할 상부 대각선(superdiagonal) 수 (음수: 전체 상부 삼각행렬 유지)\n",
    "    name=None\n",
    "    ) : 입력 텐서의 대각선 주변 밴드 영역을 유지하고 나머지를 0으로 설정\n",
    "    \n",
    "    num_lower=0, num_upper=-1: 상부 삼각행렬 추출.\n",
    "    num_lower=-1, num_upper=0: 하부 삼각행렬 추출.\n",
    "    num_lower=0, num_upper=0: 대각선 요소만 유지.\n",
    "    \"\"\"\n",
    "    # 하부 삼각행렬이 0, 나머지는 1이 되도록\n",
    "    look_ahead_mask = 1 - tf.linalg.band_part(tf.ones((seq_len, seq_len)), -1, 0)\n",
    "    padding_mask = create_padding_mask(x)\n",
    "    # 두 패딩 중 하나라도 1이면 마스크가 적용됨.\n",
    "    return tf.maximum(look_ahead_mask, padding_mask)\n",
    "    "
   ]
  },
  {
   "cell_type": "code",
   "execution_count": 7,
   "id": "59e4a7be",
   "metadata": {},
   "outputs": [],
   "source": [
    "def encoder_layer(units, d_model, num_heads, dropout, name=\"encoder_layer\"):\n",
    "    # input으로 토큰 1개씩 입력받나?\n",
    "    # input의 시퀀스의 길이가 가변적임을 의미\n",
    "    # input shape : (batch, seq_len, d_model)\n",
    "    inputs = tf.keras.Input(shape=(None, d_model), name=\"inputs\")\n",
    "    \n",
    "    # mask는 shape이 (batch, 1, 1, seq_len)이었는데, input이 이게 맞나?\n",
    "    # 위와 같이 시퀀스의 길이가 가변적이기 때문에 아래와 같이 작성됨.\n",
    "    padding_mask = tf.keras.Input(shape=(1, 1, None), name=\"padding_mask\")\n",
    "\n",
    "    attention = MultiHeadAttention(\n",
    "        d_model, num_heads, name=\"attention\")({\n",
    "        'query': inputs,\n",
    "        'key': inputs,\n",
    "        'value': inputs,\n",
    "        'mask': padding_mask\n",
    "    })\n",
    "    \n",
    "    attention = tf.keras.layers.Dropout(rate=dropout)(attention)\n",
    "    # LayerNormalization에는 왜 inputs + attention을 하지?\n",
    "    # Residual connection(잔차 연결), 입력과 출력을 더하여 학습을 안정화시켰다.\n",
    "    attention = tf.keras.layers.LayerNormalization(\n",
    "        epsilon=1e-6)(inputs + attention)\n",
    "    \n",
    "    outputs = tf.keras.layers.Dense(units=units, activation='relu')(attention)\n",
    "    outputs = tf.keras.layers.Dense(units=d_model)(outputs)\n",
    "    \n",
    "    outputs = tf.keras.layers.Dropout(rate=dropout)(outputs)\n",
    "    # 여기서는 왜 attention + outputs를 하지?\n",
    "    # Residual connection, 어텐션블럭의 출력과 feed-foward블럭의 출력을 더했다.\n",
    "    outputs = tf.keras.layers.LayerNormalization(\n",
    "        epsilon=1e-6)(attention+outputs)\n",
    "    \n",
    "    return tf.keras.Model(\n",
    "        inputs=[inputs, padding_mask], outputs=outputs, name=name)"
   ]
  },
  {
   "cell_type": "code",
   "execution_count": 8,
   "id": "fd9eba2d",
   "metadata": {},
   "outputs": [],
   "source": [
    "def encoder(vocab_size, num_layers, units, d_model, num_heads, dropout, max_legnth, name=\"encoder\"):\n",
    "    inputs = tf.keras.Input(shape=(None,), name=\"inputs\")\n",
    "    \n",
    "    padding_mask = tf.keras.Input(shape=(1, 1, None), name=\"padding_mask\")\n",
    "    \n",
    "    embeddings = tf.keras.layers.Embedding(vocab_size, d_model)(inputs)\n",
    "    # embedding에 root(d_model)을 곱하는 이유는?\n",
    "    # transformer 원 논문에서 제안된 트릭, 단어 임베딩과 위치 임베딩의 스케일을 맞추기 위함.\n",
    "    embeddings *= tf.math.sqrt(tf.cast(d_model, tf.float32))\n",
    "    \n",
    "    # positional encoding의 position input에 vocab_size가 들어가는 이유는?\n",
    "    # positional encoding의 첫 이자는 최대 시퀀스 길이를 의미\n",
    "    # 실제 입력 시퀀스 길이가 vocab_size보다 짧다면 문제 없다.\n",
    "    # gpt : vocab_size가 아니라 max_seq_len을 전달하는 편이 좋다.\n",
    "    embeddings = PositionalEncoding(max_legnth, d_model)(embeddings)\n",
    "    \n",
    "    outputs = tf.keras.layers.Dropout(rate=dropout)(embeddings)\n",
    "    \n",
    "    for i in range(num_layers):\n",
    "        outputs = encoder_layer(units=units,\n",
    "                               d_model=d_model,\n",
    "                               num_heads=num_heads,\n",
    "                               dropout=dropout,\n",
    "                               name=\"encoder_layer_{}\".format(i),\n",
    "                               )([outputs, padding_mask])\n",
    "    return tf.keras.Model(\n",
    "        inputs=[inputs, padding_mask], outputs=outputs, name=name)\n",
    "    "
   ]
  },
  {
   "cell_type": "code",
   "execution_count": 9,
   "id": "cd266914",
   "metadata": {},
   "outputs": [],
   "source": [
    "def decoder_layer(units, d_model, num_heads, dropout, name=\"decoder_layer\"):\n",
    "    inputs = tf.keras.Input(shape=(None, d_model), name=\"inputs\")\n",
    "    enc_outputs = tf.keras.Input(shape=(None, d_model), name=\"encoder_outputs\")\n",
    "    # look_ahead_mask는 디코더의 self-attention에서 사용한다.\n",
    "    # look_ahed_mask의 shape는 (batch, 1, seq_len_query, seq_len_key)\n",
    "    # self-attention에서는 seq_q = seq_k 이기 때문에, (batch, 1, seq_len, seq_len) \n",
    "    look_ahead_mask = tf.keras.Input(shape=(1,None,None), name=\"look_ahead_mask\")\n",
    "    padding_mask = tf.keras.Input(shape=(1, 1, None), name=\"padding_mask\")\n",
    "    \n",
    "    attention1 = MultiHeadAttention(\n",
    "        d_model, num_heads, name=\"attention_1\")(inputs={\n",
    "        'query': inputs,\n",
    "        'key': inputs,\n",
    "        'value': inputs,\n",
    "        'mask': look_ahead_mask\n",
    "    })\n",
    "    \n",
    "    attention1 = tf.keras.layers.LayerNormalization(\n",
    "        epsilon=1e-6)(attention1+inputs)\n",
    "    \n",
    "    attention2 = MultiHeadAttention(\n",
    "        d_model, num_heads, name=\"attention_2\")(inputs={\n",
    "        'query': attention1,\n",
    "        'key': enc_outputs,\n",
    "        'value': enc_outputs,\n",
    "        'mask': padding_mask\n",
    "    })\n",
    "    \n",
    "    attention2 = tf.keras.layers.Dropout(rate=dropout)(attention2)\n",
    "    attention2 = tf.keras.layers.LayerNormalization(\n",
    "        epsilon=1e-6)(attention2+attention1)\n",
    "    \n",
    "    outputs = tf.keras.layers.Dense(units=units, activation='relu')(attention2)\n",
    "    outputs = tf.keras.layers.Dense(units=d_model)(outputs)\n",
    "    \n",
    "    outputs = tf.keras.layers.Dropout(rate=dropout)(outputs)\n",
    "    outputs = tf.keras.layers.LayerNormalization(\n",
    "        epsilon=1e-6)(outputs + attention2)\n",
    "    \n",
    "    return tf.keras.Model(\n",
    "        inputs=[inputs, enc_outputs, look_ahead_mask, padding_mask],\n",
    "        outputs=outputs,\n",
    "        name=name)"
   ]
  },
  {
   "cell_type": "code",
   "execution_count": 10,
   "id": "c5e1babb",
   "metadata": {},
   "outputs": [],
   "source": [
    "def decoder(vocab_size, num_layers, units, d_model, num_heads, dropout, max_legnth, name='decoder'):\n",
    "    inputs = tf.keras.Input(shape=(None,), name='inputs')\n",
    "    enc_outputs = tf.keras.Input(shape=(None, d_model), name='encoder_outputs')\n",
    "    look_ahead_mask = tf.keras.Input(shape=(1, None, None), name='look_ahead_mask')\n",
    "    padding_mask = tf.keras.Input(shape=(1, 1, None), name='padding_mask')\n",
    "    \n",
    "    embeddings = tf.keras.layers.Embedding(vocab_size, d_model)(inputs)\n",
    "    embeddings *= tf.math.sqrt(tf.cast(d_model, tf.float32))\n",
    "    \n",
    "    # 인코더와 같은 vocab size\n",
    "    embeddings = PositionalEncoding(max_legnth, d_model)(embeddings)\n",
    "    \n",
    "    outputs = tf.keras.layers.Dropout(rate=dropout)(embeddings)\n",
    "    \n",
    "    for i in range(num_layers):\n",
    "        outputs = decoder_layer(\n",
    "            units = units,\n",
    "            d_model=d_model,\n",
    "            num_heads=num_heads,\n",
    "            dropout=dropout,\n",
    "            name='decoder_layer_{}'.format(i),\n",
    "        )(inputs=[outputs, enc_outputs, look_ahead_mask, padding_mask])\n",
    "        \n",
    "    return tf.keras.Model(\n",
    "        inputs=[inputs, enc_outputs, look_ahead_mask, padding_mask],\n",
    "        outputs=outputs,\n",
    "        name=name)\n",
    "    "
   ]
  },
  {
   "cell_type": "markdown",
   "id": "1ec80a2e",
   "metadata": {},
   "source": [
    "데이터 받아오기"
   ]
  },
  {
   "cell_type": "code",
   "execution_count": 11,
   "id": "509dc9ee",
   "metadata": {},
   "outputs": [
    {
     "data": {
      "text/plain": [
       "'path_to_zip = tf.keras.utils.get_file(\\n    \\'cornell_movie_dialogs.zip\\',\\n    origin=\\'http://www.cs.cornell.edu/~cristian/data/cornell_movie_dialogs_corpus.zip\\',\\n    extract=True)\\n\\npath_to_dataset = os.path.join(\\n    os.path.dirname(path_to_zip), \"cornell movie-dialogs corpus\")\\n\\npath_to_movie_lines = os.path.join(path_to_dataset, \\'movie_lines.txt\\')\\npath_to_movie_conversations = os.path.join(path_to_dataset,\\'movie_conversations.txt\\')'"
      ]
     },
     "execution_count": 11,
     "metadata": {},
     "output_type": "execute_result"
    }
   ],
   "source": [
    "\"\"\"path_to_zip = tf.keras.utils.get_file(\n",
    "    'cornell_movie_dialogs.zip',\n",
    "    origin='http://www.cs.cornell.edu/~cristian/data/cornell_movie_dialogs_corpus.zip',\n",
    "    extract=True)\n",
    "\n",
    "path_to_dataset = os.path.join(\n",
    "    os.path.dirname(path_to_zip), \"cornell movie-dialogs corpus\")\n",
    "\n",
    "path_to_movie_lines = os.path.join(path_to_dataset, 'movie_lines.txt')\n",
    "path_to_movie_conversations = os.path.join(path_to_dataset,'movie_conversations.txt')\"\"\""
   ]
  },
  {
   "cell_type": "code",
   "execution_count": 12,
   "id": "a597e427",
   "metadata": {},
   "outputs": [
    {
     "data": {
      "text/plain": [
       "'MAX_SAMPLES = 50000\\n\\ndef preprocess_sentence(sentence):\\n    sentence = sentence.strip().lower()\\n    \\n    sentence = re.sub(r\"([?.!,])\", r\" \\x01 \", sentence)\\n    sentence = re.sub(r\\'[\" \"]\\', \" \", sentence)\\n    \\n    sentence = re.sub(r\"[^a-zA-Z.?!,]\", \\' \\', sentence)\\n    sentence = sentence.strip()\\n    return sentence'"
      ]
     },
     "execution_count": 12,
     "metadata": {},
     "output_type": "execute_result"
    }
   ],
   "source": [
    "\"\"\"MAX_SAMPLES = 50000\n",
    "\n",
    "def preprocess_sentence(sentence):\n",
    "    sentence = sentence.strip().lower()\n",
    "    \n",
    "    sentence = re.sub(r\"([?.!,])\", r\" \\1 \", sentence)\n",
    "    sentence = re.sub(r'[\" \"]', \" \", sentence)\n",
    "    \n",
    "    sentence = re.sub(r\"[^a-zA-Z.?!,]\", ' ', sentence)\n",
    "    sentence = sentence.strip()\n",
    "    return sentence\"\"\""
   ]
  },
  {
   "cell_type": "code",
   "execution_count": 13,
   "id": "d3f39aed",
   "metadata": {},
   "outputs": [
    {
     "data": {
      "text/plain": [
       "\"# 질문과 답변의 쌍인 데이터셋을 구성하기 위한 데이터 로드 함수\\ndef load_conversations():\\n    id2line = {}\\n    with open(path_to_movie_lines, errors='ignore') as file:\\n        lines = file.readlines()\\n    for line in lines:\\n        parts = line.replace('\\n', '').split(' +++$+++ ')\\n        id2line[parts[0]] = parts[4]\\n\\n    inputs, outputs = [], []\\n    with open(path_to_movie_conversations, 'r') as file:\\n        lines = file.readlines()\\n\\n    for line in lines:\\n        parts = line.replace('\\n', '').split(' +++$+++ ')\\n        conversation = [line[1:-1] for line in parts[3][1:-1].split(', ')]\\n\\n        for i in range(len(conversation) - 1):\\n            # 전처리 함수를 질문에 해당되는 inputs와 답변에 해당되는 outputs에 적용.\\n            inputs.append(preprocess_sentence(id2line[conversation[i]]))\\n            outputs.append(preprocess_sentence(id2line[conversation[i + 1]]))\\n\\n            if len(inputs) >= MAX_SAMPLES:\\n                return inputs, outputs\\n    return inputs, outputs\""
      ]
     },
     "execution_count": 13,
     "metadata": {},
     "output_type": "execute_result"
    }
   ],
   "source": [
    "\"\"\"# 질문과 답변의 쌍인 데이터셋을 구성하기 위한 데이터 로드 함수\n",
    "def load_conversations():\n",
    "    id2line = {}\n",
    "    with open(path_to_movie_lines, errors='ignore') as file:\n",
    "        lines = file.readlines()\n",
    "    for line in lines:\n",
    "        parts = line.replace('\\n', '').split(' +++$+++ ')\n",
    "        id2line[parts[0]] = parts[4]\n",
    "\n",
    "    inputs, outputs = [], []\n",
    "    with open(path_to_movie_conversations, 'r') as file:\n",
    "        lines = file.readlines()\n",
    "\n",
    "    for line in lines:\n",
    "        parts = line.replace('\\n', '').split(' +++$+++ ')\n",
    "        conversation = [line[1:-1] for line in parts[3][1:-1].split(', ')]\n",
    "\n",
    "        for i in range(len(conversation) - 1):\n",
    "            # 전처리 함수를 질문에 해당되는 inputs와 답변에 해당되는 outputs에 적용.\n",
    "            inputs.append(preprocess_sentence(id2line[conversation[i]]))\n",
    "            outputs.append(preprocess_sentence(id2line[conversation[i + 1]]))\n",
    "\n",
    "            if len(inputs) >= MAX_SAMPLES:\n",
    "                return inputs, outputs\n",
    "    return inputs, outputs\"\"\""
   ]
  },
  {
   "cell_type": "code",
   "execution_count": 14,
   "id": "dfdb6de8",
   "metadata": {},
   "outputs": [
    {
     "data": {
      "text/plain": [
       "\"questions, answers = load_conversations()\\nprint('전체 샘플 수 :', len(questions))\\nprint('전체 샘플 수 :', len(answers))\""
      ]
     },
     "execution_count": 14,
     "metadata": {},
     "output_type": "execute_result"
    }
   ],
   "source": [
    "\"\"\"questions, answers = load_conversations()\n",
    "print('전체 샘플 수 :', len(questions))\n",
    "print('전체 샘플 수 :', len(answers))\"\"\""
   ]
  },
  {
   "cell_type": "code",
   "execution_count": 161,
   "id": "5f4cf196",
   "metadata": {},
   "outputs": [
    {
     "data": {
      "text/html": [
       "<div>\n",
       "<style scoped>\n",
       "    .dataframe tbody tr th:only-of-type {\n",
       "        vertical-align: middle;\n",
       "    }\n",
       "\n",
       "    .dataframe tbody tr th {\n",
       "        vertical-align: top;\n",
       "    }\n",
       "\n",
       "    .dataframe thead th {\n",
       "        text-align: right;\n",
       "    }\n",
       "</style>\n",
       "<table border=\"1\" class=\"dataframe\">\n",
       "  <thead>\n",
       "    <tr style=\"text-align: right;\">\n",
       "      <th></th>\n",
       "      <th>Q</th>\n",
       "      <th>A</th>\n",
       "      <th>label</th>\n",
       "    </tr>\n",
       "  </thead>\n",
       "  <tbody>\n",
       "    <tr>\n",
       "      <th>0</th>\n",
       "      <td>12시 땡!</td>\n",
       "      <td>하루가 또 가네요.</td>\n",
       "      <td>0</td>\n",
       "    </tr>\n",
       "    <tr>\n",
       "      <th>1</th>\n",
       "      <td>1지망 학교 떨어졌어</td>\n",
       "      <td>위로해 드립니다.</td>\n",
       "      <td>0</td>\n",
       "    </tr>\n",
       "    <tr>\n",
       "      <th>2</th>\n",
       "      <td>3박4일 놀러가고 싶다</td>\n",
       "      <td>여행은 언제나 좋죠.</td>\n",
       "      <td>0</td>\n",
       "    </tr>\n",
       "    <tr>\n",
       "      <th>3</th>\n",
       "      <td>3박4일 정도 놀러가고 싶다</td>\n",
       "      <td>여행은 언제나 좋죠.</td>\n",
       "      <td>0</td>\n",
       "    </tr>\n",
       "    <tr>\n",
       "      <th>4</th>\n",
       "      <td>PPL 심하네</td>\n",
       "      <td>눈살이 찌푸려지죠.</td>\n",
       "      <td>0</td>\n",
       "    </tr>\n",
       "  </tbody>\n",
       "</table>\n",
       "</div>"
      ],
      "text/plain": [
       "                 Q            A  label\n",
       "0           12시 땡!   하루가 또 가네요.      0\n",
       "1      1지망 학교 떨어졌어    위로해 드립니다.      0\n",
       "2     3박4일 놀러가고 싶다  여행은 언제나 좋죠.      0\n",
       "3  3박4일 정도 놀러가고 싶다  여행은 언제나 좋죠.      0\n",
       "4          PPL 심하네   눈살이 찌푸려지죠.      0"
      ]
     },
     "execution_count": 161,
     "metadata": {},
     "output_type": "execute_result"
    }
   ],
   "source": [
    "path_to_dataset = \"./data/ChatbotData.csv\"\n",
    "dataframe = pd.read_csv(path_to_dataset)\n",
    "dataframe.head()"
   ]
  },
  {
   "cell_type": "code",
   "execution_count": 162,
   "id": "7d447a9e",
   "metadata": {},
   "outputs": [],
   "source": [
    "def preprocess_sentence(sentence):\n",
    "    # 특수문자 제거\n",
    "    sentence = re.sub(r'[^ㄱ-ㅎ가-힣a-zA-Z0-9\\s]', ' ', sentence)\n",
    "    # 중복 문자 정규화\n",
    "    sentence = re.sub(r'(.)\\1{2,}', r'\\1\\1', sentence)\n",
    "    # ?.!, 띄어쓰기\n",
    "    sentence = re.sub(r\"([?.!,])\", r\" \\1 \", sentence)\n",
    "    sentence = sentence.strip()\n",
    "    return sentence"
   ]
  },
  {
   "cell_type": "code",
   "execution_count": 163,
   "id": "14925981",
   "metadata": {},
   "outputs": [
    {
     "name": "stdout",
     "output_type": "stream",
     "text": [
      "전체 샘플 수 : 11823\n",
      "전체 샘플 수 : 11823\n"
     ]
    }
   ],
   "source": [
    "questions = dataframe['Q'].apply(preprocess_sentence)\n",
    "answers = dataframe['A'].apply(preprocess_sentence)\n",
    "print('전체 샘플 수 :', len(questions))\n",
    "print('전체 샘플 수 :', len(answers))"
   ]
  },
  {
   "cell_type": "code",
   "execution_count": 164,
   "id": "18aaf40e",
   "metadata": {},
   "outputs": [
    {
     "name": "stdout",
     "output_type": "stream",
     "text": [
      "0              12시 땡\n",
      "1        1지망 학교 떨어졌어\n",
      "2       3박4일 놀러가고 싶다\n",
      "3    3박4일 정도 놀러가고 싶다\n",
      "4            PPL 심하네\n",
      "Name: Q, dtype: object\n",
      "0     하루가 또 가네요\n",
      "1      위로해 드립니다\n",
      "2    여행은 언제나 좋죠\n",
      "3    여행은 언제나 좋죠\n",
      "4     눈살이 찌푸려지죠\n",
      "Name: A, dtype: object\n"
     ]
    }
   ],
   "source": [
    "print(questions[:5])\n",
    "print(answers[:5])"
   ]
  },
  {
   "cell_type": "code",
   "execution_count": 165,
   "id": "b095f45b",
   "metadata": {},
   "outputs": [],
   "source": [
    "import koeda\n",
    "augmenter = koeda.EDA(morpheme_analyzer=\"Okt\", alpha_sr=0.3, alpha_ri=0.1, alpha_rs=0.1, prob_rd=0.1)\n",
    "aug_questions, aug_answers = [], []\n",
    "for q, a in zip(questions, answers):\n",
    "    aug_q = augmenter(q, repetition=3)\n",
    "    for aug in aug_q:\n",
    "        aug_questions.append(str(aug))\n",
    "        aug_answers.append(a)"
   ]
  },
  {
   "cell_type": "code",
   "execution_count": 166,
   "id": "dc791969",
   "metadata": {},
   "outputs": [
    {
     "name": "stdout",
     "output_type": "stream",
     "text": [
      "원본 데이터 수: 11823\n",
      "증강 데이터 수: 35469\n"
     ]
    }
   ],
   "source": [
    "aug_df= pd.DataFrame({'question': aug_questions,\n",
    "                                'answer':aug_answers})\n",
    "\n",
    "print(f\"원본 데이터 수: {len(questions)}\")\n",
    "print(f\"증강 데이터 수: {len(aug_questions)}\")\n",
    "#print(f\"최종 학습 데이터 수: {len(all_questions)}\")"
   ]
  },
  {
   "cell_type": "code",
   "execution_count": 167,
   "id": "99ba6b76",
   "metadata": {},
   "outputs": [],
   "source": [
    "aug_df = aug_df.sample(frac=1, random_state=42).reset_index(drop=True)"
   ]
  },
  {
   "cell_type": "code",
   "execution_count": 168,
   "id": "055b944f",
   "metadata": {},
   "outputs": [
    {
     "data": {
      "text/html": [
       "<div>\n",
       "<style scoped>\n",
       "    .dataframe tbody tr th:only-of-type {\n",
       "        vertical-align: middle;\n",
       "    }\n",
       "\n",
       "    .dataframe tbody tr th {\n",
       "        vertical-align: top;\n",
       "    }\n",
       "\n",
       "    .dataframe thead th {\n",
       "        text-align: right;\n",
       "    }\n",
       "</style>\n",
       "<table border=\"1\" class=\"dataframe\">\n",
       "  <thead>\n",
       "    <tr style=\"text-align: right;\">\n",
       "      <th></th>\n",
       "      <th>question</th>\n",
       "      <th>answer</th>\n",
       "    </tr>\n",
       "  </thead>\n",
       "  <tbody>\n",
       "    <tr>\n",
       "      <th>0</th>\n",
       "      <td>말문이 탁 막힌다</td>\n",
       "      <td>생각지도 못한 일이 일어났나봐요</td>\n",
       "    </tr>\n",
       "    <tr>\n",
       "      <th>1</th>\n",
       "      <td>썸 기 타는 기간</td>\n",
       "      <td>정해져 있지는 않지만 발전된 관계가 좋겠죠</td>\n",
       "    </tr>\n",
       "    <tr>\n",
       "      <th>2</th>\n",
       "      <td>어제 또 톡보내버렸네</td>\n",
       "      <td>달라지지 않는다면 연락은 하지마세요</td>\n",
       "    </tr>\n",
       "    <tr>\n",
       "      <th>3</th>\n",
       "      <td>이승로 짝남 보내기로 했어요</td>\n",
       "      <td>힘든 결정이었을텐데 맘고생 많았어요</td>\n",
       "    </tr>\n",
       "    <tr>\n",
       "      <th>4</th>\n",
       "      <td>휴학할까</td>\n",
       "      <td>계획 세우고 하세요</td>\n",
       "    </tr>\n",
       "    <tr>\n",
       "      <th>5</th>\n",
       "      <td>양배추즙맛없어</td>\n",
       "      <td>먹으면서 다이어트 하는 분들 진짜 엄청 대단한 분들이에요</td>\n",
       "    </tr>\n",
       "    <tr>\n",
       "      <th>6</th>\n",
       "      <td>여자친구가 스킨십 등기 싫대</td>\n",
       "      <td>좀 더 기다려주세요</td>\n",
       "    </tr>\n",
       "    <tr>\n",
       "      <th>7</th>\n",
       "      <td>꿈에 나온 여자를 촉망 어떻게 찾을 수 있을까</td>\n",
       "      <td>서울에서 왕서방 찾기네요</td>\n",
       "    </tr>\n",
       "    <tr>\n",
       "      <th>8</th>\n",
       "      <td>매일 그녀 꿈을 꾸네</td>\n",
       "      <td>그녀 생각이 많이 나서 그럴거예요</td>\n",
       "    </tr>\n",
       "    <tr>\n",
       "      <th>9</th>\n",
       "      <td>처음엔 좋았는데</td>\n",
       "      <td>그 사람의 좋은점을 생각해보세요</td>\n",
       "    </tr>\n",
       "  </tbody>\n",
       "</table>\n",
       "</div>"
      ],
      "text/plain": [
       "                    question                           answer\n",
       "0                  말문이 탁 막힌다                생각지도 못한 일이 일어났나봐요\n",
       "1                  썸 기 타는 기간          정해져 있지는 않지만 발전된 관계가 좋겠죠\n",
       "2                어제 또 톡보내버렸네              달라지지 않는다면 연락은 하지마세요\n",
       "3            이승로 짝남 보내기로 했어요              힘든 결정이었을텐데 맘고생 많았어요\n",
       "4                       휴학할까                       계획 세우고 하세요\n",
       "5                    양배추즙맛없어  먹으면서 다이어트 하는 분들 진짜 엄청 대단한 분들이에요\n",
       "6            여자친구가 스킨십 등기 싫대                       좀 더 기다려주세요\n",
       "7  꿈에 나온 여자를 촉망 어떻게 찾을 수 있을까                    서울에서 왕서방 찾기네요\n",
       "8                매일 그녀 꿈을 꾸네               그녀 생각이 많이 나서 그럴거예요\n",
       "9                   처음엔 좋았는데                그 사람의 좋은점을 생각해보세요"
      ]
     },
     "metadata": {},
     "output_type": "display_data"
    },
    {
     "name": "stdout",
     "output_type": "stream",
     "text": [
      "최종 학습 데이터 수: 35469\n",
      "말문이 탁 막힌다 생각지도 못한 일이 일어났나봐요\n"
     ]
    }
   ],
   "source": [
    "display(aug_df.head(10))\n",
    "questions = aug_df['question']\n",
    "answers = aug_df['answer']\n",
    "\n",
    "print(f\"최종 학습 데이터 수: {len(questions)}\")\n",
    "print(questions[0], answers[0])"
   ]
  },
  {
   "cell_type": "code",
   "execution_count": 169,
   "id": "10a38f2e",
   "metadata": {},
   "outputs": [
    {
     "name": "stdout",
     "output_type": "stream",
     "text": [
      "question    0\n",
      "answer      0\n",
      "dtype: int64\n"
     ]
    }
   ],
   "source": [
    "print(aug_df.isnull().sum())\n",
    "aug_df = aug_df.dropna()"
   ]
  },
  {
   "cell_type": "code",
   "execution_count": 170,
   "id": "660a34fc",
   "metadata": {},
   "outputs": [],
   "source": [
    "tokenizer = tfds.deprecated.text.SubwordTextEncoder.build_from_corpus(questions + answers, target_vocab_size=2**13)\n",
    "\n",
    "START_TOKEN, END_TOKEN = [tokenizer.vocab_size], [tokenizer.vocab_size+1]\n",
    "\n",
    "VOCAB_SIZE = tokenizer.vocab_size + 2\n",
    "\n",
    "MAX_LENGTH = 40"
   ]
  },
  {
   "cell_type": "code",
   "execution_count": 171,
   "id": "e750cceb",
   "metadata": {},
   "outputs": [
    {
     "name": "stdout",
     "output_type": "stream",
     "text": [
      "정수 인코딩 후의 문장 [650, 1934, 10, 1072, 8437, 8362, 8346, 94]\n",
      "기존 문장: 결혼해서도 설렐까\n",
      "650 ----> 결혼\n",
      "1934 ----> 해서\n",
      "10 ----> 도 \n",
      "1072 ----> 설\n",
      "8437 ----> �\n",
      "8362 ----> �\n",
      "8346 ----> �\n",
      "94 ----> 까\n"
     ]
    }
   ],
   "source": [
    "# 임의의 입력 문장을 sample_string에 저장\n",
    "sample_string = questions[20]\n",
    "\n",
    "# encode() : 텍스트 시퀀스 --> 정수 시퀀스\n",
    "tokenized_string = tokenizer.encode(sample_string)\n",
    "print ('정수 인코딩 후의 문장 {}'.format(tokenized_string))\n",
    "\n",
    "# decode() : 정수 시퀀스 --> 텍스트 시퀀스\n",
    "original_string = tokenizer.decode(tokenized_string)\n",
    "print ('기존 문장: {}'.format(original_string))\n",
    "\n",
    "for ts in tokenized_string:\n",
    "    print ('{} ----> {}'.format(ts, tokenizer.decode([ts])))"
   ]
  },
  {
   "cell_type": "code",
   "execution_count": 172,
   "id": "d4b8d361",
   "metadata": {},
   "outputs": [],
   "source": [
    "def tokenize_and_filter(inputs, outputs):\n",
    "    tokenized_inputs, tokenized_outputs = [], []\n",
    "    \n",
    "    for (sentence1, sentence2) in zip(inputs, outputs):\n",
    "        sentence1 = START_TOKEN + tokenizer.encode(sentence1) + END_TOKEN\n",
    "        sentence2 = START_TOKEN + tokenizer.encode(sentence2) + END_TOKEN\n",
    "        \n",
    "        if len(sentence1) <= MAX_LENGTH and len(sentence2) <= MAX_LENGTH:\n",
    "            tokenized_inputs.append(sentence1)\n",
    "            tokenized_outputs.append(sentence2)\n",
    "            \n",
    "    tokenized_inputs = tf.keras.preprocessing.sequence.pad_sequences(\n",
    "        tokenized_inputs, maxlen=MAX_LENGTH, padding='post')\n",
    "    tokenized_outputs = tf.keras.preprocessing.sequence.pad_sequences(\n",
    "        tokenized_outputs, maxlen=MAX_LENGTH, padding='post')\n",
    "    \n",
    "    return tokenized_inputs, tokenized_outputs"
   ]
  },
  {
   "cell_type": "code",
   "execution_count": 173,
   "id": "7845853f",
   "metadata": {},
   "outputs": [
    {
     "name": "stdout",
     "output_type": "stream",
     "text": [
      "단어장의 크기 : 8460\n",
      "필터링 후의 질문 샘플 개수: 35469\n",
      "필터링 후의 답변 샘플 개수: 35469\n"
     ]
    }
   ],
   "source": [
    "questions, answers = tokenize_and_filter(questions, answers)\n",
    "print('단어장의 크기 :',(VOCAB_SIZE))\n",
    "print('필터링 후의 질문 샘플 개수: {}'.format(len(questions)))\n",
    "print('필터링 후의 답변 샘플 개수: {}'.format(len(answers)))"
   ]
  },
  {
   "cell_type": "code",
   "execution_count": 174,
   "id": "0f4d6702",
   "metadata": {},
   "outputs": [],
   "source": [
    "BATCH_SIZE = 64\n",
    "BUFFER_SIZE = 20000\n",
    "\n",
    "dataset = tf.data.Dataset.from_tensor_slices((\n",
    "    {\n",
    "        'inputs': questions,\n",
    "        'dec_inputs': answers[:, :-1] \n",
    "    },\n",
    "    {\n",
    "        'outputs': answers[:, 1:]\n",
    "    }))\n",
    "\n",
    "\n",
    "dataset = dataset.cache()\n",
    "dataset = dataset.shuffle(BUFFER_SIZE)\n",
    "dataset = dataset.batch(BATCH_SIZE)\n",
    "dataset = dataset.prefetch(tf.data.experimental.AUTOTUNE)"
   ]
  },
  {
   "cell_type": "markdown",
   "id": "88f1201f",
   "metadata": {},
   "source": [
    "    트랜스포머 모델 정의"
   ]
  },
  {
   "cell_type": "code",
   "execution_count": 175,
   "id": "02477623",
   "metadata": {},
   "outputs": [],
   "source": [
    "def transformer(vocab_size, num_layers, units, d_model, num_heads, dropout, max_length, name='transformer'):\n",
    "    inputs = tf.keras.Input(shape=(None,), name='inputs')\n",
    "    dec_inputs = tf.keras.Input(shape=(None,), name='dec_inputs')\n",
    "    \n",
    "    # 인코더 패딩\n",
    "    enc_padding_mask = tf.keras.layers.Lambda(\n",
    "        create_padding_mask, output_shape = (1, 1, None),\n",
    "        name='enc_padding_mask')(inputs)\n",
    "    # 디코더 패딩, 셀프어텐션부분\n",
    "    look_ahead_mask = tf.keras.layers.Lambda(\n",
    "        create_look_ahead_mask,\n",
    "        output_shape=(1, None, None),\n",
    "        name='look_ahead_mask')(dec_inputs)\n",
    "    # 디코더 패딩, 크로스어텐션부분\n",
    "    # dec_padding_mask의 input이 인코더패딩의 input과 같은 이유?\n",
    "    # 디코더의 크로스 어텐션 레이어가 인코더 출력의 패딩 토큰을 무시하기 위해 필요하기 때문\n",
    "    dec_padding_mask = tf.keras.layers.Lambda(\n",
    "        create_padding_mask, output_shape=(1, 1, None),\n",
    "        name='dec_padding_mask')(inputs)\n",
    "    \n",
    "    # 인코더\n",
    "    enc_outputs = encoder(\n",
    "        vocab_size=vocab_size,\n",
    "        num_layers=num_layers,\n",
    "        units=units,\n",
    "        d_model=d_model,\n",
    "        num_heads=num_heads,\n",
    "        dropout=dropout,\n",
    "        max_legnth=max_length)(inputs=[inputs, enc_padding_mask])\n",
    "    \n",
    "    # 디코더\n",
    "    dec_outputs = decoder(\n",
    "        vocab_size=vocab_size,\n",
    "        num_layers=num_layers,\n",
    "        units=units,\n",
    "        d_model=d_model,\n",
    "        num_heads=num_heads,\n",
    "        dropout=dropout,\n",
    "        max_legnth=max_length)(inputs=[dec_inputs, enc_outputs, look_ahead_mask, dec_padding_mask])\n",
    "    \n",
    "    outputs = tf.keras.layers.Dense(units=vocab_size, name=\"outputs\")(dec_outputs)\n",
    "    \n",
    "    return tf.keras.Model(inputs=[inputs, dec_inputs], outputs=outputs, name=name)\n",
    "    "
   ]
  },
  {
   "cell_type": "markdown",
   "id": "08b2ae80",
   "metadata": {},
   "source": [
    "    모델 생성"
   ]
  },
  {
   "cell_type": "code",
   "execution_count": 176,
   "id": "5ade1a5c",
   "metadata": {},
   "outputs": [
    {
     "name": "stdout",
     "output_type": "stream",
     "text": [
      "Model: \"transformer\"\n",
      "__________________________________________________________________________________________________\n",
      "Layer (type)                    Output Shape         Param #     Connected to                     \n",
      "==================================================================================================\n",
      "inputs (InputLayer)             [(None, None)]       0                                            \n",
      "__________________________________________________________________________________________________\n",
      "dec_inputs (InputLayer)         [(None, None)]       0                                            \n",
      "__________________________________________________________________________________________________\n",
      "enc_padding_mask (Lambda)       (None, 1, 1, None)   0           inputs[0][0]                     \n",
      "__________________________________________________________________________________________________\n",
      "encoder (Functional)            (None, None, 256)    3219968     inputs[0][0]                     \n",
      "                                                                 enc_padding_mask[0][0]           \n",
      "__________________________________________________________________________________________________\n",
      "look_ahead_mask (Lambda)        (None, 1, None, None 0           dec_inputs[0][0]                 \n",
      "__________________________________________________________________________________________________\n",
      "dec_padding_mask (Lambda)       (None, 1, 1, None)   0           inputs[0][0]                     \n",
      "__________________________________________________________________________________________________\n",
      "decoder (Functional)            (None, None, 256)    3747328     dec_inputs[0][0]                 \n",
      "                                                                 encoder[0][0]                    \n",
      "                                                                 look_ahead_mask[0][0]            \n",
      "                                                                 dec_padding_mask[0][0]           \n",
      "__________________________________________________________________________________________________\n",
      "outputs (Dense)                 (None, None, 8460)   2174220     decoder[0][0]                    \n",
      "==================================================================================================\n",
      "Total params: 9,141,516\n",
      "Trainable params: 9,141,516\n",
      "Non-trainable params: 0\n",
      "__________________________________________________________________________________________________\n"
     ]
    }
   ],
   "source": [
    "tf.keras.backend.clear_session()\n",
    "\n",
    "# 하이퍼파라미터\n",
    "NUM_LAYERS = 2 # 인코더와 디코더의 층의 개수\n",
    "D_MODEL = 256 # 인코더와 디코더 내부의 입, 출력의 고정 차원\n",
    "NUM_HEADS = 8 # 멀티 헤드 어텐션에서의 헤드 수 \n",
    "UNITS = 512 # 피드 포워드 신경망의 은닉층의 크기\n",
    "DROPOUT = 0.1 # 드롭아웃의 비율\n",
    "MAX_LENGTH = 40\n",
    "\n",
    "model = transformer(\n",
    "    vocab_size=VOCAB_SIZE,\n",
    "    num_layers=NUM_LAYERS,\n",
    "    units=UNITS,\n",
    "    d_model=D_MODEL,\n",
    "    num_heads=NUM_HEADS,\n",
    "    dropout=DROPOUT,\n",
    "    max_length = MAX_LENGTH)\n",
    "\n",
    "model.summary()"
   ]
  },
  {
   "cell_type": "markdown",
   "id": "1a546838",
   "metadata": {},
   "source": [
    "    손실 함수"
   ]
  },
  {
   "cell_type": "code",
   "execution_count": 177,
   "id": "1371206e",
   "metadata": {},
   "outputs": [],
   "source": [
    "def loss_function(y_true, y_pred):\n",
    "    # y_true를 (배치*시퀀스 길이) 형태로 재구성\n",
    "    # MAX_LENGTH - 1 의 이유 : 디코더 출력에서 <START> 토큰을 제외한 길이만큼 예측\n",
    "    y_true = tf.reshape(y_true, shape=(-1, MAX_LENGTH -1))\n",
    "    \n",
    "    # from_logits=True : y_pred가 softmax를 거치지 않았음을 명시\n",
    "    loss = tf.keras.losses.SparseCategoricalCrossentropy(\n",
    "        from_logits=True, reduction='none')(y_true, y_pred)\n",
    "    \n",
    "    # 패딩 토큰 위치를 마스킹하는 mask\n",
    "    mask  = tf.cast(tf.not_equal(y_true, 0), tf.float32)\n",
    "    # 각 위치별 손실에 마스크를 곱해 패딩위치의 손실을 0으로\n",
    "    loss = tf.multiply(loss, mask)\n",
    "    # 전체 손실의 평균값 반환\n",
    "    return tf.reduce_mean(loss)"
   ]
  },
  {
   "cell_type": "code",
   "execution_count": 178,
   "id": "98a254f6",
   "metadata": {},
   "outputs": [],
   "source": [
    "class CustomSchedule(tf.keras.optimizers.schedules.LearningRateSchedule):\n",
    "\n",
    "    def __init__(self, d_model, warmup_steps=4000):\n",
    "        super(CustomSchedule, self).__init__()\n",
    "\n",
    "        self.d_model = d_model\n",
    "        self.d_model = tf.cast(self.d_model, tf.float32)\n",
    "\n",
    "        self.warmup_steps = warmup_steps\n",
    "\n",
    "    def __call__(self, step):\n",
    "        arg1 = tf.math.rsqrt(step)\n",
    "        arg2 = step * (self.warmup_steps**-1.5)\n",
    "\n",
    "        return tf.math.rsqrt(self.d_model) * tf.math.minimum(arg1, arg2)"
   ]
  },
  {
   "cell_type": "code",
   "execution_count": 179,
   "id": "e9566b7f",
   "metadata": {},
   "outputs": [
    {
     "data": {
      "text/plain": [
       "Text(0.5, 0, 'Train Step')"
      ]
     },
     "execution_count": 179,
     "metadata": {},
     "output_type": "execute_result"
    },
    {
     "data": {
      "image/png": "[encoded data removed]",
      "text/plain": [
       "<Figure size 432x288 with 1 Axes>"
      ]
     },
     "metadata": {
      "needs_background": "light"
     },
     "output_type": "display_data"
    }
   ],
   "source": [
    "sample_learning_rate = CustomSchedule(d_model=128)\n",
    "\n",
    "plt.plot(sample_learning_rate(tf.range(200000, dtype=tf.float32)))\n",
    "plt.ylabel(\"Learning Rate\")\n",
    "plt.xlabel(\"Train Step\")"
   ]
  },
  {
   "cell_type": "code",
   "execution_count": 180,
   "id": "bf00e02e",
   "metadata": {},
   "outputs": [],
   "source": [
    "learning_rate = CustomSchedule(D_MODEL)\n",
    "\n",
    "optimizer = tf.keras.optimizers.Adam(\n",
    "    learning_rate, beta_1=0.9, beta_2=0.98, epsilon=1e-9)\n",
    "\n",
    "def accuracy(y_true, y_pred):\n",
    "    y_true = tf.reshape(y_true, shape=(-1, MAX_LENGTH - 1))\n",
    "    return tf.keras.metrics.sparse_categorical_accuracy(y_true, y_pred)\n",
    "\n",
    "model.compile(optimizer=optimizer, loss=loss_function, metrics=[accuracy])"
   ]
  },
  {
   "cell_type": "code",
   "execution_count": 181,
   "id": "7c6c6566",
   "metadata": {},
   "outputs": [
    {
     "name": "stdout",
     "output_type": "stream",
     "text": [
      "Epoch 1/50\n",
      "555/555 [==============================] - 37s 56ms/step - loss: 1.1248 - accuracy: 0.0238\n",
      "Epoch 2/50\n",
      "555/555 [==============================] - 31s 56ms/step - loss: 0.8688 - accuracy: 0.0334\n",
      "Epoch 3/50\n",
      "555/555 [==============================] - 31s 56ms/step - loss: 0.6768 - accuracy: 0.0512\n",
      "Epoch 4/50\n",
      "555/555 [==============================] - 32s 57ms/step - loss: 0.4650 - accuracy: 0.0751\n",
      "Epoch 5/50\n",
      "555/555 [==============================] - 32s 57ms/step - loss: 0.2702 - accuracy: 0.1009\n",
      "Epoch 6/50\n",
      "555/555 [==============================] - 32s 58ms/step - loss: 0.1436 - accuracy: 0.1209\n",
      "Epoch 7/50\n",
      "555/555 [==============================] - 32s 58ms/step - loss: 0.0875 - accuracy: 0.1307\n",
      "Epoch 8/50\n",
      "555/555 [==============================] - 32s 58ms/step - loss: 0.0648 - accuracy: 0.1349\n",
      "Epoch 9/50\n",
      "555/555 [==============================] - 32s 58ms/step - loss: 0.0443 - accuracy: 0.1396\n",
      "Epoch 10/50\n",
      "555/555 [==============================] - 33s 59ms/step - loss: 0.0322 - accuracy: 0.1425\n",
      "Epoch 11/50\n",
      "555/555 [==============================] - 33s 59ms/step - loss: 0.0247 - accuracy: 0.1443\n",
      "Epoch 12/50\n",
      "555/555 [==============================] - 33s 59ms/step - loss: 0.0203 - accuracy: 0.1454\n",
      "Epoch 13/50\n",
      "555/555 [==============================] - 33s 59ms/step - loss: 0.0168 - accuracy: 0.1463\n",
      "Epoch 14/50\n",
      "555/555 [==============================] - 33s 59ms/step - loss: 0.0145 - accuracy: 0.1470\n",
      "Epoch 15/50\n",
      "555/555 [==============================] - 33s 59ms/step - loss: 0.0121 - accuracy: 0.1475\n",
      "Epoch 16/50\n",
      "555/555 [==============================] - 33s 59ms/step - loss: 0.0109 - accuracy: 0.1479\n",
      "Epoch 17/50\n",
      "555/555 [==============================] - 33s 59ms/step - loss: 0.0095 - accuracy: 0.1482\n",
      "Epoch 18/50\n",
      "555/555 [==============================] - 33s 59ms/step - loss: 0.0085 - accuracy: 0.1485\n",
      "Epoch 19/50\n",
      "555/555 [==============================] - 33s 59ms/step - loss: 0.0078 - accuracy: 0.1487\n",
      "Epoch 20/50\n",
      "555/555 [==============================] - 33s 59ms/step - loss: 0.0069 - accuracy: 0.1489\n",
      "Epoch 21/50\n",
      "555/555 [==============================] - 33s 59ms/step - loss: 0.0065 - accuracy: 0.1490\n",
      "Epoch 22/50\n",
      "555/555 [==============================] - 33s 59ms/step - loss: 0.0059 - accuracy: 0.1491\n",
      "Epoch 23/50\n",
      "555/555 [==============================] - 34s 61ms/step - loss: 0.0055 - accuracy: 0.1492\n",
      "Epoch 24/50\n",
      "555/555 [==============================] - 42s 75ms/step - loss: 0.0050 - accuracy: 0.1493\n",
      "Epoch 25/50\n",
      "555/555 [==============================] - 44s 80ms/step - loss: 0.0048 - accuracy: 0.1494\n",
      "Epoch 26/50\n",
      "555/555 [==============================] - 44s 80ms/step - loss: 0.0046 - accuracy: 0.1494\n",
      "Epoch 27/50\n",
      "555/555 [==============================] - 45s 81ms/step - loss: 0.0042 - accuracy: 0.1495\n",
      "Epoch 28/50\n",
      "555/555 [==============================] - 36s 65ms/step - loss: 0.0040 - accuracy: 0.1496\n",
      "Epoch 29/50\n",
      "555/555 [==============================] - 33s 60ms/step - loss: 0.0036 - accuracy: 0.1496\n",
      "Epoch 30/50\n",
      "555/555 [==============================] - 33s 59ms/step - loss: 0.0038 - accuracy: 0.1496\n",
      "Epoch 31/50\n",
      "555/555 [==============================] - 33s 59ms/step - loss: 0.0034 - accuracy: 0.1497\n",
      "Epoch 32/50\n",
      "555/555 [==============================] - 33s 59ms/step - loss: 0.0033 - accuracy: 0.1497\n",
      "Epoch 33/50\n",
      "555/555 [==============================] - 33s 59ms/step - loss: 0.0032 - accuracy: 0.1497\n",
      "Epoch 34/50\n",
      "555/555 [==============================] - 33s 59ms/step - loss: 0.0030 - accuracy: 0.1498\n",
      "Epoch 35/50\n",
      "555/555 [==============================] - 33s 59ms/step - loss: 0.0029 - accuracy: 0.1498\n",
      "Epoch 36/50\n",
      "555/555 [==============================] - 33s 59ms/step - loss: 0.0027 - accuracy: 0.1498\n",
      "Epoch 37/50\n",
      "555/555 [==============================] - 33s 59ms/step - loss: 0.0029 - accuracy: 0.1498\n",
      "Epoch 38/50\n",
      "555/555 [==============================] - 33s 59ms/step - loss: 0.0027 - accuracy: 0.1498\n",
      "Epoch 39/50\n",
      "555/555 [==============================] - 33s 59ms/step - loss: 0.0025 - accuracy: 0.1498\n",
      "Epoch 40/50\n",
      "555/555 [==============================] - 33s 59ms/step - loss: 0.0025 - accuracy: 0.1499\n",
      "Epoch 41/50\n",
      "555/555 [==============================] - 33s 59ms/step - loss: 0.0023 - accuracy: 0.1499\n",
      "Epoch 42/50\n",
      "555/555 [==============================] - 33s 59ms/step - loss: 0.0023 - accuracy: 0.1499\n",
      "Epoch 43/50\n",
      "555/555 [==============================] - 33s 59ms/step - loss: 0.0021 - accuracy: 0.1499\n",
      "Epoch 44/50\n",
      "555/555 [==============================] - 33s 59ms/step - loss: 0.0021 - accuracy: 0.1499\n",
      "Epoch 45/50\n",
      "555/555 [==============================] - 33s 59ms/step - loss: 0.0021 - accuracy: 0.1499\n",
      "Epoch 46/50\n",
      "555/555 [==============================] - 33s 59ms/step - loss: 0.0020 - accuracy: 0.1500\n",
      "Epoch 47/50\n",
      "555/555 [==============================] - 33s 59ms/step - loss: 0.0020 - accuracy: 0.1500\n",
      "Epoch 48/50\n",
      "555/555 [==============================] - 33s 59ms/step - loss: 0.0019 - accuracy: 0.1500\n",
      "Epoch 49/50\n",
      "555/555 [==============================] - 33s 59ms/step - loss: 0.0019 - accuracy: 0.1500\n",
      "Epoch 50/50\n",
      "555/555 [==============================] - 33s 59ms/step - loss: 0.0019 - accuracy: 0.1500\n"
     ]
    }
   ],
   "source": [
    "EPOCHS = 50\n",
    "history = model.fit(dataset, epochs=EPOCHS, verbose=1)"
   ]
  },
  {
   "cell_type": "code",
   "execution_count": 182,
   "id": "7ae7ac72",
   "metadata": {},
   "outputs": [
    {
     "data": {
      "image/png": "[encoded data removed]",
      "text/plain": [
       "<Figure size 864x360 with 2 Axes>"
      ]
     },
     "metadata": {
      "needs_background": "light"
     },
     "output_type": "display_data"
    }
   ],
   "source": [
    "# 학습 과정 시각화\n",
    "plt.figure(figsize=(12, 5))\n",
    "\n",
    "plt.subplot(1, 2, 1)\n",
    "plt.plot(history.history['loss'], label='Train Loss')\n",
    "plt.title('Model Loss')\n",
    "plt.xlabel('Epoch')\n",
    "plt.ylabel('Loss')\n",
    "plt.legend()\n",
    "\n",
    "plt.subplot(1, 2, 2)\n",
    "plt.plot(history.history['accuracy'], label='Train Accuracy')\n",
    "plt.title('Model Accuracy')\n",
    "plt.xlabel('Epoch')\n",
    "plt.ylabel('Accuracy')\n",
    "plt.legend()\n",
    "\n",
    "plt.tight_layout()\n",
    "plt.show()"
   ]
  },
  {
   "cell_type": "code",
   "execution_count": 189,
   "id": "79bab2b5",
   "metadata": {},
   "outputs": [],
   "source": [
    "def decoder_inference(sentence):\n",
    "    sentence = preprocess_sentence(sentence)\n",
    "    # 입력된 문장을 정수 인코딩 후, 시작 토큰과 종료 토큰을 앞뒤로 추가.\n",
    "    # ex) Where have you been? → [[8331   86   30    5 1059    7 8332]]\n",
    "    sentence = tf.expand_dims(\n",
    "          START_TOKEN + tokenizer.encode(sentence) + END_TOKEN, axis=0)\n",
    "\n",
    "    # 디코더의 현재까지의 예측한 출력 시퀀스가 지속적으로 저장되는 변수.\n",
    "    # 처음에는 예측한 내용이 없음으로 시작 토큰만 별도 저장. ex) 8331\n",
    "    output_sequence = tf.expand_dims(START_TOKEN, 0)\n",
    "\n",
    "      # 디코더의 인퍼런스 단계\n",
    "    for i in range(MAX_LENGTH):\n",
    "        # 디코더는 최대 MAX_LENGTH의 길이만큼 다음 단어 예측을 반복합니다.\n",
    "        predictions = model(inputs=[sentence, output_sequence], training=False)\n",
    "        predictions = predictions[:, -1:, :]\n",
    "\n",
    "        # 현재 예측한 단어의 정수\n",
    "        predicted_id = tf.cast(tf.argmax(predictions, axis=-1), tf.int32)\n",
    "\n",
    "        # 만약 현재 예측한 단어가 종료 토큰이라면 for문을 종료\n",
    "        if tf.equal(predicted_id, END_TOKEN[0]):\n",
    "            break\n",
    "\n",
    "        # 예측한 단어들은 지속적으로 output_sequence에 추가됩니다.\n",
    "        # 이 output_sequence는 다시 디코더의 입력이 됩니다.\n",
    "        output_sequence = tf.concat([output_sequence, predicted_id], axis=-1)\n",
    "\n",
    "    return tf.squeeze(output_sequence, axis=0)"
   ]
  },
  {
   "cell_type": "code",
   "execution_count": 190,
   "id": "4841076b",
   "metadata": {},
   "outputs": [],
   "source": [
    "def sentence_generation(sentence):\n",
    "    # 입력 문장에 대해서 디코더를 동작 시켜 예측된 정수 시퀀스를 리턴받습니다.\n",
    "    prediction = decoder_inference(sentence)\n",
    "\n",
    "    # 정수 시퀀스를 다시 텍스트 시퀀스로 변환합니다.\n",
    "    predicted_sentence = tokenizer.decode(\n",
    "      [i for i in prediction if i < tokenizer.vocab_size])\n",
    "\n",
    "    print('입력 : {}'.format(sentence))\n",
    "    print('출력 : {}'.format(predicted_sentence))\n",
    "\n",
    "    return predicted_sentence"
   ]
  },
  {
   "cell_type": "code",
   "execution_count": 209,
   "id": "3fc41cef",
   "metadata": {},
   "outputs": [
    {
     "name": "stdout",
     "output_type": "stream",
     "text": [
      "입력 : 영화볼래?\n",
      "출력 : 최신 영화가 좋을 것 같아요\n"
     ]
    },
    {
     "data": {
      "text/plain": [
       "'최신 영화가 좋을 것 같아요'"
      ]
     },
     "execution_count": 209,
     "metadata": {},
     "output_type": "execute_result"
    }
   ],
   "source": [
    "sentence_generation(\"영화볼래?\")"
   ]
  },
  {
   "cell_type": "code",
   "execution_count": 208,
   "id": "c41759d5",
   "metadata": {},
   "outputs": [
    {
     "name": "stdout",
     "output_type": "stream",
     "text": [
      "입력 : 자연어처리 공부를 해야지\n",
      "출력 : 하나씩 해보세요\n"
     ]
    },
    {
     "data": {
      "text/plain": [
       "'하나씩 해보세요'"
      ]
     },
     "execution_count": 208,
     "metadata": {},
     "output_type": "execute_result"
    }
   ],
   "source": [
    "sentence_generation(\"자연어처리 공부를 해야지\")"
   ]
  },
  {
   "cell_type": "code",
   "execution_count": 193,
   "id": "60c8f85b",
   "metadata": {},
   "outputs": [
    {
     "name": "stdout",
     "output_type": "stream",
     "text": [
      "입력 : 점심 뭐 먹을까?\n",
      "출력 : 맛있는 거 드세요\n"
     ]
    },
    {
     "data": {
      "text/plain": [
       "'맛있는 거 드세요'"
      ]
     },
     "execution_count": 193,
     "metadata": {},
     "output_type": "execute_result"
    }
   ],
   "source": [
    "sentence_generation(\"점심 뭐 먹을까?\")"
   ]
  },
  {
   "cell_type": "code",
   "execution_count": 194,
   "id": "4f5cfb46",
   "metadata": {},
   "outputs": [
    {
     "name": "stdout",
     "output_type": "stream",
     "text": [
      "입력 : 심심해\n",
      "출력 : 친구들과 연락해보세요\n"
     ]
    },
    {
     "data": {
      "text/plain": [
       "'친구들과 연락해보세요'"
      ]
     },
     "execution_count": 194,
     "metadata": {},
     "output_type": "execute_result"
    }
   ],
   "source": [
    "sentence_generation(\"심심해\")"
   ]
  },
  {
   "cell_type": "code",
   "execution_count": null,
   "id": "38a62d2a",
   "metadata": {},
   "outputs": [],
   "source": [
    "from tensorflow.keras.callbacks import EarlyStopping\n",
    "\n",
    "early_stopping = EarlyStopping(\n",
    "    monitor='loss',  # 또는 'val_loss' (validation 데이터가 있을 경우)\n",
    "    patience=3,\n",
    "    restore_best_weights=True\n",
    ")\n",
    "\n",
    "DROPOUT = 0.3 # 드롭아웃의 비율\n",
    "\n",
    "model = transformer(\n",
    "    vocab_size=VOCAB_SIZE,\n",
    "    num_layers=NUM_LAYERS,\n",
    "    units=UNITS,\n",
    "    d_model=D_MODEL,\n",
    "    num_heads=NUM_HEADS,\n",
    "    dropout=DROPOUT,\n",
    "    max_length = MAX_LENGTH)\n",
    "\n",
    "model.summary()\n",
    "\n",
    "learning_rate = CustomSchedule(D_MODEL)\n",
    "\n",
    "optimizer = tf.keras.optimizers.Adam(\n",
    "    learning_rate, beta_1=0.9, beta_2=0.98, epsilon=1e-9)\n",
    "\n",
    "model.compile(optimizer=optimizer, loss=loss_function, metrics=[accuracy])"
   ]
  },
  {
   "cell_type": "code",
   "execution_count": null,
   "id": "d0d522c6",
   "metadata": {},
   "outputs": [],
   "source": [
    "EPOCHS = 50\n",
    "history = model.fit(dataset, epochs=EPOCHS, verbose=1, callbacks=[early_stopping])"
   ]
  }
 ],
 "metadata": {
  "kernelspec": {
   "display_name": "Python 3 (ipykernel)",
   "language": "python",
   "name": "python3"
  },
  "language_info": {
   "codemirror_mode": {
    "name": "ipython",
    "version": 3
   },
   "file_extension": ".py",
   "mimetype": "text/x-python",
   "name": "python",
   "nbconvert_exporter": "python",
   "pygments_lexer": "ipython3",
   "version": "3.9.7"
  }
 },
 "nbformat": 4,
 "nbformat_minor": 5
}
