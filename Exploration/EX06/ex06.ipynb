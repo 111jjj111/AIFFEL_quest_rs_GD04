{
 "cells": [
  {
   "cell_type": "code",
   "execution_count": 2,
   "id": "379a55ac",
   "metadata": {},
   "outputs": [
    {
     "name": "stdout",
     "output_type": "stream",
     "text": [
      "3.6.5\n",
      "2.6.0\n",
      "1.3.3\n",
      "1.2.0\n"
     ]
    }
   ],
   "source": [
    "from importlib.metadata import version\n",
    "import nltk\n",
    "import tensorflow\n",
    "import summa\n",
    "import pandas as pd\n",
    "import numpy as np\n",
    "import pandas as pd\n",
    "import os\n",
    "import re\n",
    "import matplotlib.pyplot as plt\n",
    "from nltk.corpus import stopwords\n",
    "from bs4 import BeautifulSoup \n",
    "from tensorflow.keras.preprocessing.text import Tokenizer \n",
    "from tensorflow.keras.preprocessing.sequence import pad_sequences\n",
    "import urllib.request\n",
    "\n",
    "\n",
    "print(nltk.__version__)\n",
    "print(tensorflow.__version__)\n",
    "print(pd.__version__)\n",
    "print(version('summa'))"
   ]
  },
  {
   "cell_type": "code",
   "execution_count": 276,
   "id": "c14b8ecd",
   "metadata": {},
   "outputs": [],
   "source": [
    "import urllib.request\n",
    "urllib.request.urlretrieve(\"https://raw.githubusercontent.com/sunnysai12345/News_Summary/master/news_summary_more.csv\", filename=\"news_summary_more.csv\")\n",
    "data = pd.read_csv('news_summary_more.csv', encoding='iso-8859-1')"
   ]
  },
  {
   "cell_type": "code",
   "execution_count": 277,
   "id": "6c064f06",
   "metadata": {},
   "outputs": [
    {
     "data": {
      "text/html": [
       "<div>\n",
       "<style scoped>\n",
       "    .dataframe tbody tr th:only-of-type {\n",
       "        vertical-align: middle;\n",
       "    }\n",
       "\n",
       "    .dataframe tbody tr th {\n",
       "        vertical-align: top;\n",
       "    }\n",
       "\n",
       "    .dataframe thead th {\n",
       "        text-align: right;\n",
       "    }\n",
       "</style>\n",
       "<table border=\"1\" class=\"dataframe\">\n",
       "  <thead>\n",
       "    <tr style=\"text-align: right;\">\n",
       "      <th></th>\n",
       "      <th>headlines</th>\n",
       "      <th>text</th>\n",
       "    </tr>\n",
       "  </thead>\n",
       "  <tbody>\n",
       "    <tr>\n",
       "      <th>29545</th>\n",
       "      <td>Heat wave to continue in Delhi-NCR till May 27...</td>\n",
       "      <td>The India Meteorological Department (IMD) scie...</td>\n",
       "    </tr>\n",
       "    <tr>\n",
       "      <th>94228</th>\n",
       "      <td>First UK-China freight train departs on Monday</td>\n",
       "      <td>The first rail freight service from UK to Chin...</td>\n",
       "    </tr>\n",
       "    <tr>\n",
       "      <th>11639</th>\n",
       "      <td>Doordarshan cameraman's family to get Ã¢ÂÂ¹15...</td>\n",
       "      <td>Information and Broadcasting Minister Rajyavar...</td>\n",
       "    </tr>\n",
       "    <tr>\n",
       "      <th>82995</th>\n",
       "      <td>Patna Police officers play games, browse net d...</td>\n",
       "      <td>Two Patna Police officers were caught playing ...</td>\n",
       "    </tr>\n",
       "    <tr>\n",
       "      <th>26708</th>\n",
       "      <td>Jeremy Hunt appointed new UK Foreign Secretary</td>\n",
       "      <td>British Prime Minister Theresa May on Monday a...</td>\n",
       "    </tr>\n",
       "    <tr>\n",
       "      <th>30234</th>\n",
       "      <td>Rishi tweets royal wedding video dubbed using ...</td>\n",
       "      <td>Rishi Kapoor tweeted a video of Prince Harry a...</td>\n",
       "    </tr>\n",
       "    <tr>\n",
       "      <th>19852</th>\n",
       "      <td>SC judges sing to raise funds for Kerala flood...</td>\n",
       "      <td>Supreme Court judges Kurian Joseph and KM Jose...</td>\n",
       "    </tr>\n",
       "    <tr>\n",
       "      <th>27861</th>\n",
       "      <td>'Sanju' records highest day 2 earnings in Boll...</td>\n",
       "      <td>With earnings of Ã¢ÂÂ¹38.60 crore on the seco...</td>\n",
       "    </tr>\n",
       "    <tr>\n",
       "      <th>20798</th>\n",
       "      <td>Asiad champs Bajrang, Vinesh to get Ã¢ÂÂ¹3 cr...</td>\n",
       "      <td>Wrestler Vinesh Phogat, who became the first I...</td>\n",
       "    </tr>\n",
       "    <tr>\n",
       "      <th>39067</th>\n",
       "      <td>IBC amendments to eliminate 'fly by night' rea...</td>\n",
       "      <td>Finance Minister Arun Jaitley has said the ame...</td>\n",
       "    </tr>\n",
       "  </tbody>\n",
       "</table>\n",
       "</div>"
      ],
      "text/plain": [
       "                                               headlines  \\\n",
       "29545  Heat wave to continue in Delhi-NCR till May 27...   \n",
       "94228     First UK-China freight train departs on Monday   \n",
       "11639  Doordarshan cameraman's family to get Ã¢ÂÂ¹15...   \n",
       "82995  Patna Police officers play games, browse net d...   \n",
       "26708     Jeremy Hunt appointed new UK Foreign Secretary   \n",
       "30234  Rishi tweets royal wedding video dubbed using ...   \n",
       "19852  SC judges sing to raise funds for Kerala flood...   \n",
       "27861  'Sanju' records highest day 2 earnings in Boll...   \n",
       "20798  Asiad champs Bajrang, Vinesh to get Ã¢ÂÂ¹3 cr...   \n",
       "39067  IBC amendments to eliminate 'fly by night' rea...   \n",
       "\n",
       "                                                    text  \n",
       "29545  The India Meteorological Department (IMD) scie...  \n",
       "94228  The first rail freight service from UK to Chin...  \n",
       "11639  Information and Broadcasting Minister Rajyavar...  \n",
       "82995  Two Patna Police officers were caught playing ...  \n",
       "26708  British Prime Minister Theresa May on Monday a...  \n",
       "30234  Rishi Kapoor tweeted a video of Prince Harry a...  \n",
       "19852  Supreme Court judges Kurian Joseph and KM Jose...  \n",
       "27861  With earnings of Ã¢ÂÂ¹38.60 crore on the seco...  \n",
       "20798  Wrestler Vinesh Phogat, who became the first I...  \n",
       "39067  Finance Minister Arun Jaitley has said the ame...  "
      ]
     },
     "execution_count": 277,
     "metadata": {},
     "output_type": "execute_result"
    }
   ],
   "source": [
    "data.sample(10)"
   ]
  },
  {
   "cell_type": "code",
   "execution_count": 278,
   "id": "77b34380",
   "metadata": {},
   "outputs": [
    {
     "name": "stdout",
     "output_type": "stream",
     "text": [
      "전체 샘플수 : 98401\n",
      "전체 샘플수 : 98360\n",
      "전체 샘플수 : 98360\n"
     ]
    }
   ],
   "source": [
    "print('전체 샘플수 :', (len(data)))\n",
    "data.drop_duplicates(subset = ['text'], inplace=True)\n",
    "print('전체 샘플수 :', (len(data)))\n",
    "\n",
    "data.dropna(axis=0, inplace=True)\n",
    "print('전체 샘플수 :', (len(data)))"
   ]
  },
  {
   "cell_type": "code",
   "execution_count": 279,
   "id": "de93508c",
   "metadata": {},
   "outputs": [
    {
     "name": "stdout",
     "output_type": "stream",
     "text": [
      "정규화 사전의 수:  120\n"
     ]
    }
   ],
   "source": [
    "contractions = {\"ain't\": \"is not\", \"aren't\": \"are not\",\"can't\": \"cannot\", \"'cause\": \"because\", \"could've\": \"could have\", \"couldn't\": \"could not\",\n",
    "                           \"didn't\": \"did not\",  \"doesn't\": \"does not\", \"don't\": \"do not\", \"hadn't\": \"had not\", \"hasn't\": \"has not\", \"haven't\": \"have not\",\n",
    "                           \"he'd\": \"he would\",\"he'll\": \"he will\", \"he's\": \"he is\", \"how'd\": \"how did\", \"how'd'y\": \"how do you\", \"how'll\": \"how will\", \"how's\": \"how is\",\n",
    "                           \"I'd\": \"I would\", \"I'd've\": \"I would have\", \"I'll\": \"I will\", \"I'll've\": \"I will have\",\"I'm\": \"I am\", \"I've\": \"I have\", \"i'd\": \"i would\",\n",
    "                           \"i'd've\": \"i would have\", \"i'll\": \"i will\",  \"i'll've\": \"i will have\",\"i'm\": \"i am\", \"i've\": \"i have\", \"isn't\": \"is not\", \"it'd\": \"it would\",\n",
    "                           \"it'd've\": \"it would have\", \"it'll\": \"it will\", \"it'll've\": \"it will have\",\"it's\": \"it is\", \"let's\": \"let us\", \"ma'am\": \"madam\",\n",
    "                           \"mayn't\": \"may not\", \"might've\": \"might have\",\"mightn't\": \"might not\",\"mightn't've\": \"might not have\", \"must've\": \"must have\",\n",
    "                           \"mustn't\": \"must not\", \"mustn't've\": \"must not have\", \"needn't\": \"need not\", \"needn't've\": \"need not have\",\"o'clock\": \"of the clock\",\n",
    "                           \"oughtn't\": \"ought not\", \"oughtn't've\": \"ought not have\", \"shan't\": \"shall not\", \"sha'n't\": \"shall not\", \"shan't've\": \"shall not have\",\n",
    "                           \"she'd\": \"she would\", \"she'd've\": \"she would have\", \"she'll\": \"she will\", \"she'll've\": \"she will have\", \"she's\": \"she is\",\n",
    "                           \"should've\": \"should have\", \"shouldn't\": \"should not\", \"shouldn't've\": \"should not have\", \"so've\": \"so have\",\"so's\": \"so as\",\n",
    "                           \"this's\": \"this is\",\"that'd\": \"that would\", \"that'd've\": \"that would have\", \"that's\": \"that is\", \"there'd\": \"there would\",\n",
    "                           \"there'd've\": \"there would have\", \"there's\": \"there is\", \"here's\": \"here is\",\"they'd\": \"they would\", \"they'd've\": \"they would have\",\n",
    "                           \"they'll\": \"they will\", \"they'll've\": \"they will have\", \"they're\": \"they are\", \"they've\": \"they have\", \"to've\": \"to have\",\n",
    "                           \"wasn't\": \"was not\", \"we'd\": \"we would\", \"we'd've\": \"we would have\", \"we'll\": \"we will\", \"we'll've\": \"we will have\", \"we're\": \"we are\",\n",
    "                           \"we've\": \"we have\", \"weren't\": \"were not\", \"what'll\": \"what will\", \"what'll've\": \"what will have\", \"what're\": \"what are\",\n",
    "                           \"what's\": \"what is\", \"what've\": \"what have\", \"when's\": \"when is\", \"when've\": \"when have\", \"where'd\": \"where did\", \"where's\": \"where is\",\n",
    "                           \"where've\": \"where have\", \"who'll\": \"who will\", \"who'll've\": \"who will have\", \"who's\": \"who is\", \"who've\": \"who have\",\n",
    "                           \"why's\": \"why is\", \"why've\": \"why have\", \"will've\": \"will have\", \"won't\": \"will not\", \"won't've\": \"will not have\",\n",
    "                           \"would've\": \"would have\", \"wouldn't\": \"would not\", \"wouldn't've\": \"would not have\", \"y'all\": \"you all\",\n",
    "                           \"y'all'd\": \"you all would\",\"y'all'd've\": \"you all would have\",\"y'all're\": \"you all are\",\"y'all've\": \"you all have\",\n",
    "                           \"you'd\": \"you would\", \"you'd've\": \"you would have\", \"you'll\": \"you will\", \"you'll've\": \"you will have\",\n",
    "                           \"you're\": \"you are\", \"you've\": \"you have\"}\n",
    "\n",
    "print(\"정규화 사전의 수: \", len(contractions))"
   ]
  },
  {
   "cell_type": "code",
   "execution_count": 280,
   "id": "56fc573f",
   "metadata": {},
   "outputs": [],
   "source": [
    "# 데이터 전처리 함수\n",
    "def preprocess_sentence(sentence, remove_stopwords=True):\n",
    "    sentence = sentence.lower() # 텍스트 소문자화\n",
    "    sentence = BeautifulSoup(sentence, \"lxml\").text # <br />, <a href = ...> 등의 html 태그 제거\n",
    "    sentence = re.sub(r'\\([^)]*\\)', '', sentence) # 괄호로 닫힌 문자열 (...) 제거 Ex) my husband (and myself!) for => my husband for\n",
    "    sentence = re.sub('\"','', sentence) # 쌍따옴표 \" 제거\n",
    "    sentence = ' '.join([contractions[t] if t in contractions else t for t in sentence.split(\" \")]) # 약어 정규화\n",
    "    sentence = re.sub(r\"'s\\b\",\"\", sentence) # 소유격 제거. Ex) roland's -> roland\n",
    "    sentence = re.sub(\"[^a-zA-Z]\", \" \", sentence) # 영어 외 문자(숫자, 특수문자 등) 공백으로 변환\n",
    "    sentence = re.sub('[m]{2,}', 'mm', sentence) # m이 3개 이상이면 2개로 변경. Ex) ummmmmmm yeah -> umm yeah\n",
    "    \n",
    "    # 불용어 제거 (Text)\n",
    "    if remove_stopwords:\n",
    "        tokens = ' '.join(word for word in sentence.split() if not word in stopwords.words('english') if len(word) > 1)\n",
    "    # 불용어 미제거 (Summary)\n",
    "    else:\n",
    "        tokens = ' '.join(word for word in sentence.split() if len(word) > 1)\n",
    "    return tokens"
   ]
  },
  {
   "cell_type": "code",
   "execution_count": 9,
   "id": "e73ee844",
   "metadata": {},
   "outputs": [
    {
     "name": "stdout",
     "output_type": "stream",
     "text": [
      "Text 전처리 후 결과:  ['saurav kant alumnus upgrad iiit pg program machine learning artificial intelligence sr systems engineer infosys almost years work experience program upgrad degree career support helped transition data scientist tech mahindra salary hike upgrad online power learning powered lakh careers', 'kunal shah credit card bill payment platform cred gave users chance win free food swiggy one year pranav kaushik delhi techie bagged reward spending cred coins users get one cred coin per rupee bill paid used avail rewards brands like ixigo bookmyshow ubereats cult fit', 'new zealand defeated india wickets fourth odi hamilton thursday win first match five match odi series india lost international match rohit sharma captaincy consecutive victories dating back march match witnessed india getting seventh lowest total odi cricket history', 'aegon life iterm insurance plan customers enjoy tax benefits premiums paid save taxes plan provides life cover age years also customers options insure critical illnesses disability accidental death benefit rider life cover age years', 'speaking sexual harassment allegations rajkumar hirani sonam kapoor said known hirani many years true metoo movement get derailed metoo movement always believe woman case need reserve judgment added hirani accused assistant worked sanju']\n"
     ]
    }
   ],
   "source": [
    "# 전체 Text 데이터에 대한 전처리 : 10분 이상 시간이 걸릴 수 있습니다. \n",
    "clean_text = []\n",
    "for txt in data['text']:\n",
    "    clean_text.append(preprocess_sentence(txt))\n",
    "\n",
    "# 전처리 후 출력\n",
    "print(\"Text 전처리 후 결과: \", clean_text[:5])"
   ]
  },
  {
   "cell_type": "code",
   "execution_count": 11,
   "id": "fff929be",
   "metadata": {},
   "outputs": [
    {
     "name": "stdout",
     "output_type": "stream",
     "text": [
      "Headline 전처리 후 결과:  ['upgrad learner switches to career in ml al with salary hike', 'delhi techie wins free food from swiggy for one year on cred', 'new zealand end rohit sharma led india match winning streak', 'aegon life iterm insurance plan helps customers save tax', 'have known hirani for yrs what if metoo claims are not true sonam']\n"
     ]
    }
   ],
   "source": [
    "# 전체 Summary 데이터에 대한 전처리 : 5분 이상 시간이 걸릴 수 있습니다. \n",
    "clean_headlines = []\n",
    "for head in data['headlines']:\n",
    "    clean_headlines.append(preprocess_sentence(head, False))\n",
    "\n",
    "print(\"Headline 전처리 후 결과: \", clean_headlines[:5])"
   ]
  },
  {
   "cell_type": "code",
   "execution_count": 281,
   "id": "33426ae9",
   "metadata": {},
   "outputs": [],
   "source": [
    "data['clean_text'] = clean_text\n",
    "data['clean_headlines'] = clean_headlines\n",
    "\n",
    "# 빈 값을 Null 값으로 변환\n",
    "data.replace('', np.nan, inplace=True)"
   ]
  },
  {
   "cell_type": "code",
   "execution_count": 282,
   "id": "e0b4dfe6",
   "metadata": {},
   "outputs": [
    {
     "name": "stdout",
     "output_type": "stream",
     "text": [
      "98360\n"
     ]
    }
   ],
   "source": [
    "print(len(data))"
   ]
  },
  {
   "cell_type": "code",
   "execution_count": 283,
   "id": "e5d83f19",
   "metadata": {},
   "outputs": [
    {
     "name": "stdout",
     "output_type": "stream",
     "text": [
      "텍스트의 최소 길이 : 1\n",
      "텍스트의 최대 길이 : 60\n",
      "텍스트의 평균 길이 : 35.09968483123221\n",
      "제목의 최소 길이 : 1\n",
      "제목의 최대 길이 : 16\n",
      "제목의 평균 길이 : 9.299532330215534\n"
     ]
    },
    {
     "data": {
      "image/png": "[encoded data removed]",
      "text/plain": [
       "<Figure size 432x288 with 2 Axes>"
      ]
     },
     "metadata": {
      "needs_background": "light"
     },
     "output_type": "display_data"
    },
    {
     "data": {
      "image/png": "[encoded data removed]",
      "text/plain": [
       "<Figure size 432x288 with 1 Axes>"
      ]
     },
     "metadata": {
      "needs_background": "light"
     },
     "output_type": "display_data"
    },
    {
     "data": {
      "image/png": "[encoded data removed]",
      "text/plain": [
       "<Figure size 432x288 with 1 Axes>"
      ]
     },
     "metadata": {
      "needs_background": "light"
     },
     "output_type": "display_data"
    }
   ],
   "source": [
    "# 길이 분포 출력\n",
    "import matplotlib.pyplot as plt\n",
    "\n",
    "text_len = [len(s.split()) for s in data['clean_text']]\n",
    "headline_len = [len(s.split()) for s in data['clean_headlines']]\n",
    "\n",
    "print('텍스트의 최소 길이 : {}'.format(np.min(text_len)))\n",
    "print('텍스트의 최대 길이 : {}'.format(np.max(text_len)))\n",
    "print('텍스트의 평균 길이 : {}'.format(np.mean(text_len)))\n",
    "print('제목의 최소 길이 : {}'.format(np.min(headline_len)))\n",
    "print('제목의 최대 길이 : {}'.format(np.max(headline_len)))\n",
    "print('제목의 평균 길이 : {}'.format(np.mean(headline_len)))\n",
    "\n",
    "plt.subplot(1,2,1)\n",
    "plt.boxplot(text_len)\n",
    "plt.title('Text')\n",
    "plt.subplot(1,2,2)\n",
    "plt.boxplot(headline_len)\n",
    "plt.title('Headline')\n",
    "plt.tight_layout()\n",
    "plt.show()\n",
    "\n",
    "plt.title('Text')\n",
    "plt.hist(text_len, bins = 40)\n",
    "plt.xlabel('length of samples')\n",
    "plt.ylabel('number of samples')\n",
    "plt.show()\n",
    "\n",
    "plt.title('Headlines')\n",
    "plt.hist(headline_len, bins = 40)\n",
    "plt.xlabel('length of samples')\n",
    "plt.ylabel('number of samples')\n",
    "plt.show()"
   ]
  },
  {
   "cell_type": "code",
   "execution_count": 284,
   "id": "8d8ee1bf",
   "metadata": {},
   "outputs": [],
   "source": [
    "def below_threshold_len(max_len, nested_list):\n",
    "    cnt = 0\n",
    "    for s in nested_list:\n",
    "        if(len(s.split()) <= max_len):\n",
    "            cnt = cnt + 1\n",
    "    print('전체 샘플 중 길이가 %s 이하인 샘플의 개수: %s'%(max_len,cnt))\n",
    "    print('전체 샘플 중 길이가 %s 이하인 샘플의 비율: %s'%(max_len, (cnt / len(nested_list))))"
   ]
  },
  {
   "cell_type": "code",
   "execution_count": 285,
   "id": "baa7b1fd",
   "metadata": {},
   "outputs": [
    {
     "name": "stdout",
     "output_type": "stream",
     "text": [
      "전체 샘플 중 길이가 44 이하인 샘플의 개수: 97708\n",
      "전체 샘플 중 길이가 44 이하인 샘플의 비율: 0.9933712891419276\n",
      "전체 샘플 중 길이가 13 이하인 샘플의 개수: 98180\n",
      "전체 샘플 중 길이가 13 이하인 샘플의 비율: 0.9981699877999186\n"
     ]
    }
   ],
   "source": [
    "text_max_len = 44\n",
    "headline_max_len = 13\n",
    "\n",
    "below_threshold_len(text_max_len, data['clean_text'])\n",
    "below_threshold_len(headline_max_len,  data['clean_headlines'])"
   ]
  },
  {
   "cell_type": "code",
   "execution_count": 286,
   "id": "fd237d51",
   "metadata": {},
   "outputs": [
    {
     "name": "stdout",
     "output_type": "stream",
     "text": [
      "전체 샘플수 : 97528\n",
      "headlines          upGrad learner switches to career in ML & Al w...\n",
      "text               Saurav Kant, an alumnus of upGrad and IIIT-B's...\n",
      "clean_text         saurav kant alumnus upgrad iiit pg program mac...\n",
      "clean_headlines    upgrad learner switches to career in ml al wit...\n",
      "Name: 0, dtype: object\n"
     ]
    }
   ],
   "source": [
    "data = data[data['clean_text'].apply(lambda x:len(x.split())<=text_max_len) & data['clean_headlines'].apply(lambda x:len(x.split())<=headline_max_len)]\n",
    "\n",
    "print('전체 샘플수 :', (len(data)))\n",
    "print(data.iloc[0])"
   ]
  },
  {
   "cell_type": "code",
   "execution_count": 287,
   "id": "a95a89ed",
   "metadata": {},
   "outputs": [
    {
     "data": {
      "text/html": [
       "<div>\n",
       "<style scoped>\n",
       "    .dataframe tbody tr th:only-of-type {\n",
       "        vertical-align: middle;\n",
       "    }\n",
       "\n",
       "    .dataframe tbody tr th {\n",
       "        vertical-align: top;\n",
       "    }\n",
       "\n",
       "    .dataframe thead th {\n",
       "        text-align: right;\n",
       "    }\n",
       "</style>\n",
       "<table border=\"1\" class=\"dataframe\">\n",
       "  <thead>\n",
       "    <tr style=\"text-align: right;\">\n",
       "      <th></th>\n",
       "      <th>headlines</th>\n",
       "      <th>text</th>\n",
       "      <th>clean_text</th>\n",
       "      <th>clean_headlines</th>\n",
       "      <th>decoder_input</th>\n",
       "      <th>decoder_target</th>\n",
       "    </tr>\n",
       "  </thead>\n",
       "  <tbody>\n",
       "    <tr>\n",
       "      <th>0</th>\n",
       "      <td>upGrad learner switches to career in ML &amp; Al w...</td>\n",
       "      <td>Saurav Kant, an alumnus of upGrad and IIIT-B's...</td>\n",
       "      <td>saurav kant alumnus upgrad iiit pg program mac...</td>\n",
       "      <td>upgrad learner switches to career in ml al wit...</td>\n",
       "      <td>sostoken upgrad learner switches to career in ...</td>\n",
       "      <td>upgrad learner switches to career in ml al wit...</td>\n",
       "    </tr>\n",
       "    <tr>\n",
       "      <th>2</th>\n",
       "      <td>New Zealand end Rohit Sharma-led India's 12-ma...</td>\n",
       "      <td>New Zealand defeated India by 8 wickets in the...</td>\n",
       "      <td>new zealand defeated india wickets fourth odi ...</td>\n",
       "      <td>new zealand end rohit sharma led india match w...</td>\n",
       "      <td>sostoken new zealand end rohit sharma led indi...</td>\n",
       "      <td>new zealand end rohit sharma led india match w...</td>\n",
       "    </tr>\n",
       "    <tr>\n",
       "      <th>3</th>\n",
       "      <td>Aegon life iTerm insurance plan helps customer...</td>\n",
       "      <td>With Aegon Life iTerm Insurance plan, customer...</td>\n",
       "      <td>aegon life iterm insurance plan customers enjo...</td>\n",
       "      <td>aegon life iterm insurance plan helps customer...</td>\n",
       "      <td>sostoken aegon life iterm insurance plan helps...</td>\n",
       "      <td>aegon life iterm insurance plan helps customer...</td>\n",
       "    </tr>\n",
       "    <tr>\n",
       "      <th>4</th>\n",
       "      <td>Have known Hirani for yrs, what if MeToo claim...</td>\n",
       "      <td>Speaking about the sexual harassment allegatio...</td>\n",
       "      <td>speaking sexual harassment allegations rajkuma...</td>\n",
       "      <td>have known hirani for yrs what if metoo claims...</td>\n",
       "      <td>sostoken have known hirani for yrs what if met...</td>\n",
       "      <td>have known hirani for yrs what if metoo claims...</td>\n",
       "    </tr>\n",
       "    <tr>\n",
       "      <th>5</th>\n",
       "      <td>Rahat Fateh Ali Khan denies getting notice for...</td>\n",
       "      <td>Pakistani singer Rahat Fateh Ali Khan has deni...</td>\n",
       "      <td>pakistani singer rahat fateh ali khan denied r...</td>\n",
       "      <td>rahat fateh ali khan denies getting notice for...</td>\n",
       "      <td>sostoken rahat fateh ali khan denies getting n...</td>\n",
       "      <td>rahat fateh ali khan denies getting notice for...</td>\n",
       "    </tr>\n",
       "  </tbody>\n",
       "</table>\n",
       "</div>"
      ],
      "text/plain": [
       "                                           headlines  \\\n",
       "0  upGrad learner switches to career in ML & Al w...   \n",
       "2  New Zealand end Rohit Sharma-led India's 12-ma...   \n",
       "3  Aegon life iTerm insurance plan helps customer...   \n",
       "4  Have known Hirani for yrs, what if MeToo claim...   \n",
       "5  Rahat Fateh Ali Khan denies getting notice for...   \n",
       "\n",
       "                                                text  \\\n",
       "0  Saurav Kant, an alumnus of upGrad and IIIT-B's...   \n",
       "2  New Zealand defeated India by 8 wickets in the...   \n",
       "3  With Aegon Life iTerm Insurance plan, customer...   \n",
       "4  Speaking about the sexual harassment allegatio...   \n",
       "5  Pakistani singer Rahat Fateh Ali Khan has deni...   \n",
       "\n",
       "                                          clean_text  \\\n",
       "0  saurav kant alumnus upgrad iiit pg program mac...   \n",
       "2  new zealand defeated india wickets fourth odi ...   \n",
       "3  aegon life iterm insurance plan customers enjo...   \n",
       "4  speaking sexual harassment allegations rajkuma...   \n",
       "5  pakistani singer rahat fateh ali khan denied r...   \n",
       "\n",
       "                                     clean_headlines  \\\n",
       "0  upgrad learner switches to career in ml al wit...   \n",
       "2  new zealand end rohit sharma led india match w...   \n",
       "3  aegon life iterm insurance plan helps customer...   \n",
       "4  have known hirani for yrs what if metoo claims...   \n",
       "5  rahat fateh ali khan denies getting notice for...   \n",
       "\n",
       "                                       decoder_input  \\\n",
       "0  sostoken upgrad learner switches to career in ...   \n",
       "2  sostoken new zealand end rohit sharma led indi...   \n",
       "3  sostoken aegon life iterm insurance plan helps...   \n",
       "4  sostoken have known hirani for yrs what if met...   \n",
       "5  sostoken rahat fateh ali khan denies getting n...   \n",
       "\n",
       "                                      decoder_target  \n",
       "0  upgrad learner switches to career in ml al wit...  \n",
       "2  new zealand end rohit sharma led india match w...  \n",
       "3  aegon life iterm insurance plan helps customer...  \n",
       "4  have known hirani for yrs what if metoo claims...  \n",
       "5  rahat fateh ali khan denies getting notice for...  "
      ]
     },
     "execution_count": 287,
     "metadata": {},
     "output_type": "execute_result"
    }
   ],
   "source": [
    "data['decoder_input'] = data['clean_headlines'].apply(lambda x : 'sostoken '+ x)\n",
    "data['decoder_target'] = data['clean_headlines'].apply(lambda x : x + ' eostoken')\n",
    "data.head()"
   ]
  },
  {
   "cell_type": "code",
   "execution_count": 288,
   "id": "142e7474",
   "metadata": {},
   "outputs": [],
   "source": [
    "encoder_input = np.array(data['clean_text']) # 인코더의 입력\n",
    "decoder_input = np.array(data['decoder_input']) # 디코더의 입력\n",
    "decoder_target = np.array(data['decoder_target']) # 디코더의 레이블"
   ]
  },
  {
   "cell_type": "code",
   "execution_count": 289,
   "id": "5587a148",
   "metadata": {},
   "outputs": [
    {
     "name": "stdout",
     "output_type": "stream",
     "text": [
      "[63849  7401 61973 ... 45569 58485 67253]\n"
     ]
    }
   ],
   "source": [
    "# random index list\n",
    "indices = np.arange(encoder_input.shape[0])\n",
    "np.random.shuffle(indices)\n",
    "print(indices)"
   ]
  },
  {
   "cell_type": "code",
   "execution_count": 290,
   "id": "9f1bee63",
   "metadata": {},
   "outputs": [],
   "source": [
    "encoder_input = encoder_input[indices]\n",
    "decoder_input = decoder_input[indices]\n",
    "decoder_target = decoder_target[indices]"
   ]
  },
  {
   "cell_type": "code",
   "execution_count": 291,
   "id": "1309f30e",
   "metadata": {},
   "outputs": [
    {
     "name": "stdout",
     "output_type": "stream",
     "text": [
      "테스트 데이터의 수 : 19505\n"
     ]
    }
   ],
   "source": [
    "n_of_val = int(len(encoder_input)*0.2)\n",
    "print('테스트 데이터의 수 :', n_of_val)"
   ]
  },
  {
   "cell_type": "code",
   "execution_count": 292,
   "id": "c53b9bfa",
   "metadata": {},
   "outputs": [
    {
     "name": "stdout",
     "output_type": "stream",
     "text": [
      "훈련 데이터의 개수 : 78023\n",
      "훈련 레이블의 개수 : 78023\n",
      "테스트 데이터의 개수 : 19505\n",
      "테스트 레이블의 개수 : 19505\n"
     ]
    }
   ],
   "source": [
    "encoder_input_train = encoder_input[:-n_of_val]\n",
    "decoder_input_train = decoder_input[:-n_of_val]\n",
    "decoder_target_train = decoder_target[:-n_of_val]\n",
    "\n",
    "encoder_input_test = encoder_input[-n_of_val:]\n",
    "decoder_input_test = decoder_input[-n_of_val:]\n",
    "decoder_target_test = decoder_target[-n_of_val:]\n",
    "\n",
    "print('훈련 데이터의 개수 :', len(encoder_input_train))\n",
    "print('훈련 레이블의 개수 :', len(decoder_input_train))\n",
    "print('테스트 데이터의 개수 :', len(encoder_input_test))\n",
    "print('테스트 레이블의 개수 :', len(decoder_input_test))"
   ]
  },
  {
   "cell_type": "code",
   "execution_count": 293,
   "id": "bc311b1d",
   "metadata": {},
   "outputs": [],
   "source": [
    "src_tokenizer = Tokenizer() # 토크나이저 정의\n",
    "src_tokenizer.fit_on_texts(encoder_input_train) # 입력된 데이터로부터 단어 집합 생성"
   ]
  },
  {
   "cell_type": "code",
   "execution_count": 294,
   "id": "0d2df767",
   "metadata": {},
   "outputs": [
    {
     "name": "stdout",
     "output_type": "stream",
     "text": [
      "단어 집합(vocabulary)의 크기 : 69064\n",
      "등장 빈도가 6번 이하인 희귀 단어의 수: 47044\n",
      "단어 집합에서 희귀 단어를 제외시킬 경우의 단어 집합의 크기 22020\n",
      "단어 집합에서 희귀 단어의 비율: 68.11652959573729\n",
      "전체 등장 빈도에서 희귀 단어 등장 빈도 비율: 3.4989527215519844\n"
     ]
    }
   ],
   "source": [
    "threshold = 7\n",
    "total_cnt = len(src_tokenizer.word_index) # 단어의 수\n",
    "rare_cnt = 0 # 등장 빈도수가 threshold보다 작은 단어의 개수를 카운트\n",
    "total_freq = 0 # 훈련 데이터의 전체 단어 빈도수 총 합\n",
    "rare_freq = 0 # 등장 빈도수가 threshold보다 작은 단어의 등장 빈도수의 총 합\n",
    "\n",
    "# 단어와 빈도수의 쌍(pair)을 key와 value로 받는다.\n",
    "for key, value in src_tokenizer.word_counts.items():\n",
    "    total_freq = total_freq + value\n",
    "\n",
    "    # 단어의 등장 빈도수가 threshold보다 작으면\n",
    "    if(value < threshold):\n",
    "        rare_cnt = rare_cnt + 1\n",
    "        rare_freq = rare_freq + value\n",
    "\n",
    "print('단어 집합(vocabulary)의 크기 :', total_cnt)\n",
    "print('등장 빈도가 %s번 이하인 희귀 단어의 수: %s'%(threshold - 1, rare_cnt))\n",
    "print('단어 집합에서 희귀 단어를 제외시킬 경우의 단어 집합의 크기 %s'%(total_cnt - rare_cnt))\n",
    "print(\"단어 집합에서 희귀 단어의 비율:\", (rare_cnt / total_cnt)*100)\n",
    "print(\"전체 등장 빈도에서 희귀 단어 등장 빈도 비율:\", (rare_freq / total_freq)*100)"
   ]
  },
  {
   "cell_type": "code",
   "execution_count": 295,
   "id": "58d8c38b",
   "metadata": {},
   "outputs": [],
   "source": [
    "src_vocab = 22000\n",
    "src_tokenizer = Tokenizer(num_words=src_vocab) # 단어 집합의 크기를 22,000으로 제한\n",
    "src_tokenizer.fit_on_texts(encoder_input_train) # 단어 집합 재생성"
   ]
  },
  {
   "cell_type": "code",
   "execution_count": 296,
   "id": "a51dfda5",
   "metadata": {},
   "outputs": [
    {
     "name": "stdout",
     "output_type": "stream",
     "text": [
      "[[135, 14, 2465, 48, 63, 1, 2, 20577, 2504, 7322, 104, 22, 197, 356, 581, 3296, 4684, 16602, 550, 3796, 104, 299, 327, 31, 42, 8675, 8, 1754, 912, 1, 1754, 83, 119, 2, 14175], [630, 449, 4583, 617, 299, 915, 98, 5067, 177, 105, 684, 99, 3842, 4516, 13287, 15875, 233, 299, 3247, 366, 9115, 671, 487, 447, 1, 551, 23, 1328, 16603, 18295, 603], [2164, 532, 1277, 12509, 9116, 2505, 750, 12134, 13288, 5446, 8243, 1410, 1032, 75, 5900, 12135, 26, 14664, 12887, 1479, 903, 9621, 7761, 768, 1586, 5020, 7997, 12136, 1626, 2842, 12134, 560, 67, 12509, 12134, 560, 85, 1]]\n"
     ]
    }
   ],
   "source": [
    "# 텍스트 시퀀스를 정수 시퀀스로 변환\n",
    "encoder_input_train = src_tokenizer.texts_to_sequences(encoder_input_train) \n",
    "encoder_input_test = src_tokenizer.texts_to_sequences(encoder_input_test)\n",
    "\n",
    "# 잘 진행되었는지 샘플 출력\n",
    "print(encoder_input_train[:3])"
   ]
  },
  {
   "cell_type": "code",
   "execution_count": 297,
   "id": "1a050fb1",
   "metadata": {},
   "outputs": [],
   "source": [
    "tar_tokenizer = Tokenizer()\n",
    "tar_tokenizer.fit_on_texts(decoder_input_train)"
   ]
  },
  {
   "cell_type": "code",
   "execution_count": 298,
   "id": "92a93d89",
   "metadata": {},
   "outputs": [
    {
     "name": "stdout",
     "output_type": "stream",
     "text": [
      "단어 집합(vocabulary)의 크기 : 29961\n",
      "등장 빈도가 4번 이하인 희귀 단어의 수: 18459\n",
      "단어 집합에서 희귀 단어를 제외시킬 경우의 단어 집합의 크기 11502\n",
      "단어 집합에서 희귀 단어의 비율: 61.610093121057375\n",
      "전체 등장 빈도에서 희귀 단어 등장 빈도 비율: 3.9638106886506104\n"
     ]
    }
   ],
   "source": [
    "threshold = 5\n",
    "total_cnt = len(tar_tokenizer.word_index) # 단어의 수\n",
    "rare_cnt = 0 # 등장 빈도수가 threshold보다 작은 단어의 개수를 카운트\n",
    "total_freq = 0 # 훈련 데이터의 전체 단어 빈도수 총 합\n",
    "rare_freq = 0 # 등장 빈도수가 threshold보다 작은 단어의 등장 빈도수의 총 합\n",
    "\n",
    "# 단어와 빈도수의 쌍(pair)을 key와 value로 받는다.\n",
    "for key, value in tar_tokenizer.word_counts.items():\n",
    "    total_freq = total_freq + value\n",
    "\n",
    "    # 단어의 등장 빈도수가 threshold보다 작으면\n",
    "    if(value < threshold):\n",
    "        rare_cnt = rare_cnt + 1\n",
    "        rare_freq = rare_freq + value\n",
    "\n",
    "print('단어 집합(vocabulary)의 크기 :', total_cnt)\n",
    "print('등장 빈도가 %s번 이하인 희귀 단어의 수: %s'%(threshold - 1, rare_cnt))\n",
    "print('단어 집합에서 희귀 단어를 제외시킬 경우의 단어 집합의 크기 %s'%(total_cnt - rare_cnt))\n",
    "print(\"단어 집합에서 희귀 단어의 비율:\", (rare_cnt / total_cnt)*100)\n",
    "print(\"전체 등장 빈도에서 희귀 단어 등장 빈도 비율:\", (rare_freq / total_freq)*100)"
   ]
  },
  {
   "cell_type": "code",
   "execution_count": 299,
   "id": "938c5a5c",
   "metadata": {},
   "outputs": [
    {
     "name": "stdout",
     "output_type": "stream",
     "text": [
      "input\n",
      "input  [[1, 8, 64, 5, 92, 1099, 216], [1, 3672, 200, 5631, 4, 550, 271, 3, 1100, 680, 4220], [1, 6151, 70, 6462, 2909, 10417, 8144, 5407], [1, 46, 31, 1101, 1346, 3, 2090, 53, 6, 384, 1216, 2245, 268], [1, 716, 396, 3, 165, 5, 4353, 30, 5632]]\n",
      "target\n",
      "decoder  [[8, 64, 5, 92, 1099, 216, 2], [3672, 200, 5631, 4, 550, 271, 3, 1100, 680, 4220, 2], [6151, 70, 6462, 2909, 10417, 8144, 5407, 2], [46, 31, 1101, 1346, 3, 2090, 53, 6, 384, 1216, 2245, 268, 2], [716, 396, 3, 165, 5, 4353, 30, 5632, 2]]\n"
     ]
    }
   ],
   "source": [
    "tar_vocab = 11000\n",
    "tar_tokenizer = Tokenizer(num_words=tar_vocab) \n",
    "tar_tokenizer.fit_on_texts(decoder_input_train)\n",
    "tar_tokenizer.fit_on_texts(decoder_target_train)\n",
    "\n",
    "# 텍스트 시퀀스를 정수 시퀀스로 변환\n",
    "decoder_input_train = tar_tokenizer.texts_to_sequences(decoder_input_train) \n",
    "decoder_target_train = tar_tokenizer.texts_to_sequences(decoder_target_train)\n",
    "decoder_input_test = tar_tokenizer.texts_to_sequences(decoder_input_test)\n",
    "decoder_target_test = tar_tokenizer.texts_to_sequences(decoder_target_test)\n",
    "\n",
    "# 잘 변환되었는지 확인\n",
    "print('input')\n",
    "print('input ',decoder_input_train[:5])\n",
    "print('target')\n",
    "print('decoder ',decoder_target_train[:5])"
   ]
  },
  {
   "cell_type": "code",
   "execution_count": 300,
   "id": "40fc83d1",
   "metadata": {},
   "outputs": [
    {
     "name": "stdout",
     "output_type": "stream",
     "text": [
      "삭제할 훈련 데이터의 개수 : 0\n",
      "삭제할 테스트 데이터의 개수 : 0\n",
      "훈련 데이터의 개수 : 78023\n",
      "훈련 레이블의 개수 : 78023\n",
      "테스트 데이터의 개수 : 19505\n",
      "테스트 레이블의 개수 : 19505\n"
     ]
    }
   ],
   "source": [
    "drop_train = [index for index, sentence in enumerate(decoder_input_train) if len(sentence) == 1]\n",
    "drop_test = [index for index, sentence in enumerate(decoder_input_test) if len(sentence) == 1]\n",
    "\n",
    "print('삭제할 훈련 데이터의 개수 :', len(drop_train))\n",
    "print('삭제할 테스트 데이터의 개수 :', len(drop_test))\n",
    "\n",
    "encoder_input_train = [sentence for index, sentence in enumerate(encoder_input_train) if index not in drop_train]\n",
    "decoder_input_train = [sentence for index, sentence in enumerate(decoder_input_train) if index not in drop_train]\n",
    "decoder_target_train = [sentence for index, sentence in enumerate(decoder_target_train) if index not in drop_train]\n",
    "\n",
    "encoder_input_test = [sentence for index, sentence in enumerate(encoder_input_test) if index not in drop_test]\n",
    "decoder_input_test = [sentence for index, sentence in enumerate(decoder_input_test) if index not in drop_test]\n",
    "decoder_target_test = [sentence for index, sentence in enumerate(decoder_target_test) if index not in drop_test]\n",
    "\n",
    "print('훈련 데이터의 개수 :', len(encoder_input_train))\n",
    "print('훈련 레이블의 개수 :', len(decoder_input_train))\n",
    "print('테스트 데이터의 개수 :', len(encoder_input_test))\n",
    "print('테스트 레이블의 개수 :', len(decoder_input_test))"
   ]
  },
  {
   "cell_type": "code",
   "execution_count": 301,
   "id": "f0f6b7f7",
   "metadata": {},
   "outputs": [],
   "source": [
    "encoder_input_train = pad_sequences(encoder_input_train, maxlen=text_max_len, padding='pre')\n",
    "encoder_input_test = pad_sequences(encoder_input_test, maxlen=text_max_len, padding='pre')\n",
    "decoder_input_train = pad_sequences(decoder_input_train, maxlen=headline_max_len, padding='pre')\n",
    "decoder_target_train = pad_sequences(decoder_target_train, maxlen=headline_max_len, padding='pre')\n",
    "decoder_input_test = pad_sequences(decoder_input_test, maxlen=headline_max_len, padding='pre')\n",
    "decoder_target_test = pad_sequences(decoder_target_test, maxlen=headline_max_len, padding='pre')"
   ]
  },
  {
   "cell_type": "code",
   "execution_count": 302,
   "id": "cab765c7",
   "metadata": {},
   "outputs": [],
   "source": [
    "from tensorflow.keras.layers import Input, LSTM, Embedding, Dense, Concatenate, TimeDistributed\n",
    "from tensorflow.keras.models import Model\n",
    "from tensorflow.keras.callbacks import EarlyStopping, ModelCheckpoint\n",
    "from tensorflow.keras.layers import AdditiveAttention\n",
    "\n",
    "'''class Encoder:\n",
    "    def __init__(self, src_vocab, embedding_dim=128, hidden_size=256, text_max_len=None):\n",
    "        # 인코더 설계 시작\n",
    "        self.src_vocab = src_vocab\n",
    "        self.embedding_dim = embedding_dim\n",
    "        self.hidden_size = hidden_size\n",
    "        self.text_max_len = text_max_len\n",
    "\n",
    "    def build(self):\n",
    "        encoder_inputs = Input(shape=(self.text_max_len,))\n",
    "        # 인코더의 임베딩 층\n",
    "        enc_emb = Embedding(self.src_vocab, self.embedding_dim)(encoder_inputs)\n",
    "\n",
    "        encoder_lstm1 = LSTM(self.hidden_size, return_sequences=True, return_state=True ,dropout = 0.4)\n",
    "        encoder_output1, state_h1, state_c1 = encoder_lstm1(enc_emb)\n",
    "        #encoder_lstm2 = LSTM(self.hidden_size, return_sequences=True, return_state=True ,dropout = 0.2)\n",
    "        #encoder_output2, state_h2, state_c2 = encoder_lstm2(encoder_output1, initial_state=[state_h1, state_c1])\n",
    "        #encoder_lstm3 = LSTM(self.hidden_size, return_sequences=True, return_state=True ,dropout = 0.2)\n",
    "        #encoder_outputs, state_h, state_c = encoder_lstm3(encoder_output2, initial_state=[state_h2, state_c2])\n",
    "\n",
    "        return encoder_inputs1, encoder_outputs1, state_h, state_c1\n",
    "\n",
    "class Decoder:\n",
    "    def __init__(self, tar_vocab, embedding_dim=128, hidden_size=256):\n",
    "        self.tar_vocab = tar_vocab\n",
    "        self.embedding_dim = embedding_dim\n",
    "        self.hidden_size = hidden_size\n",
    "        self.dec_emb_layer = Embedding(self.tar_vocab, self.embedding_dim, mask_zero=True)\n",
    "        self.decoder_lstm = LSTM(hidden_size, return_sequences=True, return_state=True, dropout=0.2)\n",
    "        \n",
    "    def build(self, state_h, state_c):\n",
    "        # 디코더 설계\n",
    "        decoder_inputs = Input(shape=(None,))\n",
    "        # 디코더의 임베딩 층\n",
    "        dec_emb = self.dec_emb_layer(decoder_inputs)\n",
    "\n",
    "        # 디코더의 LSTM\n",
    "        decoder_outputs, _, _ = self.decoder_lstm(dec_emb, initial_state=[state_h, state_c])\n",
    "\n",
    "        \"\"\"     # 디코더의 출력층\n",
    "        decoder_softmax_layer = Dense(self.tar_vocab, activation='softmax')\n",
    "        decoder_softmax_outputs = decoder_softmax_layer(decoder_outputs)\"\"\"\n",
    "        \n",
    "        return decoder_inputs, decoder_outputs\n",
    "    \n",
    "        \"\"\"    def emd_layer(self):\n",
    "        return self.dec_emb_layer\n",
    "        def lstm(self):\n",
    "        return self.decoder_lstm\"\"\"'''\n",
    "\n",
    "class Seq2SeqModel:\n",
    "    def __init__(self, src_vocab, tar_vocab, text_max_len, headline_max_len, embedding_dim=128, hidden_size=256):\n",
    "        self.src_vocab = src_vocab\n",
    "        self.tar_vocab = tar_vocab\n",
    "        self.text_max_len = text_max_len\n",
    "        self.summary_max_len = summary_max_len\n",
    "        self.embedding_dim = embedding_dim\n",
    "        self.hidden_size = hidden_size\n",
    "        \n",
    "        self.model = None\n",
    "        self.encoder_model = None\n",
    "        self.decoder_model = None\n",
    "        \n",
    "         # 학습용 층\n",
    "        self.encoder_inputs = Input(shape=(self.text_max_len,))\n",
    "        self.enc_emb = Embedding(self.src_vocab, self.embedding_dim, mask_zero=True)(self.encoder_inputs)\n",
    "        self.encoder_lstm = LSTM(self.hidden_size, return_sequences=True, return_state=True, dropout=0.2)\n",
    "        self.encoder_outputs, self.state_h, self.state_c = self.encoder_lstm(self.enc_emb)\n",
    "\n",
    "        self.decoder_inputs = Input(shape=(None,))\n",
    "        self.dec_emb_layer = Embedding(self.tar_vocab, self.embedding_dim, mask_zero=True)\n",
    "        self.dec_emb = self.dec_emb_layer(self.decoder_inputs)\n",
    "        self.decoder_lstm = LSTM(self.hidden_size, return_sequences=True, return_state=True, dropout=0.2)\n",
    "        self.decoder_outputs, _, _ = self.decoder_lstm(self.dec_emb, initial_state=[self.state_h, self.state_c])\n",
    "\n",
    "        self.attn_layer = AdditiveAttention()\n",
    "        self.attn_out = self.attn_layer([self.decoder_outputs, self.encoder_outputs])\n",
    "        self.decoder_concat = Concatenate(axis=-1)([self.decoder_outputs, self.attn_out])\n",
    "\n",
    "        self.decoder_softmax_layer = Dense(self.tar_vocab, activation='softmax')\n",
    "        self.decoder_outputs_final = self.decoder_softmax_layer(self.decoder_concat)\n",
    "\n",
    "        self.model = Model([self.encoder_inputs, self.decoder_inputs], self.decoder_outputs_final)\n",
    "    \n",
    "    def train(self, train_data, val_data, epochs=10, batch_size=256):\n",
    "        self.model.compile(optimizer='rmsprop', loss='sparse_categorical_crossentropy')\n",
    "        es = EarlyStopping(monitor='val_loss', patience=2, verbose=1)\n",
    "        history = self.model.fit(\n",
    "            x=[train_data[0], train_data[1]],\n",
    "            y=train_data[2],\n",
    "            validation_data=([val_data[0], val_data[1]], val_data[2]),\n",
    "            epochs=epochs,\n",
    "            batch_size=batch_size,\n",
    "            callbacks=[es]\n",
    "        )\n",
    "        return history\n",
    "    \n",
    "    def build_inference(self):\n",
    "        # 인코더 모델\n",
    "        self.encoder_model = Model(self.encoder_inputs, [self.encoder_outputs, self.state_h, self.state_c])\n",
    "        \n",
    "        # 디코더 입력들\n",
    "        decoder_state_input_h = Input(shape=(self.hidden_size,))\n",
    "        decoder_state_input_c = Input(shape=(self.hidden_size,))\n",
    "        decoder_hidden_state_input = Input(shape=(self.text_max_len, self.hidden_size))\n",
    "\n",
    "        dec_inputs = Input(shape=(None,))\n",
    "        dec_emb_inf = self.dec_emb_layer(dec_inputs)\n",
    "\n",
    "        decoder_outputs2, state_h2, state_c2 = self.decoder_lstm(dec_emb_inf, initial_state=[decoder_state_input_h, decoder_state_input_c])\n",
    "        attn_out_inf = self.attn_layer([decoder_outputs2, decoder_hidden_state_input])\n",
    "        decoder_inf_concat = Concatenate(axis=-1)([decoder_outputs2, attn_out_inf])\n",
    "        decoder_outputs2 = self.decoder_softmax_layer(decoder_inf_concat)\n",
    "\n",
    "        self.decoder_model = Model(\n",
    "            [dec_inputs, decoder_hidden_state_input, decoder_state_input_h, decoder_state_input_c],\n",
    "            [decoder_outputs2, state_h2, state_c2]\n",
    "        )\n",
    "    \n",
    "    def decode_sequence(self, input_seq, tar_word_to_index, tar_index_to_word):\n",
    "        e_out, e_h, e_c = self.encoder_model.predict(input_seq)\n",
    "\n",
    "        # 시작 토큰 초기화\n",
    "        target_seq = np.zeros((1, 1))\n",
    "        target_seq[0, 0] = tar_word_to_index['sostoken']\n",
    "\n",
    "        decoded_sentence = ''\n",
    "        stop_condition = False\n",
    "\n",
    "        while not stop_condition:\n",
    "            output_tokens, h, c = self.decoder_model.predict([target_seq, e_out, e_h, e_c])\n",
    "            sampled_token_index = np.argmax(output_tokens[0, -1, :])\n",
    "            sampled_token = tar_index_to_word[sampled_token_index]\n",
    "\n",
    "            if sampled_token != 'eostoken':\n",
    "                decoded_sentence += ' ' + sampled_token\n",
    "\n",
    "            if (sampled_token == 'eostoken') or (len(decoded_sentence.split()) >= self.summary_max_len - 1):\n",
    "                stop_condition = True\n",
    "\n",
    "            target_seq = np.zeros((1, 1))\n",
    "            target_seq[0, 0] = sampled_token_index\n",
    "\n",
    "            e_h, e_c = h, c\n",
    "\n",
    "        return decoded_sentence"
   ]
  },
  {
   "cell_type": "code",
   "execution_count": 303,
   "id": "a0869ccf",
   "metadata": {},
   "outputs": [],
   "source": [
    "seq2seq = Seq2SeqModel(src_vocab, tar_vocab, text_max_len, headline_max_len)\n",
    "seq2seq.build_inference()"
   ]
  },
  {
   "cell_type": "code",
   "execution_count": 304,
   "id": "bedf7b58",
   "metadata": {
    "scrolled": false
   },
   "outputs": [
    {
     "name": "stdout",
     "output_type": "stream",
     "text": [
      "Epoch 1/50\n",
      "305/305 [==============================] - 69s 205ms/step - loss: 5.2396 - val_loss: 4.9128\n",
      "Epoch 2/50\n",
      "305/305 [==============================] - 60s 196ms/step - loss: 4.7233 - val_loss: 4.4479\n",
      "Epoch 3/50\n",
      "305/305 [==============================] - 59s 194ms/step - loss: 4.3296 - val_loss: 4.1791\n",
      "Epoch 4/50\n",
      "305/305 [==============================] - 59s 193ms/step - loss: 4.0724 - val_loss: 4.0188\n",
      "Epoch 5/50\n",
      "305/305 [==============================] - 59s 193ms/step - loss: 3.8828 - val_loss: 3.9100\n",
      "Epoch 6/50\n",
      "305/305 [==============================] - 59s 193ms/step - loss: 3.7274 - val_loss: 3.8145\n",
      "Epoch 7/50\n",
      "305/305 [==============================] - 58s 191ms/step - loss: 3.5866 - val_loss: 3.7350\n",
      "Epoch 8/50\n",
      "305/305 [==============================] - 62s 202ms/step - loss: 3.4600 - val_loss: 3.6733\n",
      "Epoch 9/50\n",
      "305/305 [==============================] - 59s 194ms/step - loss: 3.3447 - val_loss: 3.6159\n",
      "Epoch 10/50\n",
      "305/305 [==============================] - 59s 192ms/step - loss: 3.2381 - val_loss: 3.5670\n",
      "Epoch 11/50\n",
      "305/305 [==============================] - 60s 197ms/step - loss: 3.1390 - val_loss: 3.5274\n",
      "Epoch 12/50\n",
      "305/305 [==============================] - 62s 203ms/step - loss: 3.0451 - val_loss: 3.4975\n",
      "Epoch 13/50\n",
      "305/305 [==============================] - 63s 207ms/step - loss: 2.9567 - val_loss: 3.4650\n",
      "Epoch 14/50\n",
      "305/305 [==============================] - 62s 202ms/step - loss: 2.8753 - val_loss: 3.4474\n",
      "Epoch 15/50\n",
      "305/305 [==============================] - 61s 199ms/step - loss: 2.7981 - val_loss: 3.4294\n",
      "Epoch 16/50\n",
      "305/305 [==============================] - 61s 199ms/step - loss: 2.7244 - val_loss: 3.4102\n",
      "Epoch 17/50\n",
      "305/305 [==============================] - 61s 200ms/step - loss: 2.6548 - val_loss: 3.3935\n",
      "Epoch 18/50\n",
      "305/305 [==============================] - 60s 198ms/step - loss: 2.5894 - val_loss: 3.3875\n",
      "Epoch 19/50\n",
      "305/305 [==============================] - 60s 198ms/step - loss: 2.5271 - val_loss: 3.3777\n",
      "Epoch 20/50\n",
      "305/305 [==============================] - 60s 197ms/step - loss: 2.4679 - val_loss: 3.3703\n",
      "Epoch 21/50\n",
      "305/305 [==============================] - 60s 196ms/step - loss: 2.4112 - val_loss: 3.3572\n",
      "Epoch 22/50\n",
      "305/305 [==============================] - 60s 195ms/step - loss: 2.3558 - val_loss: 3.3689\n",
      "Epoch 23/50\n",
      "305/305 [==============================] - 59s 194ms/step - loss: 2.3035 - val_loss: 3.3526\n",
      "Epoch 24/50\n",
      "305/305 [==============================] - 59s 195ms/step - loss: 2.2528 - val_loss: 3.3553\n",
      "Epoch 25/50\n",
      "305/305 [==============================] - 59s 195ms/step - loss: 2.2013 - val_loss: 3.3606\n",
      "Epoch 00025: early stopping\n"
     ]
    }
   ],
   "source": [
    "history = seq2seq.train(train_data=[encoder_input_train, decoder_input_train, decoder_target_train], \n",
    "              val_data=[encoder_input_test, decoder_input_test, decoder_target_test],\n",
    "                       epochs=50)"
   ]
  },
  {
   "cell_type": "code",
   "execution_count": 305,
   "id": "6d313a12",
   "metadata": {},
   "outputs": [
    {
     "data": {
      "image/png": "[encoded data removed]",
      "text/plain": [
       "<Figure size 432x288 with 1 Axes>"
      ]
     },
     "metadata": {
      "needs_background": "light"
     },
     "output_type": "display_data"
    }
   ],
   "source": [
    "plt.plot(history.history['loss'], label='train')\n",
    "plt.plot(history.history['val_loss'], label='test')\n",
    "plt.legend()\n",
    "plt.show()"
   ]
  },
  {
   "cell_type": "code",
   "execution_count": 306,
   "id": "9c1b5072",
   "metadata": {},
   "outputs": [],
   "source": [
    "src_index_to_word = src_tokenizer.index_word # 원문 단어 집합에서 정수 -> 단어를 얻음\n",
    "tar_word_to_index = tar_tokenizer.word_index # 요약 단어 집합에서 단어 -> 정수를 얻음\n",
    "tar_index_to_word = tar_tokenizer.index_word # 요약 단어 집합에서 정수 -> 단어를 얻음"
   ]
  },
  {
   "cell_type": "code",
   "execution_count": 307,
   "id": "7acaebf3",
   "metadata": {},
   "outputs": [
    {
     "name": "stdout",
     "output_type": "stream",
     "text": [
      "69064\n",
      "29962\n",
      "29962\n",
      "sostoken index: 1\n",
      "eostoken index: 2\n"
     ]
    }
   ],
   "source": [
    "print(len(src_index_to_word))\n",
    "print(len(tar_word_to_index))\n",
    "print(len(tar_index_to_word))\n",
    "\n",
    "print(\"sostoken index:\", tar_word_to_index['sostoken'])\n",
    "print(\"eostoken index:\", tar_word_to_index['eostoken'])"
   ]
  },
  {
   "cell_type": "code",
   "execution_count": 308,
   "id": "25f31dd7",
   "metadata": {},
   "outputs": [],
   "source": [
    "seq2seq.build_inference()"
   ]
  },
  {
   "cell_type": "code",
   "execution_count": 309,
   "id": "0d01b1d6",
   "metadata": {},
   "outputs": [],
   "source": [
    "# 원문의 정수 시퀀스를 텍스트 시퀀스로 변환\n",
    "def seq2text(input_seq):\n",
    "    temp=''\n",
    "    for i in input_seq:\n",
    "        if (i!=0):\n",
    "            temp = temp + src_index_to_word[i]+' '\n",
    "    return temp\n",
    "\n",
    "# 요약문의 정수 시퀀스를 텍스트 시퀀스로 변환\n",
    "def seq2summary(input_seq):\n",
    "    return ' '.join([tar_index_to_word.get(i, '<unk>') for i in input_seq[1:]])"
   ]
  },
  {
   "cell_type": "code",
   "execution_count": 327,
   "id": "2d0a2fd0",
   "metadata": {},
   "outputs": [
    {
     "name": "stdout",
     "output_type": "stream",
     "text": [
      "원문 : Pakistan on Thursday welcomed PM Narendra Modi's phone call congratulating Pakistan Tehreek-e-Insaf chief Imran Khan and said it wants to resume bilateral talks with India which were halted in 2015. PM Modi had hoped \"Pakistan and India will work to open a new chapter in bilateral ties\" during the call. Khan had emphasised that disputes should be resolved through dialogue.\n",
      "실제 요약 : <unk> sostoken pakistan says it wants to resume bilateral talks with india\n",
      "예측 요약 :  pak pm imran khan wants pm imran khan to pak pm imran\n",
      "추출 요약 : Pakistan on Thursday welcomed PM Narendra Modi's phone call congratulating Pakistan Tehreek-e-Insaf chief Imran Khan and said it wants to resume bilateral talks with India which were halted in 2015.\n",
      "\n",
      "\n",
      "원문 : Indian cricket captain Virat Kohli on Monday took to Twitter to wish the Indian Under-17 team for the FIFA Under-17 World Cup starting October 6. \"I would like to wish them all the very best for the first game and the rest of the tournament. Go get it boys, make us proud,\" said Kohli in the video.\n",
      "실제 요약 : sostoken go get it boys kohli wishes india for fifa world cup\n",
      "예측 요약 :  kohli to play in cricket world cup trophy best odi\n",
      "추출 요약 : Indian cricket captain Virat Kohli on Monday took to Twitter to wish the Indian Under-17 team for the FIFA Under-17 World Cup starting October 6.\n",
      "\n",
      "\n",
      "원문 : Venezuelan President NicolÃÂ¡s Maduro has claimed that his American counterpart Donald Trump ordered the Colombian government and the Colombian mafia to kill him. \"If something happens to me, Trump and Colombian President IvÃÂ¡n MÃÂ¡rquez will bear responsibility,\" he added. The US has blamed Maduro for the economic crisis in Venezuela and recognised opposition leader Juan GuaidÃÂ³ as interim President.\n",
      "실제 요약 : <unk> <unk> <unk> sostoken trump ordered to kill me venezuela president maduro\n",
      "예측 요약 :  trump has not into the leader of french prez\n",
      "추출 요약 : Venezuelan President NicolÃÂ¡s Maduro has claimed that his American counterpart Donald Trump ordered the Colombian government and the Colombian mafia to kill him.\n",
      "\n",
      "\n",
      "원문 : Sikkim-based startup NE Taxi, which was founded in 2013 by Rewaj Chettri, aggregates tourist taxis to provide both local and outstation travel solutions for northeastern India. The startup offers sightseeing to its customers through an app where tourists can choose places to visit while booking the taxi. NE Taxi is present at over 100 locations in northeast India.\n",
      "실제 요약 : <unk> <unk> <unk> sostoken startup ne taxi tourist taxis for northeast india\n",
      "예측 요약 :  uber launches app to help taxi taxi service\n",
      "추출 요약 : Sikkim-based startup NE Taxi, which was founded in 2013 by Rewaj Chettri, aggregates tourist taxis to provide both local and outstation travel solutions for northeastern India.\n",
      "\n",
      "\n",
      "원문 : Speaking about the possibility of bringing an ordinance on Ram temple issue, PM Narendra Modi said, \"We've said in our BJP manifesto that a solution would be found to this issue under the ambit of the Constitution.\" \"After the judicial process is over, whatever will be our responsibility as the government, we are ready to make all efforts,\" he added.\n",
      "실제 요약 : ordinance on ram temple only after legal process is over pm modi\n",
      "예측 요약 :  govt to ban on ram temple issue in yrs pm modi\n",
      "추출 요약 : \n",
      "\n",
      "\n",
      "원문 : Union Minister Pon Radhakrishnan on Wednesday said that the #MeToo movement was started by \"people with perverted minds\". \"You and I work with women. What if someone makes an accusation against you, alleging that something happened when you were playing together while in the fifth standard? Will you accept it? How is it justice?\" he added.\n",
      "실제 요약 : <unk> <unk> <unk> sostoken metoo started by people with minds union minister\n",
      "예측 요약 :  do not need metoo movement in public metoo minister\n",
      "추출 요약 : Union Minister Pon Radhakrishnan on Wednesday said that the #MeToo movement was started by \"people with perverted minds\".\n",
      "\n",
      "\n",
      "원문 : Google on Monday marked the 100th birth anniversary of famous Indian ophthalmologist Govinda Venkataswamy with a doodle. Venkataswamy is known for developing a high quality, low-cost service delivery model called Aravind that has restored the eyesight of millions of people. He is also known to have coined the term 'needless blindness'. The Padma Shri-awardee was born on October 1, 1918.\n",
      "실제 요약 : <unk> <unk> sostoken google honours indian eye surgeon on th birth anniversary\n",
      "예측 요약 :  google doodle honours world st woman\n",
      "추출 요약 : Venkataswamy is known for developing a high quality, low-cost service delivery model called Aravind that has restored the eyesight of millions of people.\n",
      "\n",
      "\n",
      "원문 : Adelaide Strikers' Ben Laughlin and Jake Weatherald combined to pull-off a relay catch to dismiss Melbourne Renegades' Dwayne Bravo in the BBL on Monday. Bravo hit a lofted drive which was caught by sprinting Laughlin, who was about to touch the boundary rope. Laughlin threw the ball inside before crossing the boundary as Weatherald completed the catch 30 metres away.\n",
      "실제 요약 : <unk> <unk> <unk> sostoken combine to pull off relay catch near boundary\n",
      "예측 요약 :  maxwell takes one handed catch at boundary\n",
      "추출 요약 : Laughlin threw the ball inside before crossing the boundary as Weatherald completed the catch 30 metres away.\n",
      "\n",
      "\n",
      "원문 : After the Nipah virus claimed two more lives in Kerala's Kozhikode on Wednesday, the death toll rose to 16. One of the victims contracted the virus at Kozhikode Medical College Hospital. Meanwhile, over 1,000 people who were in touch with the affected earlier are under observation and the total number of suspected cases stands at nine.\n",
      "실제 요약 : sostoken nipah virus kills two more in kerala death toll rises to\n",
      "예측 요약 :  kerala floods death toll rises to death\n",
      "추출 요약 : After the Nipah virus claimed two more lives in Kerala's Kozhikode on Wednesday, the death toll rose to 16.\n",
      "\n",
      "\n",
      "원문 : Armed police broke into US Army whistleblower Chelsea Manning's home as part of \"wellness\" check after she tweeted a photo which reportedly suggested she was considering suicide. The police said they went to Manning's home after receiving multiple calls from \"concerned parties\". Manning had posted an image that showed her standing on a building's edge with the caption, \"I'm sorry.\"\n",
      "실제 요약 : <unk> <unk> sostoken cops break into chelsea manning home over suicidal tweet\n",
      "예측 요약 :  viral video of being made by police\n",
      "추출 요약 : The police said they went to Manning's home after receiving multiple calls from \"concerned parties\".\n",
      "\n",
      "\n"
     ]
    }
   ],
   "source": [
    "from summa.summarizer import summarize\n",
    "\n",
    "raw_text = np.array(data['text']) # 인코더의 입력\n",
    "raw_text = raw_text[indices]\n",
    "raw_text_test = raw_text[-n_of_val:]\n",
    "\n",
    "for i in range(50, 60):\n",
    "    print(\"원문 :\", raw_text_test[i])\n",
    "    print(\"실제 요약 :\", seq2summary(decoder_input_test[i]))\n",
    "    print(\"예측 요약 :\", seq2seq.decode_sequence(encoder_input_test[i].reshape(1, text_max_len),\n",
    "                                             tar_word_to_index,\n",
    "                                             tar_index_to_word))\n",
    "    print(\"추출 요약 :\", summarize(raw_text_test[i], ratio=0.7, split=False, words=20))\n",
    "    print(\"\\n\")"
   ]
  },
  {
   "cell_type": "code",
   "execution_count": null,
   "id": "c55c91e5",
   "metadata": {},
   "outputs": [],
   "source": []
  },
  {
   "cell_type": "code",
   "execution_count": null,
   "id": "c2a969a7",
   "metadata": {},
   "outputs": [],
   "source": []
  },
  {
   "cell_type": "code",
   "execution_count": null,
   "id": "62d84f85",
   "metadata": {},
   "outputs": [],
   "source": []
  },
  {
   "cell_type": "code",
   "execution_count": null,
   "id": "28430a0c",
   "metadata": {},
   "outputs": [],
   "source": []
  }
 ],
 "metadata": {
  "kernelspec": {
   "display_name": "Python 3 (ipykernel)",
   "language": "python",
   "name": "python3"
  },
  "language_info": {
   "codemirror_mode": {
    "name": "ipython",
    "version": 3
   },
   "file_extension": ".py",
   "mimetype": "text/x-python",
   "name": "python",
   "nbconvert_exporter": "python",
   "pygments_lexer": "ipython3",
   "version": "3.9.7"
  }
 },
 "nbformat": 4,
 "nbformat_minor": 5
}
