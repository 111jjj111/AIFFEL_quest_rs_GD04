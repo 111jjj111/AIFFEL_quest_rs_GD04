{
 "cells": [
  {
   "cell_type": "markdown",
   "id": "5cdfe447",
   "metadata": {},
   "source": [
    "파일을 압축해제합니다."
   ]
  },
  {
   "cell_type": "code",
   "execution_count": 1,
   "id": "990fbec2",
   "metadata": {},
   "outputs": [],
   "source": [
    "import tarfile\n",
    "\n",
    "with tarfile.open('./korean-english-park.train.tar.gz', 'r:*') as tar_ref:\n",
    "    tar_ref.extractall('./korean-english-park.train')"
   ]
  },
  {
   "cell_type": "code",
   "execution_count": 68,
   "id": "fde5a194",
   "metadata": {},
   "outputs": [
    {
     "name": "stdout",
     "output_type": "stream",
     "text": [
      "1.3.3\n",
      "2.6.0\n",
      "3.4.3\n"
     ]
    }
   ],
   "source": [
    "import pandas as pd\n",
    "import tensorflow as tf\n",
    "import matplotlib\n",
    "\n",
    "print(pd.__version__)\n",
    "print(tf.__version__)\n",
    "print(matplotlib.__version__)\n",
    "\n",
    "import re\n",
    "from konlpy.tag import Mecab\n",
    "import matplotlib.pyplot as plt\n",
    "import numpy as np\n",
    "from tensorflow.keras.preprocessing.sequence import pad_sequences\n",
    "import matplotlib.ticker as ticker"
   ]
  },
  {
   "cell_type": "markdown",
   "id": "a3338194",
   "metadata": {},
   "source": [
    "파일을 불러오고 인코딩하여 DF로 만들기"
   ]
  },
  {
   "cell_type": "code",
   "execution_count": 3,
   "id": "fd106d9f",
   "metadata": {},
   "outputs": [
    {
     "name": "stdout",
     "output_type": "stream",
     "text": [
      "개인용 컴퓨터 사용의 상당 부분은 \"이것보다 뛰어날 수 있느냐?\"\n",
      "Much of personal computing is about \"can you top this?\"\n",
      "<class 'pandas.core.frame.DataFrame'>\n",
      "RangeIndex: 94123 entries, 0 to 94122\n",
      "Data columns (total 2 columns):\n",
      " #   Column  Non-Null Count  Dtype \n",
      "---  ------  --------------  ----- \n",
      " 0   ko      94123 non-null  object\n",
      " 1   en      94123 non-null  object\n",
      "dtypes: object(2)\n",
      "memory usage: 1.4+ MB\n"
     ]
    }
   ],
   "source": [
    "with open('./korean-english-park.train/korean-english-park.train.ko', encoding='utf-8') as f_ko, \\\n",
    "     open('./korean-english-park.train/korean-english-park.train.en', encoding='utf-8') as f_en:\n",
    "    ko_lines = f_ko.read().splitlines()\n",
    "    en_lines = f_en.read().splitlines()\n",
    "\n",
    "df = pd.DataFrame({'ko': ko_lines, 'en': en_lines})\n",
    "df.head()\n",
    "print(df['ko'][0])\n",
    "print(df['en'][0])\n",
    "df.info()"
   ]
  },
  {
   "cell_type": "markdown",
   "id": "1b993e4e",
   "metadata": {},
   "source": [
    "중복 제거"
   ]
  },
  {
   "cell_type": "code",
   "execution_count": 4,
   "id": "232b0b6f",
   "metadata": {},
   "outputs": [
    {
     "name": "stdout",
     "output_type": "stream",
     "text": [
      "<class 'pandas.core.frame.DataFrame'>\n",
      "Int64Index: 78968 entries, 0 to 94122\n",
      "Data columns (total 2 columns):\n",
      " #   Column  Non-Null Count  Dtype \n",
      "---  ------  --------------  ----- \n",
      " 0   ko      78968 non-null  object\n",
      " 1   en      78968 non-null  object\n",
      "dtypes: object(2)\n",
      "memory usage: 1.8+ MB\n"
     ]
    }
   ],
   "source": [
    "df = df.drop_duplicates()\n",
    "df.info()"
   ]
  },
  {
   "cell_type": "markdown",
   "id": "18422f8e",
   "metadata": {},
   "source": [
    "preprocessing()"
   ]
  },
  {
   "cell_type": "code",
   "execution_count": 5,
   "id": "901f4ca8",
   "metadata": {},
   "outputs": [],
   "source": [
    "def preprocessing(sentence, s_token=False, e_token=False):\n",
    "    # 가능한경우 lower 적용\n",
    "    sentence = sentence.lower().strip()\n",
    "    # 주요 구두점 앞뒤에 공백 삽입\n",
    "    sentence = re.sub(r\"([?.!,])\", r\" \\1 \", sentence)\n",
    "    # 괄호, 따옴표 등 특수문자 제거 (한글, 공백, 구두점만 남김)\n",
    "    sentence = re.sub(r\"[^가-힣0-9a-zA-Z\\s.,!?]\", \" \", sentence)\n",
    "    # 여러 공백을 하나의 공백으로\n",
    "    sentence = re.sub(r\"\\s+\", \" \", sentence).strip()\n",
    "\n",
    "    sentence = sentence.strip()\n",
    "\n",
    "    if s_token:\n",
    "        sentence = '<start> ' + sentence\n",
    "\n",
    "    if e_token:\n",
    "        sentence += ' <end>'\n",
    "    \n",
    "    return sentence"
   ]
  },
  {
   "cell_type": "markdown",
   "id": "f8878f1a",
   "metadata": {},
   "source": [
    "영어 결과에는 sos, eos 넣기"
   ]
  },
  {
   "cell_type": "code",
   "execution_count": 6,
   "id": "94a76dfa",
   "metadata": {},
   "outputs": [
    {
     "name": "stdout",
     "output_type": "stream",
     "text": [
      "Korean: 제 23차 연례 컴덱스 박람회의 개회사를 한 케이츠는 2년여전 기술 산업의 거품이 붕괴된 이후에 첨단 기술에 대해 부정적인 인식이 있다고 말했다 .\n",
      "English: <start> gates , who opened the 23rd annual comdex trade show , said there was a negative perception of high tech following the collapse of the tech bubble about two years ago . <end>\n"
     ]
    }
   ],
   "source": [
    "df['ko_corpus'] = df['ko'].apply(preprocessing)\n",
    "df['en_corpus'] = df['en'].apply(lambda x: preprocessing(x, s_token=True, e_token=True))\n",
    "\n",
    "print(\"Korean:\", df['ko_corpus'][100])   # go away !\n",
    "print(\"English:\", df['en_corpus'][100])   # <start> salga de aqu ! <end>"
   ]
  },
  {
   "cell_type": "markdown",
   "id": "67506671",
   "metadata": {},
   "source": [
    "데이터 분포 관찰"
   ]
  },
  {
   "cell_type": "code",
   "execution_count": 7,
   "id": "2cc25a00",
   "metadata": {},
   "outputs": [
    {
     "name": "stdout",
     "output_type": "stream",
     "text": [
      "ko 문장의 최단 길이: 0\n",
      "ko 문장의 최장 길이: 330\n",
      "ko 문장의 평균 길이: 64\n"
     ]
    },
    {
     "data": {
      "image/png": "[encoded data removed]",
      "text/plain": [
       "<Figure size 432x288 with 1 Axes>"
      ]
     },
     "metadata": {
      "needs_background": "light"
     },
     "output_type": "display_data"
    }
   ],
   "source": [
    "min_len = 999\n",
    "max_len = 0\n",
    "sum_len = 0\n",
    "\n",
    "for sen in df['ko_corpus']:\n",
    "    length = len(sen)\n",
    "    if min_len > length: min_len = length\n",
    "    if max_len < length: max_len = length\n",
    "    sum_len += length\n",
    "\n",
    "print(\"ko 문장의 최단 길이:\", min_len)\n",
    "print(\"ko 문장의 최장 길이:\", max_len)\n",
    "print(\"ko 문장의 평균 길이:\", sum_len // len(df['ko_corpus']))\n",
    "\n",
    "sentence_length = np.zeros((max_len), dtype=int)\n",
    "\n",
    "for sen in df['ko_corpus']:\n",
    "    sentence_length[len(sen)-1] += 1\n",
    "\n",
    "plt.bar(range(max_len), sentence_length, width=1.0)\n",
    "plt.title(\"Sentence Length Distribution\")\n",
    "plt.show()"
   ]
  },
  {
   "cell_type": "code",
   "execution_count": 8,
   "id": "96491502",
   "metadata": {},
   "outputs": [
    {
     "name": "stdout",
     "output_type": "stream",
     "text": [
      "총 1개의 빈 ko_corpus가 있습니다.\n",
      "      ko ko_corpus en       en_corpus\n",
      "11724  ’            \"  <start>  <end>\n"
     ]
    }
   ],
   "source": [
    "empty_rows = df[df['ko_corpus'].str.len() == 0]\n",
    "\n",
    "print(f\"총 {len(empty_rows)}개의 빈 ko_corpus가 있습니다.\")\n",
    "print(empty_rows[['ko', 'ko_corpus', 'en', 'en_corpus']])"
   ]
  },
  {
   "cell_type": "markdown",
   "id": "0b74032a",
   "metadata": {},
   "source": [
    "전처리 이후 길이가 0인 문장이 있어, 살펴보니 ' 하나로 구성된 텍스트.\n",
    "\n",
    "필요 없다고 판단되어 제거했습니다."
   ]
  },
  {
   "cell_type": "code",
   "execution_count": 9,
   "id": "1886d1f8",
   "metadata": {},
   "outputs": [],
   "source": [
    "df = df[df['ko_corpus'].str.len() > 0].reset_index(drop=True)"
   ]
  },
  {
   "cell_type": "code",
   "execution_count": 10,
   "id": "dd322491",
   "metadata": {},
   "outputs": [
    {
     "name": "stdout",
     "output_type": "stream",
     "text": [
      "en 문장의 최단 길이: 14\n",
      "en 문장의 최장 길이: 624\n",
      "en 문장의 평균 길이: 149\n"
     ]
    },
    {
     "data": {
      "image/png": "[encoded data removed]",
      "text/plain": [
       "<Figure size 432x288 with 1 Axes>"
      ]
     },
     "metadata": {
      "needs_background": "light"
     },
     "output_type": "display_data"
    }
   ],
   "source": [
    "min_len = 999\n",
    "max_len = 0\n",
    "sum_len = 0\n",
    "\n",
    "for sen in df['en_corpus']:\n",
    "    length = len(sen)\n",
    "    if min_len > length: min_len = length\n",
    "    if max_len < length: max_len = length\n",
    "    sum_len += length\n",
    "\n",
    "print(\"en 문장의 최단 길이:\", min_len)\n",
    "print(\"en 문장의 최장 길이:\", max_len)\n",
    "print(\"en 문장의 평균 길이:\", sum_len // len(df['en_corpus']))\n",
    "\n",
    "sentence_length = np.zeros((max_len), dtype=int)\n",
    "\n",
    "for sen in df['en_corpus']:\n",
    "    sentence_length[len(sen)-1] += 1\n",
    "\n",
    "plt.bar(range(max_len), sentence_length, width=1.0)\n",
    "plt.title(\"Sentence Length Distribution\")\n",
    "plt.show()"
   ]
  },
  {
   "cell_type": "markdown",
   "id": "3f642a0a",
   "metadata": {},
   "source": [
    "### 토큰화\n",
    "\n",
    "한국어는 Mecab, 영어는 keras 내장 Tokenizer를 사용했습니다.\n",
    "\n",
    "\\<start>, \\<end> 토큰을 포함하여 40개 이하의 토큰으로 구성되도록,\n",
    "\n",
    "VOCAB_SIZE는 최대한 많은 vocab을 가지면서 OOM문제를 발생하지 않는 15000으로 설정하였습니다.\n"
   ]
  },
  {
   "cell_type": "code",
   "execution_count": 11,
   "id": "40dff8b5",
   "metadata": {},
   "outputs": [],
   "source": [
    "MAX_LEN = 40\n",
    "VOCAB_SIZE = 15000\n",
    "\n",
    "tokenizer_ko = Mecab()\n",
    "df['ko_morphs'] = df['ko_corpus'].apply(tokenizer_ko.morphs)"
   ]
  },
  {
   "cell_type": "markdown",
   "id": "d729461b",
   "metadata": {},
   "source": [
    "모든 문장의 형태소의 수를 세어, 가장 많이 등장한 순으로 VOCAB_SIZE만큼만 사용.\n",
    "\n",
    "토큰 수가 40개 이하인 것만 사용."
   ]
  },
  {
   "cell_type": "code",
   "execution_count": 12,
   "id": "b243f768",
   "metadata": {},
   "outputs": [],
   "source": [
    "from collections import Counter\n",
    "from itertools import chain\n",
    "\n",
    "OOV_TOKEN = '<unk>'\n",
    "# 모든 문장의 형태소를 한 줄의 list로 반환\n",
    "all_tokens = list(chain.from_iterable(df['ko_morphs']))\n",
    "\n",
    "token_counts = Counter(all_tokens)\n",
    "top_tokens = [token for token, _ in token_counts.most_common(VOCAB_SIZE-1)]\n",
    "vocab = {OOV_TOKEN: 1}\n",
    "for idx, token in enumerate(top_tokens, start=2):\n",
    "    vocab[token] = idx\n",
    "\n",
    "# 정수 시퀀스 + 길이 제한\n",
    "def encode_and_filter(tokens):\n",
    "    ids = [vocab.get(token, vocab[OOV_TOKEN]) for token in tokens]\n",
    "    return ids if len(ids) <= MAX_LEN else None\n",
    "\n",
    "df['ko_token'] = df['ko_morphs'].apply(encode_and_filter)\n",
    "df = df[df['ko_token'].notnull()].reset_index(drop=True)"
   ]
  },
  {
   "cell_type": "code",
   "execution_count": 13,
   "id": "ddd4a473",
   "metadata": {},
   "outputs": [],
   "source": [
    "df['ko_token'] = pad_sequences(df['ko_token'], padding='post', maxlen=MAX_LEN).tolist()"
   ]
  },
  {
   "cell_type": "code",
   "execution_count": 14,
   "id": "d07923ea",
   "metadata": {},
   "outputs": [],
   "source": [
    "from tensorflow.keras.preprocessing.sequence import pad_sequences\n",
    "from tensorflow.keras.preprocessing.text import Tokenizer\n",
    "\n",
    "def tokenize(corpus, max_len=40, num_words=VOCAB_SIZE):\n",
    "    tokenizer = Tokenizer(num_words=num_words, filters='', oov_token='<unk>')\n",
    "    tokenizer.fit_on_texts(corpus)\n",
    "\n",
    "    sequences = tokenizer.texts_to_sequences(corpus)\n",
    "\n",
    "    # max_len 이하 문장만 필터링\n",
    "    filtered = [(seq, sent) for seq, sent in zip(sequences, corpus) if len(seq) <= max_len]\n",
    "\n",
    "    filtered_seqs = [seq for seq, _ in filtered]\n",
    "    filtered_corpus = [sent for _, sent in filtered]\n",
    "\n",
    "    tensor = pad_sequences(filtered_seqs, padding='post', maxlen=max_len)\n",
    "\n",
    "    return tensor, tokenizer, filtered_corpus"
   ]
  },
  {
   "cell_type": "markdown",
   "id": "88a9688e",
   "metadata": {},
   "source": [
    "영어 데이터는 keras기반 tokenizer로 40개 토큰 이하만 선정."
   ]
  },
  {
   "cell_type": "code",
   "execution_count": 15,
   "id": "f4568130",
   "metadata": {},
   "outputs": [],
   "source": [
    "en_tensor, tokenizer_en, filtered_en_corpus = tokenize(df['en_corpus'], max_len=MAX_LEN)\n",
    "\n",
    "df = df[df['en_corpus'].isin(filtered_en_corpus)].reset_index(drop=True)\n",
    "\n",
    "df['en_token'] = en_tensor.tolist()"
   ]
  },
  {
   "cell_type": "code",
   "execution_count": 16,
   "id": "8e5a0fe1",
   "metadata": {},
   "outputs": [
    {
     "data": {
      "text/html": [
       "<div>\n",
       "<style scoped>\n",
       "    .dataframe tbody tr th:only-of-type {\n",
       "        vertical-align: middle;\n",
       "    }\n",
       "\n",
       "    .dataframe tbody tr th {\n",
       "        vertical-align: top;\n",
       "    }\n",
       "\n",
       "    .dataframe thead th {\n",
       "        text-align: right;\n",
       "    }\n",
       "</style>\n",
       "<table border=\"1\" class=\"dataframe\">\n",
       "  <thead>\n",
       "    <tr style=\"text-align: right;\">\n",
       "      <th></th>\n",
       "      <th>ko</th>\n",
       "      <th>en</th>\n",
       "      <th>ko_corpus</th>\n",
       "      <th>en_corpus</th>\n",
       "      <th>ko_morphs</th>\n",
       "      <th>ko_token</th>\n",
       "      <th>en_token</th>\n",
       "    </tr>\n",
       "  </thead>\n",
       "  <tbody>\n",
       "    <tr>\n",
       "      <th>0</th>\n",
       "      <td>개인용 컴퓨터 사용의 상당 부분은 \"이것보다 뛰어날 수 있느냐?\"</td>\n",
       "      <td>Much of personal computing is about \"can you t...</td>\n",
       "      <td>개인용 컴퓨터 사용의 상당 부분은 이것보다 뛰어날 수 있느냐 ?</td>\n",
       "      <td>&lt;start&gt; much of personal computing is about ca...</td>\n",
       "      <td>[개인, 용, 컴퓨터, 사용, 의, 상당, 부분, 은, 이것, 보다, 뛰어날, 수,...</td>\n",
       "      <td>[708, 649, 563, 175, 7, 1415, 905, 9, 767, 161...</td>\n",
       "      <td>[4, 289, 8, 1369, 8746, 17, 45, 102, 88, 206, ...</td>\n",
       "    </tr>\n",
       "    <tr>\n",
       "      <th>1</th>\n",
       "      <td>모든 광마우스와 마찬가지 로 이 광마우스도 책상 위에 놓는 마우스 패드를 필요로 하...</td>\n",
       "      <td>so a mention a few weeks ago about a rechargea...</td>\n",
       "      <td>모든 광마우스와 마찬가지 로 이 광마우스도 책상 위에 놓는 마우스 패드를 필요로 하...</td>\n",
       "      <td>&lt;start&gt; so a mention a few weeks ago about a r...</td>\n",
       "      <td>[모든, 광, 마우스, 와, 마찬가지, 로, 이, 광, 마우스, 도, 책상, 위, ...</td>\n",
       "      <td>[212, 5273, 7084, 29, 2751, 22, 4, 5273, 7084,...</td>\n",
       "      <td>[4, 143, 9, 3744, 9, 401, 400, 276, 45, 9, 144...</td>\n",
       "    </tr>\n",
       "    <tr>\n",
       "      <th>2</th>\n",
       "      <td>그러나 이것은 또한 책상도 필요로 하지 않는다.</td>\n",
       "      <td>Like all optical mice, But it also doesn't nee...</td>\n",
       "      <td>그러나 이것은 또한 책상도 필요로 하지 않는다 .</td>\n",
       "      <td>&lt;start&gt; like all optical mice , but it also do...</td>\n",
       "      <td>[그러나, 이것, 은, 또한, 책상, 도, 필요, 로, 하, 지, 않, 는다, .]</td>\n",
       "      <td>[92, 767, 9, 185, 7321, 37, 238, 22, 11, 28, 4...</td>\n",
       "      <td>[4, 161, 76, 12843, 5024, 6, 33, 20, 55, 984, ...</td>\n",
       "    </tr>\n",
       "    <tr>\n",
       "      <th>3</th>\n",
       "      <td>\"결정적인 순간에 그들의 능력을 증가시켜 줄 그 무엇이 매우 중요합니다.\"</td>\n",
       "      <td>\"Something that will boost their capabilities ...</td>\n",
       "      <td>결정적인 순간에 그들의 능력을 증가시켜 줄 그 무엇이 매우 중요합니다 .</td>\n",
       "      <td>&lt;start&gt; something that will boost their capabi...</td>\n",
       "      <td>[결정, 적, 인, 순간, 에, 그, 들, 의, 능력, 을, 증가, 시켜, 줄, 그...</td>\n",
       "      <td>[210, 32, 25, 1440, 8, 27, 15, 7, 1416, 6, 338...</td>\n",
       "      <td>[4, 812, 16, 34, 1972, 46, 7438, 21, 1973, 368...</td>\n",
       "    </tr>\n",
       "    <tr>\n",
       "      <th>4</th>\n",
       "      <td>연구가들이 이미 커피 대체품으로서 음식 대용 과자나 껌에 카페인을 첨가하는 방법을 ...</td>\n",
       "      <td>Researchers are already exploring ways to put ...</td>\n",
       "      <td>연구가들이 이미 커피 대체품으로서 음식 대용 과자나 껌에 카페인을 첨가하는 방법을 ...</td>\n",
       "      <td>&lt;start&gt; researchers are already exploring ways...</td>\n",
       "      <td>[연구가, 들, 이, 이미, 커피, 대체, 품, 으로서, 음식, 대용, 과자, 나,...</td>\n",
       "      <td>[1, 15, 4, 387, 2752, 2158, 2960, 1239, 1344, ...</td>\n",
       "      <td>[4, 1200, 31, 345, 7790, 1675, 7, 390, 8747, 1...</td>\n",
       "    </tr>\n",
       "  </tbody>\n",
       "</table>\n",
       "</div>"
      ],
      "text/plain": [
       "                                                  ko  \\\n",
       "0               개인용 컴퓨터 사용의 상당 부분은 \"이것보다 뛰어날 수 있느냐?\"   \n",
       "1  모든 광마우스와 마찬가지 로 이 광마우스도 책상 위에 놓는 마우스 패드를 필요로 하...   \n",
       "2                         그러나 이것은 또한 책상도 필요로 하지 않는다.   \n",
       "3          \"결정적인 순간에 그들의 능력을 증가시켜 줄 그 무엇이 매우 중요합니다.\"   \n",
       "4  연구가들이 이미 커피 대체품으로서 음식 대용 과자나 껌에 카페인을 첨가하는 방법을 ...   \n",
       "\n",
       "                                                  en  \\\n",
       "0  Much of personal computing is about \"can you t...   \n",
       "1  so a mention a few weeks ago about a rechargea...   \n",
       "2  Like all optical mice, But it also doesn't nee...   \n",
       "3  \"Something that will boost their capabilities ...   \n",
       "4  Researchers are already exploring ways to put ...   \n",
       "\n",
       "                                           ko_corpus  \\\n",
       "0                개인용 컴퓨터 사용의 상당 부분은 이것보다 뛰어날 수 있느냐 ?   \n",
       "1  모든 광마우스와 마찬가지 로 이 광마우스도 책상 위에 놓는 마우스 패드를 필요로 하...   \n",
       "2                        그러나 이것은 또한 책상도 필요로 하지 않는다 .   \n",
       "3           결정적인 순간에 그들의 능력을 증가시켜 줄 그 무엇이 매우 중요합니다 .   \n",
       "4  연구가들이 이미 커피 대체품으로서 음식 대용 과자나 껌에 카페인을 첨가하는 방법을 ...   \n",
       "\n",
       "                                           en_corpus  \\\n",
       "0  <start> much of personal computing is about ca...   \n",
       "1  <start> so a mention a few weeks ago about a r...   \n",
       "2  <start> like all optical mice , but it also do...   \n",
       "3  <start> something that will boost their capabi...   \n",
       "4  <start> researchers are already exploring ways...   \n",
       "\n",
       "                                           ko_morphs  \\\n",
       "0  [개인, 용, 컴퓨터, 사용, 의, 상당, 부분, 은, 이것, 보다, 뛰어날, 수,...   \n",
       "1  [모든, 광, 마우스, 와, 마찬가지, 로, 이, 광, 마우스, 도, 책상, 위, ...   \n",
       "2     [그러나, 이것, 은, 또한, 책상, 도, 필요, 로, 하, 지, 않, 는다, .]   \n",
       "3  [결정, 적, 인, 순간, 에, 그, 들, 의, 능력, 을, 증가, 시켜, 줄, 그...   \n",
       "4  [연구가, 들, 이, 이미, 커피, 대체, 품, 으로서, 음식, 대용, 과자, 나,...   \n",
       "\n",
       "                                            ko_token  \\\n",
       "0  [708, 649, 563, 175, 7, 1415, 905, 9, 767, 161...   \n",
       "1  [212, 5273, 7084, 29, 2751, 22, 4, 5273, 7084,...   \n",
       "2  [92, 767, 9, 185, 7321, 37, 238, 22, 11, 28, 4...   \n",
       "3  [210, 32, 25, 1440, 8, 27, 15, 7, 1416, 6, 338...   \n",
       "4  [1, 15, 4, 387, 2752, 2158, 2960, 1239, 1344, ...   \n",
       "\n",
       "                                            en_token  \n",
       "0  [4, 289, 8, 1369, 8746, 17, 45, 102, 88, 206, ...  \n",
       "1  [4, 143, 9, 3744, 9, 401, 400, 276, 45, 9, 144...  \n",
       "2  [4, 161, 76, 12843, 5024, 6, 33, 20, 55, 984, ...  \n",
       "3  [4, 812, 16, 34, 1972, 46, 7438, 21, 1973, 368...  \n",
       "4  [4, 1200, 31, 345, 7790, 1675, 7, 390, 8747, 1...  "
      ]
     },
     "execution_count": 16,
     "metadata": {},
     "output_type": "execute_result"
    }
   ],
   "source": [
    "df.head()"
   ]
  },
  {
   "cell_type": "code",
   "execution_count": 17,
   "id": "90d38045",
   "metadata": {},
   "outputs": [
    {
     "name": "stdout",
     "output_type": "stream",
     "text": [
      "Vocab 크기: 15000\n",
      "<unk> → 1\n",
      ". → 2\n",
      "다 → 3\n",
      "이 → 4\n",
      "는 → 5\n",
      "을 → 6\n",
      "의 → 7\n",
      "에 → 8\n",
      "은 → 9\n",
      "를 → 10\n"
     ]
    }
   ],
   "source": [
    "print(\"Vocab 크기:\", len(vocab))\n",
    "\n",
    "for token, idx in list(vocab.items())[:10]:\n",
    "    print(f\"{token} → {idx}\")"
   ]
  },
  {
   "cell_type": "code",
   "execution_count": 18,
   "id": "c243d779",
   "metadata": {},
   "outputs": [
    {
     "name": "stdout",
     "output_type": "stream",
     "text": [
      "제한된 단어 수: 15000\n",
      "전체 단어 수: 41012\n"
     ]
    }
   ],
   "source": [
    "print(\"제한된 단어 수:\", tokenizer_en.num_words)\n",
    "print(\"전체 단어 수:\", len(tokenizer_en.word_index))"
   ]
  },
  {
   "cell_type": "code",
   "execution_count": 19,
   "id": "4999901f",
   "metadata": {},
   "outputs": [],
   "source": [
    "class BahdanauAttention(tf.keras.layers.Layer):\n",
    "    def __init__(self, units):\n",
    "        super(BahdanauAttention, self).__init__()\n",
    "        self.w_dec = tf.keras.layers.Dense(units)\n",
    "        self.w_enc = tf.keras.layers.Dense(units)\n",
    "        self.w_com = tf.keras.layers.Dense(1)\n",
    "    \n",
    "    def call(self, h_enc, h_dec):\n",
    "        # h_enc shape: [batch x length x units]\n",
    "        # h_dec shape: [batch x units]\n",
    "\n",
    "        h_enc = self.w_enc(h_enc)\n",
    "        h_dec = tf.expand_dims(h_dec, 1)\n",
    "        h_dec = self.w_dec(h_dec)\n",
    "\n",
    "        score = self.w_com(tf.nn.tanh(h_dec + h_enc))\n",
    "        \n",
    "        attn = tf.nn.softmax(score, axis=1)\n",
    "\n",
    "        context_vec = attn * h_enc\n",
    "        context_vec = tf.reduce_sum(context_vec, axis=1)\n",
    "\n",
    "        return context_vec, attn"
   ]
  },
  {
   "cell_type": "markdown",
   "id": "39534386",
   "metadata": {},
   "source": [
    "드롭아웃 0.3을 적용한 lstm기반 seq2seq + attention 모델"
   ]
  },
  {
   "cell_type": "code",
   "execution_count": 20,
   "id": "1a4dafb8",
   "metadata": {},
   "outputs": [],
   "source": [
    "class Encoder(tf.keras.Model):\n",
    "    def __init__(self, vocab_size, embedding_dim, enc_units, dropout_rate=0.3):\n",
    "        super(Encoder, self).__init__()\n",
    "        self.enc_units = enc_units\n",
    "        self.embedding = tf.keras.layers.Embedding(vocab_size, embedding_dim)\n",
    "        self.dropout = tf.keras.layers.Dropout(dropout_rate)\n",
    "        self.lstm = tf.keras.layers.LSTM(\n",
    "            enc_units,\n",
    "            return_state=True,\n",
    "            return_sequences=True,\n",
    "            dropout=dropout_rate,           # LSTM 내부 dropout\n",
    "        )\n",
    "\n",
    "    def call(self, x):\n",
    "        out = self.embedding(x)\n",
    "        out = self.dropout(out)\n",
    "        out, h, c = self.lstm(out)\n",
    "        return out, h, c\n",
    "\n",
    "\n",
    "class Decoder(tf.keras.Model):\n",
    "    def __init__(self, vocab_size, embedding_dim, dec_units, dropout_rate=0.3):\n",
    "        super(Decoder, self).__init__()\n",
    "        self.dec_units = dec_units\n",
    "        self.embedding = tf.keras.layers.Embedding(vocab_size, embedding_dim)\n",
    "        self.dropout = tf.keras.layers.Dropout(dropout_rate)\n",
    "        self.lstm = tf.keras.layers.LSTM(\n",
    "            dec_units,\n",
    "            return_sequences=True,\n",
    "            return_state=True,\n",
    "            dropout=dropout_rate,\n",
    "        )\n",
    "        self.fc = tf.keras.layers.Dense(vocab_size)\n",
    "        self.attention = BahdanauAttention(self.dec_units)\n",
    "\n",
    "    def call(self, x, h_dec, c_dec, enc_out):\n",
    "        context_vec, attn = self.attention(enc_out, h_dec)\n",
    "\n",
    "        x = self.embedding(x)\n",
    "        x = self.dropout(x)\n",
    "\n",
    "        x = tf.concat([tf.expand_dims(context_vec, 1), x], axis=-1)\n",
    "        out, h_dec, c_dec = self.lstm(x, initial_state=[h_dec, c_dec])\n",
    "        out = tf.reshape(out, (-1, out.shape[2]))\n",
    "        out = self.fc(out)\n",
    "\n",
    "        return out, h_dec, c_dec, attn"
   ]
  },
  {
   "cell_type": "code",
   "execution_count": 21,
   "id": "e6d3956b",
   "metadata": {},
   "outputs": [
    {
     "name": "stdout",
     "output_type": "stream",
     "text": [
      "Decoder Output: (32, 15000)\n",
      "Decoder Hidden State: (32, 1024)\n",
      "Attention: (32, 30, 1)\n"
     ]
    }
   ],
   "source": [
    "BATCH_SIZE     = 32\n",
    "SRC_VOCAB_SIZE = VOCAB_SIZE\n",
    "TGT_VOCAB_SIZE = VOCAB_SIZE\n",
    "\n",
    "units         = 1024\n",
    "embedding_dim = 512\n",
    "\n",
    "encoder = Encoder(SRC_VOCAB_SIZE, embedding_dim, units)\n",
    "decoder = Decoder(TGT_VOCAB_SIZE, embedding_dim, units)\n",
    "\n",
    "# sample input\n",
    "sequence_len = 30\n",
    "\n",
    "sample_enc = tf.random.uniform(\n",
    "    (BATCH_SIZE, sequence_len),\n",
    "    minval=0,\n",
    "    maxval=VOCAB_SIZE,\n",
    "    dtype=tf.int32\n",
    ")\n",
    "enc_out, h_enc, c_enc = encoder(sample_enc)\n",
    "\n",
    "sample_logits, h_dec, c_dec, attn = decoder(\n",
    "    tf.random.uniform((BATCH_SIZE, 1), minval=0, maxval=VOCAB_SIZE,dtype=tf.int32),\n",
    "    h_enc,\n",
    "    c_enc,\n",
    "    enc_out\n",
    ")\n",
    "\n",
    "print ('Decoder Output:', sample_logits.shape)\n",
    "print ('Decoder Hidden State:', h_dec.shape)\n",
    "print ('Attention:', attn.shape)"
   ]
  },
  {
   "cell_type": "code",
   "execution_count": 22,
   "id": "bcef6c8a",
   "metadata": {},
   "outputs": [],
   "source": [
    "optimizer = tf.keras.optimizers.Adam()\n",
    "loss_object = tf.keras.losses.SparseCategoricalCrossentropy(\n",
    "    from_logits=True, reduction='none')\n",
    "\n",
    "def loss_function(real, pred):\n",
    "    mask = tf.math.logical_not(tf.math.equal(real, 0))\n",
    "    loss = loss_object(real, pred)\n",
    "    \n",
    "    mask = tf.cast(mask, dtype=loss.dtype)\n",
    "    loss *= mask\n",
    "    \n",
    "    return tf.reduce_mean(loss)\n"
   ]
  },
  {
   "cell_type": "code",
   "execution_count": 83,
   "id": "12800746",
   "metadata": {},
   "outputs": [],
   "source": [
    "#@tf.function\n",
    "def train_step(src, tgt, encoder, decoder, optimizer, dec_tok):\n",
    "    bsz = src.shape[0]\n",
    "    loss = 0\n",
    "\n",
    "    with tf.GradientTape() as tape:\n",
    "        # 컨텍스트 벡터 생성\n",
    "        enc_out, h_dec, c_dec = encoder(src)\n",
    "\n",
    "        \n",
    "        # 디코더에 입력으로 넣을 <start> token 생성\n",
    "        dec_src = tf.expand_dims([dec_tok.word_index['<start>']] * bsz, 1)\n",
    "\n",
    "        _ = decoder(dec_src, h_dec, c_dec, enc_out)\n",
    "\n",
    "        for t in range(1, tgt.shape[1]):\n",
    "            # dec_src 다음으로 올 단어를 예측\n",
    "            pred, h_dec, c_dec, _ = decoder(dec_src, h_dec, c_dec, enc_out)\n",
    "\n",
    "            # 예측과 실제 값을 비교하여 loss계산\n",
    "            loss += loss_function(tgt[:, t], pred)\n",
    "            # dec_src는 예측단어가 아닌 실제 단어 사용.\n",
    "            dec_src = tf.expand_dims(tgt[:, t], 1)\n",
    "        \n",
    "    batch_loss = (loss / int(tgt.shape[1]))\n",
    "\n",
    "    variables = encoder.trainable_variables + decoder.trainable_variables\n",
    "    gradients = tape.gradient(loss, variables)\n",
    "    optimizer.apply_gradients(zip(gradients, variables))\n",
    "    \n",
    "    return batch_loss"
   ]
  },
  {
   "cell_type": "code",
   "execution_count": 24,
   "id": "f635dc03",
   "metadata": {
    "scrolled": true
   },
   "outputs": [
    {
     "name": "stderr",
     "output_type": "stream",
     "text": [
      "[Epoch 1]: 100%|██████████| 1718/1718 [10:43<00:00,  2.67it/s, loss=3.3] \n"
     ]
    },
    {
     "name": "stdout",
     "output_type": "stream",
     "text": [
      "Epoch 1, Train Loss: 3.3026, Val Loss: 2.8977\n"
     ]
    },
    {
     "name": "stderr",
     "output_type": "stream",
     "text": [
      "[Epoch 2]: 100%|██████████| 1718/1718 [10:00<00:00,  2.86it/s, loss=2.66]\n"
     ]
    },
    {
     "name": "stdout",
     "output_type": "stream",
     "text": [
      "Epoch 2, Train Loss: 2.6554, Val Loss: 2.4481\n"
     ]
    },
    {
     "name": "stderr",
     "output_type": "stream",
     "text": [
      "[Epoch 3]: 100%|██████████| 1718/1718 [10:00<00:00,  2.86it/s, loss=2.29]\n"
     ]
    },
    {
     "name": "stdout",
     "output_type": "stream",
     "text": [
      "Epoch 3, Train Loss: 2.2889, Val Loss: 2.1195\n"
     ]
    },
    {
     "name": "stderr",
     "output_type": "stream",
     "text": [
      "[Epoch 4]: 100%|██████████| 1718/1718 [10:00<00:00,  2.86it/s, loss=1.99]\n"
     ]
    },
    {
     "name": "stdout",
     "output_type": "stream",
     "text": [
      "Epoch 4, Train Loss: 1.9923, Val Loss: 1.8259\n"
     ]
    },
    {
     "name": "stderr",
     "output_type": "stream",
     "text": [
      "[Epoch 5]: 100%|██████████| 1718/1718 [09:59<00:00,  2.86it/s, loss=1.72]\n"
     ]
    },
    {
     "name": "stdout",
     "output_type": "stream",
     "text": [
      "Epoch 5, Train Loss: 1.7235, Val Loss: 1.5674\n"
     ]
    },
    {
     "name": "stderr",
     "output_type": "stream",
     "text": [
      "[Epoch 6]:  13%|█▎        | 225/1718 [01:18<08:43,  2.85it/s, loss=1.41]\n"
     ]
    },
    {
     "ename": "KeyboardInterrupt",
     "evalue": "",
     "output_type": "error",
     "traceback": [
      "\u001b[0;31m---------------------------------------------------------------------------\u001b[0m",
      "\u001b[0;31mKeyboardInterrupt\u001b[0m                         Traceback (most recent call last)",
      "\u001b[0;32m/tmp/ipykernel_60/2646245402.py\u001b[0m in \u001b[0;36m<module>\u001b[0;34m\u001b[0m\n\u001b[1;32m     38\u001b[0m     \u001b[0;31m# 학습 루프\u001b[0m\u001b[0;34m\u001b[0m\u001b[0;34m\u001b[0m\u001b[0m\n\u001b[1;32m     39\u001b[0m     \u001b[0;32mfor\u001b[0m \u001b[0;34m(\u001b[0m\u001b[0menc_batch\u001b[0m\u001b[0;34m,\u001b[0m \u001b[0mdec_batch\u001b[0m\u001b[0;34m)\u001b[0m \u001b[0;32min\u001b[0m \u001b[0mt\u001b[0m\u001b[0;34m:\u001b[0m\u001b[0;34m\u001b[0m\u001b[0;34m\u001b[0m\u001b[0m\n\u001b[0;32m---> 40\u001b[0;31m         \u001b[0mbatch_loss\u001b[0m \u001b[0;34m=\u001b[0m \u001b[0mtrain_step\u001b[0m\u001b[0;34m(\u001b[0m\u001b[0menc_batch\u001b[0m\u001b[0;34m,\u001b[0m \u001b[0mdec_batch\u001b[0m\u001b[0;34m,\u001b[0m \u001b[0mencoder\u001b[0m\u001b[0;34m,\u001b[0m \u001b[0mdecoder\u001b[0m\u001b[0;34m,\u001b[0m \u001b[0moptimizer\u001b[0m\u001b[0;34m,\u001b[0m \u001b[0mtokenizer_en\u001b[0m\u001b[0;34m)\u001b[0m\u001b[0;34m\u001b[0m\u001b[0;34m\u001b[0m\u001b[0m\n\u001b[0m\u001b[1;32m     41\u001b[0m         \u001b[0mtotal_loss\u001b[0m \u001b[0;34m+=\u001b[0m \u001b[0mbatch_loss\u001b[0m\u001b[0;34m\u001b[0m\u001b[0;34m\u001b[0m\u001b[0m\n\u001b[1;32m     42\u001b[0m         \u001b[0mt\u001b[0m\u001b[0;34m.\u001b[0m\u001b[0mset_postfix\u001b[0m\u001b[0;34m(\u001b[0m\u001b[0mloss\u001b[0m\u001b[0;34m=\u001b[0m\u001b[0mtotal_loss\u001b[0m\u001b[0;34m.\u001b[0m\u001b[0mnumpy\u001b[0m\u001b[0;34m(\u001b[0m\u001b[0;34m)\u001b[0m \u001b[0;34m/\u001b[0m \u001b[0;34m(\u001b[0m\u001b[0mt\u001b[0m\u001b[0;34m.\u001b[0m\u001b[0mn\u001b[0m \u001b[0;34m+\u001b[0m \u001b[0;36m1\u001b[0m\u001b[0;34m)\u001b[0m\u001b[0;34m)\u001b[0m\u001b[0;34m\u001b[0m\u001b[0;34m\u001b[0m\u001b[0m\n",
      "\u001b[0;32m/opt/conda/lib/python3.9/site-packages/tensorflow/python/eager/def_function.py\u001b[0m in \u001b[0;36m__call__\u001b[0;34m(self, *args, **kwds)\u001b[0m\n\u001b[1;32m    883\u001b[0m \u001b[0;34m\u001b[0m\u001b[0m\n\u001b[1;32m    884\u001b[0m       \u001b[0;32mwith\u001b[0m \u001b[0mOptionalXlaContext\u001b[0m\u001b[0;34m(\u001b[0m\u001b[0mself\u001b[0m\u001b[0;34m.\u001b[0m\u001b[0m_jit_compile\u001b[0m\u001b[0;34m)\u001b[0m\u001b[0;34m:\u001b[0m\u001b[0;34m\u001b[0m\u001b[0;34m\u001b[0m\u001b[0m\n\u001b[0;32m--> 885\u001b[0;31m         \u001b[0mresult\u001b[0m \u001b[0;34m=\u001b[0m \u001b[0mself\u001b[0m\u001b[0;34m.\u001b[0m\u001b[0m_call\u001b[0m\u001b[0;34m(\u001b[0m\u001b[0;34m*\u001b[0m\u001b[0margs\u001b[0m\u001b[0;34m,\u001b[0m \u001b[0;34m**\u001b[0m\u001b[0mkwds\u001b[0m\u001b[0;34m)\u001b[0m\u001b[0;34m\u001b[0m\u001b[0;34m\u001b[0m\u001b[0m\n\u001b[0m\u001b[1;32m    886\u001b[0m \u001b[0;34m\u001b[0m\u001b[0m\n\u001b[1;32m    887\u001b[0m       \u001b[0mnew_tracing_count\u001b[0m \u001b[0;34m=\u001b[0m \u001b[0mself\u001b[0m\u001b[0;34m.\u001b[0m\u001b[0mexperimental_get_tracing_count\u001b[0m\u001b[0;34m(\u001b[0m\u001b[0;34m)\u001b[0m\u001b[0;34m\u001b[0m\u001b[0;34m\u001b[0m\u001b[0m\n",
      "\u001b[0;32m/opt/conda/lib/python3.9/site-packages/tensorflow/python/eager/def_function.py\u001b[0m in \u001b[0;36m_call\u001b[0;34m(self, *args, **kwds)\u001b[0m\n\u001b[1;32m    915\u001b[0m       \u001b[0;31m# In this case we have created variables on the first call, so we run the\u001b[0m\u001b[0;34m\u001b[0m\u001b[0;34m\u001b[0m\u001b[0m\n\u001b[1;32m    916\u001b[0m       \u001b[0;31m# defunned version which is guaranteed to never create variables.\u001b[0m\u001b[0;34m\u001b[0m\u001b[0;34m\u001b[0m\u001b[0m\n\u001b[0;32m--> 917\u001b[0;31m       \u001b[0;32mreturn\u001b[0m \u001b[0mself\u001b[0m\u001b[0;34m.\u001b[0m\u001b[0m_stateless_fn\u001b[0m\u001b[0;34m(\u001b[0m\u001b[0;34m*\u001b[0m\u001b[0margs\u001b[0m\u001b[0;34m,\u001b[0m \u001b[0;34m**\u001b[0m\u001b[0mkwds\u001b[0m\u001b[0;34m)\u001b[0m  \u001b[0;31m# pylint: disable=not-callable\u001b[0m\u001b[0;34m\u001b[0m\u001b[0;34m\u001b[0m\u001b[0m\n\u001b[0m\u001b[1;32m    918\u001b[0m     \u001b[0;32melif\u001b[0m \u001b[0mself\u001b[0m\u001b[0;34m.\u001b[0m\u001b[0m_stateful_fn\u001b[0m \u001b[0;32mis\u001b[0m \u001b[0;32mnot\u001b[0m \u001b[0;32mNone\u001b[0m\u001b[0;34m:\u001b[0m\u001b[0;34m\u001b[0m\u001b[0;34m\u001b[0m\u001b[0m\n\u001b[1;32m    919\u001b[0m       \u001b[0;31m# Release the lock early so that multiple threads can perform the call\u001b[0m\u001b[0;34m\u001b[0m\u001b[0;34m\u001b[0m\u001b[0m\n",
      "\u001b[0;32m/opt/conda/lib/python3.9/site-packages/tensorflow/python/eager/function.py\u001b[0m in \u001b[0;36m__call__\u001b[0;34m(self, *args, **kwargs)\u001b[0m\n\u001b[1;32m   3037\u001b[0m       (graph_function,\n\u001b[1;32m   3038\u001b[0m        filtered_flat_args) = self._maybe_define_function(args, kwargs)\n\u001b[0;32m-> 3039\u001b[0;31m     return graph_function._call_flat(\n\u001b[0m\u001b[1;32m   3040\u001b[0m         filtered_flat_args, captured_inputs=graph_function.captured_inputs)  # pylint: disable=protected-access\n\u001b[1;32m   3041\u001b[0m \u001b[0;34m\u001b[0m\u001b[0m\n",
      "\u001b[0;32m/opt/conda/lib/python3.9/site-packages/tensorflow/python/eager/function.py\u001b[0m in \u001b[0;36m_call_flat\u001b[0;34m(self, args, captured_inputs, cancellation_manager)\u001b[0m\n\u001b[1;32m   1961\u001b[0m         and executing_eagerly):\n\u001b[1;32m   1962\u001b[0m       \u001b[0;31m# No tape is watching; skip to running the function.\u001b[0m\u001b[0;34m\u001b[0m\u001b[0;34m\u001b[0m\u001b[0m\n\u001b[0;32m-> 1963\u001b[0;31m       return self._build_call_outputs(self._inference_function.call(\n\u001b[0m\u001b[1;32m   1964\u001b[0m           ctx, args, cancellation_manager=cancellation_manager))\n\u001b[1;32m   1965\u001b[0m     forward_backward = self._select_forward_and_backward_functions(\n",
      "\u001b[0;32m/opt/conda/lib/python3.9/site-packages/tensorflow/python/eager/function.py\u001b[0m in \u001b[0;36mcall\u001b[0;34m(self, ctx, args, cancellation_manager)\u001b[0m\n\u001b[1;32m    589\u001b[0m       \u001b[0;32mwith\u001b[0m \u001b[0m_InterpolateFunctionError\u001b[0m\u001b[0;34m(\u001b[0m\u001b[0mself\u001b[0m\u001b[0;34m)\u001b[0m\u001b[0;34m:\u001b[0m\u001b[0;34m\u001b[0m\u001b[0;34m\u001b[0m\u001b[0m\n\u001b[1;32m    590\u001b[0m         \u001b[0;32mif\u001b[0m \u001b[0mcancellation_manager\u001b[0m \u001b[0;32mis\u001b[0m \u001b[0;32mNone\u001b[0m\u001b[0;34m:\u001b[0m\u001b[0;34m\u001b[0m\u001b[0;34m\u001b[0m\u001b[0m\n\u001b[0;32m--> 591\u001b[0;31m           outputs = execute.execute(\n\u001b[0m\u001b[1;32m    592\u001b[0m               \u001b[0mstr\u001b[0m\u001b[0;34m(\u001b[0m\u001b[0mself\u001b[0m\u001b[0;34m.\u001b[0m\u001b[0msignature\u001b[0m\u001b[0;34m.\u001b[0m\u001b[0mname\u001b[0m\u001b[0;34m)\u001b[0m\u001b[0;34m,\u001b[0m\u001b[0;34m\u001b[0m\u001b[0;34m\u001b[0m\u001b[0m\n\u001b[1;32m    593\u001b[0m               \u001b[0mnum_outputs\u001b[0m\u001b[0;34m=\u001b[0m\u001b[0mself\u001b[0m\u001b[0;34m.\u001b[0m\u001b[0m_num_outputs\u001b[0m\u001b[0;34m,\u001b[0m\u001b[0;34m\u001b[0m\u001b[0;34m\u001b[0m\u001b[0m\n",
      "\u001b[0;32m/opt/conda/lib/python3.9/site-packages/tensorflow/python/eager/execute.py\u001b[0m in \u001b[0;36mquick_execute\u001b[0;34m(op_name, num_outputs, inputs, attrs, ctx, name)\u001b[0m\n\u001b[1;32m     57\u001b[0m   \u001b[0;32mtry\u001b[0m\u001b[0;34m:\u001b[0m\u001b[0;34m\u001b[0m\u001b[0;34m\u001b[0m\u001b[0m\n\u001b[1;32m     58\u001b[0m     \u001b[0mctx\u001b[0m\u001b[0;34m.\u001b[0m\u001b[0mensure_initialized\u001b[0m\u001b[0;34m(\u001b[0m\u001b[0;34m)\u001b[0m\u001b[0;34m\u001b[0m\u001b[0;34m\u001b[0m\u001b[0m\n\u001b[0;32m---> 59\u001b[0;31m     tensors = pywrap_tfe.TFE_Py_Execute(ctx._handle, device_name, op_name,\n\u001b[0m\u001b[1;32m     60\u001b[0m                                         inputs, attrs, num_outputs)\n\u001b[1;32m     61\u001b[0m   \u001b[0;32mexcept\u001b[0m \u001b[0mcore\u001b[0m\u001b[0;34m.\u001b[0m\u001b[0m_NotOkStatusException\u001b[0m \u001b[0;32mas\u001b[0m \u001b[0me\u001b[0m\u001b[0;34m:\u001b[0m\u001b[0;34m\u001b[0m\u001b[0;34m\u001b[0m\u001b[0m\n",
      "\u001b[0;31mKeyboardInterrupt\u001b[0m: "
     ]
    }
   ],
   "source": [
    "from tqdm import tqdm    # tqdm\n",
    "import random\n",
    "from sklearn.model_selection import train_test_split\n",
    "\n",
    "enc_token = df['ko_token'].tolist()\n",
    "dec_token = df['en_token'].tolist()\n",
    "\n",
    "enc_train, enc_val, dec_train, dec_val = train_test_split(enc_token, dec_token, test_size=0.1, random_state=42)\n",
    "\n",
    "enc_train = tf.convert_to_tensor(enc_train, dtype=tf.int32)\n",
    "enc_val   = tf.convert_to_tensor(enc_val, dtype=tf.int32)\n",
    "dec_train = tf.convert_to_tensor(dec_train, dtype=tf.int32)\n",
    "dec_val   = tf.convert_to_tensor(dec_val, dtype=tf.int32)\n",
    "\n",
    "\n",
    "train_dataset = tf.data.Dataset.from_tensor_slices((enc_train, dec_train))\n",
    "train_dataset = train_dataset.shuffle(buffer_size=len(enc_train)).batch(BATCH_SIZE, drop_remainder=True)\n",
    "\n",
    "val_dataset = tf.data.Dataset.from_tensor_slices((enc_val, dec_val))\n",
    "val_dataset = val_dataset.batch(BATCH_SIZE)\n",
    "\n",
    "EPOCHS = 20\n",
    "\n",
    "patience = 3\n",
    "best_val_loss = float('inf')\n",
    "patience_counter = 0\n",
    "\n",
    "train_losses = []\n",
    "val_losses = []\n",
    "\n",
    "# 4. 학습 루프\n",
    "for epoch in range(EPOCHS):\n",
    "    total_loss = 0\n",
    "    val_loss = 0\n",
    "\n",
    "    t = tqdm(train_dataset, desc=f\"[Epoch {epoch+1}]\")\n",
    "\n",
    "    # 학습 루프\n",
    "    for (enc_batch, dec_batch) in t:\n",
    "        batch_loss = train_step(enc_batch, dec_batch, encoder, decoder, optimizer, tokenizer_en)\n",
    "        total_loss += batch_loss\n",
    "        t.set_postfix(loss=total_loss.numpy() / (t.n + 1))\n",
    "\n",
    "    train_loss = total_loss.numpy() / len(train_dataset)\n",
    "    train_losses.append(train_loss)\n",
    "\n",
    "    # 검증 루프\n",
    "    for (enc_batch, dec_batch) in val_dataset:\n",
    "        val_batch_loss = train_step(enc_batch, dec_batch, encoder, decoder, optimizer, tokenizer_en)\n",
    "        val_loss += val_batch_loss\n",
    "\n",
    "    val_loss = val_loss.numpy() / len(val_dataset)\n",
    "    val_losses.append(val_loss)\n",
    "\n",
    "    print(f\"Epoch {epoch+1}, Train Loss: {train_loss:.4f}, Val Loss: {val_loss:.4f}\")\n",
    "\n",
    "    # Early Stopping 조건\n",
    "    if val_loss < best_val_loss:\n",
    "        best_val_loss = val_loss\n",
    "        patience_counter = 0\n",
    "    else:\n",
    "        patience_counter += 1\n",
    "        if patience_counter >= patience:\n",
    "            print(\"Early stopping triggered!\")\n",
    "            break"
   ]
  },
  {
   "cell_type": "code",
   "execution_count": null,
   "id": "8448c42a",
   "metadata": {},
   "outputs": [],
   "source": [
    "import matplotlib.pyplot as plt\n",
    "\n",
    "# 데이터 정의\n",
    "epochs = [1, 2, 3, 4, 5]\n",
    "train_losses = [3.3026, 2.6554, 2.2889, 1.9923, 1.7235]\n",
    "val_losses = [2.8977, 2.4481, 2.1195, 1.8259, 1.5674]\n",
    "\n",
    "# 시각화\n",
    "plt.figure(figsize=(10, 6))\n",
    "plt.plot(epochs, train_losses, marker='o', label='Train Loss')\n",
    "plt.plot(epochs, val_losses, marker='s', label='Validation Loss')\n",
    "plt.title('Training vs Validation Loss over Epochs')\n",
    "plt.xlabel('Epoch')\n",
    "plt.ylabel('Loss')\n",
    "plt.legend()\n",
    "plt.grid(True)\n",
    "plt.xticks(epochs)\n",
    "plt.tight_layout()\n",
    "plt.show()"
   ]
  },
  {
   "cell_type": "markdown",
   "id": "10a2845e",
   "metadata": {},
   "source": [
    "![](images/output.png)"
   ]
  },
  {
   "cell_type": "code",
   "execution_count": 69,
   "id": "85824753",
   "metadata": {},
   "outputs": [],
   "source": [
    "def evaluate(sentence, encoder, decoder):\n",
    "    attention = np.zeros((dec_train.shape[-1], enc_train.shape[-1]))\n",
    "    \n",
    "    sentence = preprocessing(sentence, s_token=True)\n",
    "    tokens = tokenizer_ko.morphs(sentence)\n",
    "    \n",
    "    inputs = [vocab.get(token, vocab['<unk>']) for token in tokens]\n",
    "    inputs = tf.keras.preprocessing.sequence.pad_sequences([inputs],\n",
    "                                                           maxlen=enc_train.shape[-1],\n",
    "                                                           padding='post')\n",
    "    inputs = tf.convert_to_tensor(inputs)\n",
    "    \n",
    "    result = ''\n",
    "\n",
    "    enc_out, dec_hidden, dec_cell = encoder(inputs)\n",
    "\n",
    "    #dec_hidden = enc_out[:, -1]\n",
    "    dec_input = tf.expand_dims([tokenizer_en.word_index['<start>']], 0)\n",
    "\n",
    "    for t in range(dec_train.shape[-1]):\n",
    "        predictions, dec_hidden, dec_cell, attention_weights = decoder(dec_input,\n",
    "                                                             dec_hidden,\n",
    "                                                             dec_cell,\n",
    "                                                             enc_out)\n",
    "\n",
    "        attention_weights = tf.reshape(attention_weights, (-1, ))\n",
    "        attention[t] = attention_weights.numpy()\n",
    "\n",
    "        predicted_id = \\\n",
    "        tf.argmax(tf.math.softmax(predictions, axis=-1)[0]).numpy()\n",
    "\n",
    "        result += tokenizer_en.index_word[predicted_id] + ' '\n",
    "\n",
    "        if tokenizer_en.index_word[predicted_id] == '<end>':\n",
    "            return result, sentence, attention\n",
    "\n",
    "        dec_input = tf.expand_dims([predicted_id], 0)\n",
    "\n",
    "    return result, sentence, attention\n"
   ]
  },
  {
   "cell_type": "code",
   "execution_count": 72,
   "id": "9de0573b",
   "metadata": {},
   "outputs": [],
   "source": [
    "import matplotlib as mpl\n",
    "\n",
    "#  한글 폰트 설정 (나눔고딕 or 사용자 정의 경로)\n",
    "mpl.rcParams['font.family'] = 'NanumGothic'  # 또는 'AppleGothic', 'Malgun Gothic'\n",
    "\n",
    "# 마이너스 깨짐 방지\n",
    "mpl.rcParams['axes.unicode_minus'] = False"
   ]
  },
  {
   "cell_type": "code",
   "execution_count": 73,
   "id": "0727c928",
   "metadata": {},
   "outputs": [],
   "source": [
    "def plot_attention(attention, sentence, predicted_sentence):\n",
    "    fig = plt.figure(figsize=(10,10))\n",
    "    ax = fig.add_subplot(1, 1, 1)\n",
    "    ax.matshow(attention, cmap='viridis')\n",
    "\n",
    "    fontdict = {'fontsize': 14}\n",
    "\n",
    "    ax.set_xticklabels([''] + sentence, fontdict=fontdict, rotation=90)\n",
    "    ax.set_yticklabels([''] + predicted_sentence, fontdict=fontdict)\n",
    "\n",
    "    ax.xaxis.set_major_locator(ticker.MultipleLocator(1))\n",
    "    ax.yaxis.set_major_locator(ticker.MultipleLocator(1))\n",
    "\n",
    "    plt.show()\n",
    "\n",
    "\n",
    "def translate(sentence, encoder, decoder):\n",
    "    result, sentence, attention = evaluate(sentence, encoder, decoder)\n",
    "\n",
    "    print('Input: %s' % (sentence))\n",
    "    print('Predicted translation: {}'.format(result))\n",
    "    \n",
    "    attention = attention[:len(result.split()), :len(sentence.split())]\n",
    "    plot_attention(attention, sentence.split(), result.split(' '))"
   ]
  },
  {
   "cell_type": "code",
   "execution_count": 74,
   "id": "0df85dae",
   "metadata": {},
   "outputs": [
    {
     "name": "stdout",
     "output_type": "stream",
     "text": [
      "Input: <start> 오바마는 대통령이다 .\n",
      "Predicted translation: the obamas are now <unk> by president elect barack obama . <end> \n"
     ]
    },
    {
     "name": "stderr",
     "output_type": "stream",
     "text": [
      "/tmp/ipykernel_60/2670106283.py:8: UserWarning: FixedFormatter should only be used together with FixedLocator\n",
      "  ax.set_xticklabels([''] + sentence, fontdict=fontdict, rotation=90)\n",
      "/tmp/ipykernel_60/2670106283.py:9: UserWarning: FixedFormatter should only be used together with FixedLocator\n",
      "  ax.set_yticklabels([''] + predicted_sentence, fontdict=fontdict)\n"
     ]
    },
    {
     "data": {
      "image/png": "[encoded data removed]",
      "text/plain": [
       "<Figure size 720x720 with 1 Axes>"
      ]
     },
     "metadata": {
      "needs_background": "light"
     },
     "output_type": "display_data"
    },
    {
     "name": "stdout",
     "output_type": "stream",
     "text": [
      "Input: <start> 시민들은 도시 속에 산다 .\n",
      "Predicted translation: <unk> <unk> of the <unk> <unk> <unk> in the city . <end> \n"
     ]
    },
    {
     "data": {
      "image/png": "[encoded data removed]",
      "text/plain": [
       "<Figure size 720x720 with 1 Axes>"
      ]
     },
     "metadata": {
      "needs_background": "light"
     },
     "output_type": "display_data"
    },
    {
     "name": "stdout",
     "output_type": "stream",
     "text": [
      "Input: <start> 커피는 필요 없다 .\n",
      "Predicted translation: the <unk> of <unk> , which has not been a <unk> . <end> \n"
     ]
    },
    {
     "data": {
      "image/png": "[encoded data removed]",
      "text/plain": [
       "<Figure size 720x720 with 1 Axes>"
      ]
     },
     "metadata": {
      "needs_background": "light"
     },
     "output_type": "display_data"
    },
    {
     "name": "stdout",
     "output_type": "stream",
     "text": [
      "Input: <start> 일곱 명의 사망자가 발생했다 .\n",
      "Predicted translation: ten of the dead included <unk> , a <unk> of the <unk> <unk> , has died . <end> \n"
     ]
    },
    {
     "data": {
      "image/png": "[encoded data removed]",
      "text/plain": [
       "<Figure size 720x720 with 1 Axes>"
      ]
     },
     "metadata": {
      "needs_background": "light"
     },
     "output_type": "display_data"
    }
   ],
   "source": [
    "conv_list = [\"오바마는 대통령이다.\",\"시민들은 도시 속에 산다.\",\"커피는 필요 없다.\",\"일곱 명의 사망자가 발생했다.\"]\n",
    "\n",
    "for conv in conv_list:\n",
    "    translate(conv, encoder, decoder)"
   ]
  },
  {
   "cell_type": "markdown",
   "id": "9516a0a3",
   "metadata": {},
   "source": [
    "### 결과 분석\n",
    "\n",
    "- Input: \\<start> 오바마는 대통령이다 .\n",
    "\n",
    "- Predicted translation: the obamas are now \\<unk> by president elect barack obama . \\<end> \n",
    "\n",
    "비교적 적은 unk 토큰이 있는 샘플. 오바마와 obamas, president, barack에 높은 어텐션이 기록됨.\n",
    "\n",
    "오바마와 관련된 영단어가 잘 연결된 모습.\n",
    "\n",
    "\n",
    "- Input: \\<start> 일곱 명의 사망자가 발생했다 .\n",
    "\n",
    "- Predicted translation: ten of the dead included \\<unk> , a \\<unk> of the \\<unk> \\<unk> , has died . \\<end> \n",
    "\n",
    "일곱 대신 ten을 생성하였지만, 사망에 관련된 영단어는 잘 생성한 샘플.\n",
    "\n",
    "unk가 많이 발생하고, 모델이 included, unk 등 비교적 불필요한 단어에 집중하는 모습을 보임.\n",
    "\n"
   ]
  },
  {
   "cell_type": "code",
   "execution_count": 92,
   "id": "906b9627",
   "metadata": {},
   "outputs": [],
   "source": [
    "def all_codes(VOCAB_SIZE=30000, BATCH_SIZE=32, units = 512, embedding_dim = 256):\n",
    "    with open('./korean-english-park.train/korean-english-park.train.ko', encoding='utf-8') as f_ko, \\\n",
    "         open('./korean-english-park.train/korean-english-park.train.en', encoding='utf-8') as f_en:\n",
    "            ko_lines = f_ko.read().splitlines()\n",
    "            en_lines = f_en.read().splitlines()\n",
    "\n",
    "    df = pd.DataFrame({'ko': ko_lines, 'en': en_lines})\n",
    "    df = df.drop_duplicates()\n",
    "    \n",
    "    df['ko_corpus'] = df['ko'].apply(preprocessing)\n",
    "    df['en_corpus'] = df['en'].apply(lambda x: preprocessing(x, s_token=True, e_token=True))\n",
    "    df = df[df['ko_corpus'].str.len() > 0].reset_index(drop=True)\n",
    "    \n",
    "    tokenizer_ko = Mecab()\n",
    "    df['ko_morphs'] = df['ko_corpus'].apply(tokenizer_ko.morphs)\n",
    "    \n",
    "    OOV_TOKEN = '<unk>'\n",
    "    # 모든 문장의 형태소를 한 줄의 list로 반환\n",
    "    all_tokens = list(chain.from_iterable(df['ko_morphs']))\n",
    "\n",
    "    token_counts = Counter(all_tokens)\n",
    "    top_tokens = [token for token, _ in token_counts.most_common(VOCAB_SIZE-1)]\n",
    "    vocab = {OOV_TOKEN: 1}\n",
    "    for idx, token in enumerate(top_tokens, start=2):\n",
    "        vocab[token] = idx\n",
    "\n",
    "    # 정수 시퀀스 + 길이 제한\n",
    "    df['ko_token'] = df['ko_morphs'].apply(encode_and_filter)\n",
    "    df = df[df['ko_token'].notnull()].reset_index(drop=True)\n",
    "    df['ko_token'] = pad_sequences(df['ko_token'], padding='post', maxlen=MAX_LEN).tolist()\n",
    "    \n",
    "    en_tensor, tokenizer_en, filtered_en_corpus = tokenize(df['en_corpus'], max_len=MAX_LEN)\n",
    "    df = df[df['en_corpus'].isin(filtered_en_corpus)].reset_index(drop=True)\n",
    "    df['en_token'] = en_tensor.tolist()\n",
    "    \n",
    "    SRC_VOCAB_SIZE = VOCAB_SIZE\n",
    "    TGT_VOCAB_SIZE = VOCAB_SIZE\n",
    "\n",
    "    encoder = Encoder(SRC_VOCAB_SIZE, embedding_dim, units)\n",
    "    decoder = Decoder(TGT_VOCAB_SIZE, embedding_dim, units)\n",
    "    \n",
    "    optimizer = tf.keras.optimizers.Adam()\n",
    "    loss_object = tf.keras.losses.SparseCategoricalCrossentropy(\n",
    "        from_logits=True, reduction='none')\n",
    "    \n",
    "    enc_token = df['ko_token'].tolist()\n",
    "    dec_token = df['en_token'].tolist()\n",
    "\n",
    "    enc_train, enc_val, dec_train, dec_val = train_test_split(enc_token, dec_token, test_size=0.1, random_state=42)\n",
    "\n",
    "    enc_train = tf.convert_to_tensor(enc_train, dtype=tf.int32)\n",
    "    enc_val   = tf.convert_to_tensor(enc_val, dtype=tf.int32)\n",
    "    dec_train = tf.convert_to_tensor(dec_train, dtype=tf.int32)\n",
    "    dec_val   = tf.convert_to_tensor(dec_val, dtype=tf.int32)\n",
    "\n",
    "    train_dataset = tf.data.Dataset.from_tensor_slices((enc_train, dec_train))\n",
    "    train_dataset = train_dataset.shuffle(buffer_size=len(enc_train)).batch(BATCH_SIZE, drop_remainder=True)\n",
    "\n",
    "    val_dataset = tf.data.Dataset.from_tensor_slices((enc_val, dec_val))\n",
    "    val_dataset = val_dataset.batch(BATCH_SIZE)\n",
    "\n",
    "    EPOCHS = 20\n",
    "\n",
    "    patience = 3\n",
    "    best_val_loss = float('inf')\n",
    "    patience_counter = 0\n",
    "\n",
    "    train_losses = []\n",
    "    val_losses = []\n",
    "\n",
    "    # 4. 학습 루프\n",
    "    for epoch in range(EPOCHS):\n",
    "        total_loss = 0\n",
    "        val_loss = 0\n",
    "\n",
    "        t = tqdm(train_dataset, desc=f\"[Epoch {epoch+1}]\")\n",
    "\n",
    "        # 학습 루프\n",
    "        for (enc_batch, dec_batch) in t:\n",
    "            batch_loss = train_step(enc_batch, dec_batch, encoder, decoder, optimizer, tokenizer_en)\n",
    "            total_loss += batch_loss\n",
    "            t.set_postfix(loss=total_loss.numpy() / (t.n + 1))\n",
    "\n",
    "        train_loss = total_loss.numpy() / len(train_dataset)\n",
    "        train_losses.append(train_loss)\n",
    "\n",
    "        # 검증 루프\n",
    "        for (enc_batch, dec_batch) in val_dataset:\n",
    "            val_batch_loss = train_step(enc_batch, dec_batch, encoder, decoder, optimizer, tokenizer_en)\n",
    "            val_loss += val_batch_loss\n",
    "\n",
    "        val_loss = val_loss.numpy() / len(val_dataset)\n",
    "        val_losses.append(val_loss)\n",
    "\n",
    "        print(f\"Epoch {epoch+1}, Train Loss: {train_loss:.4f}, Val Loss: {val_loss:.4f}\")\n",
    "\n",
    "        # Early Stopping 조건\n",
    "        if val_loss < best_val_loss:\n",
    "            best_val_loss = val_loss\n",
    "            patience_counter = 0\n",
    "        else:\n",
    "            patience_counter += 1\n",
    "            if patience_counter >= patience:\n",
    "                print(\"Early stopping triggered!\")\n",
    "                break\n",
    "                \n",
    "    conv_list = [\"오바마는 대통령이다.\",\"시민들은 도시 속에 산다.\",\"커피는 필요 없다.\",\"일곱 명의 사망자가 발생했다.\"]\n",
    "\n",
    "    for conv in conv_list:\n",
    "        translate(conv, encoder, decoder)\n",
    "    \n",
    "    return encoder, decoder"
   ]
  },
  {
   "cell_type": "markdown",
   "id": "e616100d",
   "metadata": {},
   "source": [
    "세션 에러로 인한 추가실험"
   ]
  },
  {
   "cell_type": "code",
   "execution_count": null,
   "id": "a38812f3",
   "metadata": {},
   "outputs": [
    {
     "name": "stderr",
     "output_type": "stream",
     "text": [
      "[Epoch 1]: 100%|██████████| 859/859 [12:23<00:00,  1.16it/s, loss=3.69]\n"
     ]
    },
    {
     "name": "stdout",
     "output_type": "stream",
     "text": [
      "Epoch 1, Train Loss: 3.6878, Val Loss: 3.3607\n"
     ]
    },
    {
     "name": "stderr",
     "output_type": "stream",
     "text": [
      "[Epoch 2]: 100%|██████████| 859/859 [12:03<00:00,  1.19it/s, loss=3.2] \n"
     ]
    },
    {
     "name": "stdout",
     "output_type": "stream",
     "text": [
      "Epoch 2, Train Loss: 3.2048, Val Loss: 3.0893\n"
     ]
    },
    {
     "name": "stderr",
     "output_type": "stream",
     "text": [
      "[Epoch 3]: 100%|██████████| 859/859 [11:59<00:00,  1.19it/s, loss=2.98]\n"
     ]
    },
    {
     "name": "stdout",
     "output_type": "stream",
     "text": [
      "Epoch 3, Train Loss: 2.9822, Val Loss: 2.8872\n"
     ]
    },
    {
     "name": "stderr",
     "output_type": "stream",
     "text": [
      "[Epoch 4]: 100%|██████████| 859/859 [12:04<00:00,  1.19it/s, loss=2.8] \n"
     ]
    },
    {
     "name": "stdout",
     "output_type": "stream",
     "text": [
      "Epoch 4, Train Loss: 2.7977, Val Loss: 2.7081\n"
     ]
    },
    {
     "name": "stderr",
     "output_type": "stream",
     "text": [
      "[Epoch 5]: 100%|██████████| 859/859 [12:04<00:00,  1.19it/s, loss=2.63]\n"
     ]
    },
    {
     "name": "stdout",
     "output_type": "stream",
     "text": [
      "Epoch 5, Train Loss: 2.6272, Val Loss: 2.5409\n"
     ]
    },
    {
     "name": "stderr",
     "output_type": "stream",
     "text": [
      "[Epoch 6]: 100%|██████████| 859/859 [12:12<00:00,  1.17it/s, loss=2.47]\n"
     ]
    },
    {
     "name": "stdout",
     "output_type": "stream",
     "text": [
      "Epoch 6, Train Loss: 2.4708, Val Loss: 2.3940\n"
     ]
    },
    {
     "name": "stderr",
     "output_type": "stream",
     "text": [
      "[Epoch 7]: 100%|██████████| 859/859 [12:10<00:00,  1.18it/s, loss=2.33]\n"
     ]
    },
    {
     "name": "stdout",
     "output_type": "stream",
     "text": [
      "Epoch 7, Train Loss: 2.3348, Val Loss: 2.2686\n"
     ]
    },
    {
     "name": "stderr",
     "output_type": "stream",
     "text": [
      "[Epoch 8]: 100%|██████████| 859/859 [12:11<00:00,  1.17it/s, loss=2.21]\n"
     ]
    },
    {
     "name": "stdout",
     "output_type": "stream",
     "text": [
      "Epoch 8, Train Loss: 2.2094, Val Loss: 2.1511\n"
     ]
    },
    {
     "name": "stderr",
     "output_type": "stream",
     "text": [
      "[Epoch 9]: 100%|██████████| 859/859 [12:12<00:00,  1.17it/s, loss=2.09]\n"
     ]
    },
    {
     "name": "stdout",
     "output_type": "stream",
     "text": [
      "Epoch 9, Train Loss: 2.0896, Val Loss: 2.0462\n"
     ]
    },
    {
     "name": "stderr",
     "output_type": "stream",
     "text": [
      "[Epoch 10]: 100%|██████████| 859/859 [12:14<00:00,  1.17it/s, loss=1.97]\n"
     ]
    },
    {
     "name": "stdout",
     "output_type": "stream",
     "text": [
      "Epoch 10, Train Loss: 1.9716, Val Loss: 1.9336\n"
     ]
    },
    {
     "name": "stderr",
     "output_type": "stream",
     "text": [
      "[Epoch 11]: 100%|██████████| 859/859 [12:18<00:00,  1.16it/s, loss=1.86]\n"
     ]
    },
    {
     "name": "stdout",
     "output_type": "stream",
     "text": [
      "Epoch 11, Train Loss: 1.8554, Val Loss: 1.8161\n"
     ]
    },
    {
     "name": "stderr",
     "output_type": "stream",
     "text": [
      "[Epoch 12]: 100%|██████████| 859/859 [12:11<00:00,  1.17it/s, loss=1.74]\n"
     ]
    },
    {
     "name": "stdout",
     "output_type": "stream",
     "text": [
      "Epoch 12, Train Loss: 1.7411, Val Loss: 1.7075\n"
     ]
    },
    {
     "name": "stderr",
     "output_type": "stream",
     "text": [
      "[Epoch 13]: 100%|██████████| 859/859 [12:12<00:00,  1.17it/s, loss=1.63]\n"
     ]
    },
    {
     "name": "stdout",
     "output_type": "stream",
     "text": [
      "Epoch 13, Train Loss: 1.6302, Val Loss: 1.6112\n"
     ]
    },
    {
     "name": "stderr",
     "output_type": "stream",
     "text": [
      "[Epoch 14]: 100%|██████████| 859/859 [12:12<00:00,  1.17it/s, loss=1.52]\n"
     ]
    },
    {
     "name": "stdout",
     "output_type": "stream",
     "text": [
      "Epoch 14, Train Loss: 1.5226, Val Loss: 1.5286\n"
     ]
    },
    {
     "name": "stderr",
     "output_type": "stream",
     "text": [
      "[Epoch 15]:  46%|████▋     | 399/859 [05:41<06:34,  1.16it/s, loss=1.4] "
     ]
    }
   ],
   "source": [
    "myencoder, mydecoder = all_codes(VOCAB_SIZE=30000, BATCH_SIZE=64, units = 1024, embedding_dim = 256)"
   ]
  },
  {
   "cell_type": "markdown",
   "id": "043a5c62",
   "metadata": {},
   "source": [
    "![](images/error.png)"
   ]
  },
  {
   "cell_type": "markdown",
   "id": "aefb0eec",
   "metadata": {},
   "source": [
    "all code로 하나의 함수로 묶어서 실행해봤는데,\n",
    "\n",
    "학습 결과 모델이 sos 토큰에 과도한 집중을 보여주는 모습을 보였다.\n",
    "\n",
    "코드 디버깅 결과, vocab을 업데이트 하는 부분이 누락되어 있음을 확인함."
   ]
  },
  {
   "cell_type": "markdown",
   "id": "90aa3d64",
   "metadata": {},
   "source": [
    "### 회고\n",
    "\n",
    "unk가 생각보다 많이 발생해서 vocab size를 늘려서 추가실험을 실행해보고자 했는데,\n",
    "\n",
    "실험 결과를 확인하지 못해서 아쉬움이 있다.\n",
    "\n",
    "어텐션 맵을 통해 모델이 어떤 단어에 집중하는지를 확인할 수 있어서\n",
    "\n",
    "디버깅 용도로 활용할 수 있었음을 새롭게 배울 수 있었다."
   ]
  }
 ],
 "metadata": {
  "kernelspec": {
   "display_name": "Python 3 (ipykernel)",
   "language": "python",
   "name": "python3"
  },
  "language_info": {
   "codemirror_mode": {
    "name": "ipython",
    "version": 3
   },
   "file_extension": ".py",
   "mimetype": "text/x-python",
   "name": "python",
   "nbconvert_exporter": "python",
   "pygments_lexer": "ipython3",
   "version": "3.9.7"
  }
 },
 "nbformat": 4,
 "nbformat_minor": 5
}
