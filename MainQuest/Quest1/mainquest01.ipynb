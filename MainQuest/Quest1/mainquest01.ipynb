{
 "cells": [
  {
   "cell_type": "markdown",
   "id": "79a315bb",
   "metadata": {},
   "source": [
    "## 1. Transformer와 비교해 변경이 필요한 부분"
   ]
  },
  {
   "cell_type": "markdown",
   "id": "d77ea0d8",
   "metadata": {},
   "source": [
    "1. 인코더, 인코더와 연결된 디코더 블럭의 크로스 어텐션 부분을 삭제한다.\n",
    "2. 포지셔널 인코딩 부분을 포지셔널 임베딩으로 변경한다.\n",
    "3. input을 traversal-style로 변환한다.\n",
    "4. softmax에 임베딩 행렬을 점곱한다."
   ]
  },
  {
   "cell_type": "code",
   "execution_count": 3,
   "id": "4f0d9408",
   "metadata": {},
   "outputs": [],
   "source": [
    "import tensorflow as tf\n",
    "import tensorflow_datasets as tfds\n",
    "import os\n",
    "import re\n",
    "import numpy as np\n",
    "import matplotlib.pyplot as plt\n",
    "import pandas as pd"
   ]
  },
  {
   "cell_type": "code",
   "execution_count": 42,
   "id": "c0cd313a",
   "metadata": {},
   "outputs": [],
   "source": [
    "def scaled_dot_product_attention(query, key, value, mask):\n",
    "    matmul_qk = tf.matmul(query, key, transpose_b=True)\n",
    "\n",
    "    depth = tf.cast(tf.shape(key)[-1], tf.float32)\n",
    "    logits = matmul_qk / tf.math.sqrt(depth)\n",
    "    \n",
    "    if mask is not None:\n",
    "        logits += (mask * -1e9)\n",
    "\n",
    "    attention_weights = tf.nn.softmax(logits, axis=-1)\n",
    "    \n",
    "    output = tf.matmul(attention_weights, value)\n",
    "    return output"
   ]
  },
  {
   "cell_type": "code",
   "execution_count": 4,
   "id": "8ea2c1fd",
   "metadata": {},
   "outputs": [],
   "source": [
    "class MultiHeadAttention(tf.keras.layers.Layer):\n",
    "    \n",
    "    def __init__(self, d_model, num_heads, name=\"multi_head_attention\"):\n",
    "        super(MultiHeadAttention, self).__init__(name=name)\n",
    "        self.num_heads = num_heads\n",
    "        self.d_model = d_model\n",
    "        \n",
    "        assert d_model % self.num_heads == 0\n",
    "        \n",
    "        self.depth = d_model // self.num_heads\n",
    "        \n",
    "        self.query_dense = tf.keras.layers.Dense(units=d_model)\n",
    "        self.key_dense = tf.keras.layers.Dense(units=d_model)\n",
    "        self.value_dense = tf.keras.layers.Dense(units=d_model)\n",
    "        \n",
    "        self.dense = tf.keras.layers.Dense(units=d_model)\n",
    "        \n",
    "    def split_heads(self, inputs, batch_size):\n",
    "        inputs = tf.reshape(\n",
    "        inputs, shape=(batch_size, -1, self.num_heads, self.depth))\n",
    "        return tf.transpose(inputs, perm=[0, 2, 1, 3])\n",
    "    \n",
    "    def call(self, inputs):\n",
    "        query, key, value, mask = inputs['query'], inputs['key'], inputs['value'], inputs['mask']\n",
    "        batch_size = tf.shape(query)[0]\n",
    "        \n",
    "        query = self.query_dense(query)\n",
    "        key = self.key_dense(key)\n",
    "        value = self.value_dense(value)\n",
    "        \n",
    "        query = self.split_heads(query, batch_size)\n",
    "        key = self.split_heads(key, batch_size)\n",
    "        value = self.split_heads(value, batch_size)\n",
    "        \n",
    "        scaled_attention = scaled_dot_product_attention(query, key, value, mask)\n",
    "        scaled_attention = tf.transpose(scaled_attention, perm=[0, 2, 1, 3])\n",
    "        \n",
    "        concat_attention = tf.reshape(scaled_attention, \n",
    "                                     (batch_size, -1, self.d_model))\n",
    "        \n",
    "        outputs = self.dense(concat_attention)\n",
    "        \n",
    "        return outputs"
   ]
  },
  {
   "cell_type": "code",
   "execution_count": 5,
   "id": "1a87a88d",
   "metadata": {},
   "outputs": [],
   "source": [
    "def create_padding_mask(x):\n",
    "    mask = tf.cast(tf.math.equal(x, 0), tf.float32)\n",
    "    return mask[:, tf.newaxis, tf.newaxis, :]"
   ]
  },
  {
   "cell_type": "code",
   "execution_count": 6,
   "id": "d8433a9a",
   "metadata": {},
   "outputs": [],
   "source": [
    "def create_look_ahead_mask(x):\n",
    "    seq_len = tf.shape(x)[1]\n",
    "\n",
    "    look_ahead_mask = 1 - tf.linalg.band_part(tf.ones((seq_len, seq_len)), -1, 0)\n",
    "    padding_mask = create_padding_mask(x)\n",
    "\n",
    "    return tf.maximum(look_ahead_mask, padding_mask)"
   ]
  },
  {
   "cell_type": "code",
   "execution_count": 19,
   "id": "c87ab3e6",
   "metadata": {},
   "outputs": [],
   "source": [
    "def decoder_layer(units, d_model, num_heads, dropout, name=\"decoder_layer\"):\n",
    "    inputs = tf.keras.Input(shape=(None, d_model), name=\"inputs\")\n",
    "    \n",
    "    # 인코더 아웃풋을 더이상 받지 않음\n",
    "    #enc_outputs = tf.keras.Input(shape=(None, d_model), name=\"encoder_outputs\")\n",
    "    \n",
    "    look_ahead_mask = tf.keras.Input(shape=(1,None,None), name=\"look_ahead_mask\")\n",
    "    \n",
    "    # padding mask는 크로스어텐션에서 사용하므로, 제거한다.\n",
    "    #padding_mask = tf.keras.Input(shape=(1, 1, None), name=\"padding_mask\")\n",
    "    \n",
    "    attention1 = MultiHeadAttention(\n",
    "        d_model, num_heads, name=\"attention_1\")(inputs={\n",
    "        'query': inputs,\n",
    "        'key': inputs,\n",
    "        'value': inputs,\n",
    "        'mask': look_ahead_mask\n",
    "    })\n",
    "    \n",
    "    attention1 = tf.keras.layers.LayerNormalization(\n",
    "        epsilon=1e-6)(attention1+inputs)\n",
    "    \n",
    "    # 인코더와 연결되었던 attention2 제거, attention1만 사용\n",
    "    outputs = tf.keras.layers.Dense(units=units, activation='relu')(attention1)\n",
    "    outputs = tf.keras.layers.Dense(units=d_model)(outputs)\n",
    "    \n",
    "    outputs = tf.keras.layers.Dropout(rate=dropout)(outputs)\n",
    "    outputs = tf.keras.layers.LayerNormalization(\n",
    "        epsilon=1e-6)(outputs + attention1)\n",
    "    \n",
    "    return tf.keras.Model(\n",
    "        # 인코더 아웃풋과 패딩마스크를 더이상 input으로 받지 않는다.\n",
    "        #inputs=[inputs, enc_outputs, look_ahead_mask, padding_mask],\n",
    "        inputs=[inputs, look_ahead_mask],\n",
    "        outputs=outputs,\n",
    "        name=name)"
   ]
  },
  {
   "cell_type": "code",
   "execution_count": 479,
   "id": "eb78d85e",
   "metadata": {},
   "outputs": [],
   "source": [
    "def decoder(vocab_size, num_layers, units, d_model, num_heads, dropout, max_length, name='decoder'):\n",
    "    inputs = tf.keras.Input(shape=(None,), name='inputs')\n",
    "    # 인코더 아우풋을 더이상 받지 않음.\n",
    "    #enc_outputs = tf.keras.Input(shape=(None, d_model), name='encoder_outputs')\n",
    "    look_ahead_mask = tf.keras.Input(shape=(1, None, None), name='look_ahead_mask')\n",
    "    # 패딩마스크를 더이상 받지 않음.\n",
    "    #padding_mask = tf.keras.Input(shape=(1, 1, None), name='padding_mask')\n",
    "    \n",
    "    embeddings = tf.keras.layers.Embedding(vocab_size, d_model)(inputs)\n",
    "    embeddings *= tf.math.sqrt(tf.cast(d_model, tf.float32))\n",
    "    \n",
    "    # 포지셔널 인코딩 -> 포지셔널 임베딩\n",
    "    #embeddings = PositionalEncoding(max_legnth, d_model)(embeddings)\n",
    "    \n",
    "    # 포지셔널 임베딩 추가\n",
    "    position_indices = tf.range(start=0, limit=tf.shape(inputs)[-1], delta=1)\n",
    "    position_embeddings = tf.keras.layers.Embedding(\n",
    "        input_dim=max_length,  # 최대 시퀀스 길이\n",
    "        output_dim=d_model\n",
    "    )(position_indices)\n",
    "\n",
    "    # 워드 임베딩 + 포지셔널 임베딩\n",
    "    embeddings += position_embeddings\n",
    "    \n",
    "    outputs = tf.keras.layers.Dropout(rate=dropout)(embeddings)\n",
    "    \n",
    "    for i in range(num_layers):\n",
    "        outputs = decoder_layer(\n",
    "            units = units,\n",
    "            d_model=d_model,\n",
    "            num_heads=num_heads,\n",
    "            dropout=dropout,\n",
    "            name='decoder_layer_{}'.format(i),\n",
    "            # 인코더 아웃풋 제거\n",
    "            #)(inputs=[outputs, enc_outputs, look_ahead_mask, padding_mask])\n",
    "        )(inputs=[outputs, look_ahead_mask])\n",
    "        \n",
    "    return tf.keras.Model(\n",
    "        # 인코더 아웃풋과 패딩마스크를 더이상 input으로 받지 않는다.\n",
    "        #inputs=[inputs, enc_outputs, look_ahead_mask, padding_mask],\n",
    "        inputs=[inputs, look_ahead_mask],\n",
    "        outputs=outputs,\n",
    "        name=name)"
   ]
  },
  {
   "cell_type": "code",
   "execution_count": 526,
   "id": "90ed728f",
   "metadata": {},
   "outputs": [
    {
     "data": {
      "text/html": [
       "<div>\n",
       "<style scoped>\n",
       "    .dataframe tbody tr th:only-of-type {\n",
       "        vertical-align: middle;\n",
       "    }\n",
       "\n",
       "    .dataframe tbody tr th {\n",
       "        vertical-align: top;\n",
       "    }\n",
       "\n",
       "    .dataframe thead th {\n",
       "        text-align: right;\n",
       "    }\n",
       "</style>\n",
       "<table border=\"1\" class=\"dataframe\">\n",
       "  <thead>\n",
       "    <tr style=\"text-align: right;\">\n",
       "      <th></th>\n",
       "      <th>Q</th>\n",
       "      <th>A</th>\n",
       "      <th>label</th>\n",
       "    </tr>\n",
       "  </thead>\n",
       "  <tbody>\n",
       "    <tr>\n",
       "      <th>0</th>\n",
       "      <td>12시 땡!</td>\n",
       "      <td>하루가 또 가네요.</td>\n",
       "      <td>0</td>\n",
       "    </tr>\n",
       "    <tr>\n",
       "      <th>1</th>\n",
       "      <td>1지망 학교 떨어졌어</td>\n",
       "      <td>위로해 드립니다.</td>\n",
       "      <td>0</td>\n",
       "    </tr>\n",
       "    <tr>\n",
       "      <th>2</th>\n",
       "      <td>3박4일 놀러가고 싶다</td>\n",
       "      <td>여행은 언제나 좋죠.</td>\n",
       "      <td>0</td>\n",
       "    </tr>\n",
       "    <tr>\n",
       "      <th>3</th>\n",
       "      <td>3박4일 정도 놀러가고 싶다</td>\n",
       "      <td>여행은 언제나 좋죠.</td>\n",
       "      <td>0</td>\n",
       "    </tr>\n",
       "    <tr>\n",
       "      <th>4</th>\n",
       "      <td>PPL 심하네</td>\n",
       "      <td>눈살이 찌푸려지죠.</td>\n",
       "      <td>0</td>\n",
       "    </tr>\n",
       "  </tbody>\n",
       "</table>\n",
       "</div>"
      ],
      "text/plain": [
       "                 Q            A  label\n",
       "0           12시 땡!   하루가 또 가네요.      0\n",
       "1      1지망 학교 떨어졌어    위로해 드립니다.      0\n",
       "2     3박4일 놀러가고 싶다  여행은 언제나 좋죠.      0\n",
       "3  3박4일 정도 놀러가고 싶다  여행은 언제나 좋죠.      0\n",
       "4          PPL 심하네   눈살이 찌푸려지죠.      0"
      ]
     },
     "execution_count": 526,
     "metadata": {},
     "output_type": "execute_result"
    }
   ],
   "source": [
    "path_to_dataset = \"./ChatbotData.csv\"\n",
    "dataframe = pd.read_csv(path_to_dataset)\n",
    "dataframe.head()"
   ]
  },
  {
   "cell_type": "code",
   "execution_count": 527,
   "id": "4577d1af",
   "metadata": {},
   "outputs": [],
   "source": [
    "def preprocess_sentence(sentence):\n",
    "    sentence = re.sub(r'[^ㄱ-ㅎ가-힣a-zA-Z0-9\\s]', ' ', sentence)\n",
    "    sentence = re.sub(r'(.)\\1{2,}', r'\\1\\1', sentence)\n",
    "    sentence = re.sub(r\"([?.!,])\", r\" \\1 \", sentence)\n",
    "    sentence = sentence.strip()\n",
    "    return sentence"
   ]
  },
  {
   "cell_type": "code",
   "execution_count": 528,
   "id": "b494b548",
   "metadata": {},
   "outputs": [
    {
     "name": "stdout",
     "output_type": "stream",
     "text": [
      "전체 샘플 수 : 11823\n",
      "전체 샘플 수 : 11823\n"
     ]
    }
   ],
   "source": [
    "questions = dataframe['Q'].apply(preprocess_sentence)\n",
    "answers = dataframe['A'].apply(preprocess_sentence)\n",
    "print('전체 샘플 수 :', len(questions))\n",
    "print('전체 샘플 수 :', len(answers))"
   ]
  },
  {
   "cell_type": "code",
   "execution_count": 529,
   "id": "ccce3b37",
   "metadata": {},
   "outputs": [],
   "source": [
    "tokenizer = tfds.deprecated.text.SubwordTextEncoder.build_from_corpus(questions + answers, target_vocab_size=2**13)\n",
    "\n",
    "#START_TOKEN, END_TOKEN = [tokenizer.vocab_size], [tokenizer.vocab_size+1]\n",
    "START_TOKEN, DELIMITER_TOKEN, END_TOKEN = [tokenizer.vocab_size], [tokenizer.vocab_size+1], [tokenizer.vocab_size+2]\n",
    "\n",
    "VOCAB_SIZE = tokenizer.vocab_size + 3\n",
    "\n",
    "MAX_LENGTH = 80"
   ]
  },
  {
   "cell_type": "code",
   "execution_count": 530,
   "id": "6606ce52",
   "metadata": {},
   "outputs": [
    {
     "name": "stdout",
     "output_type": "stream",
     "text": [
      "정수 인코딩 후의 문장 [5851, 588, 3506, 130, 696, 3742, 832]\n",
      "기존 문장: 가스비 비싼데 감기 걸리겠어\n",
      "5851 ----> 가스\n",
      "588 ----> 비 \n",
      "3506 ----> 비싼\n",
      "130 ----> 데 \n",
      "696 ----> 감기 \n",
      "3742 ----> 걸리\n",
      "832 ----> 겠어\n"
     ]
    }
   ],
   "source": [
    "sample_string = questions[20]\n",
    "\n",
    "tokenized_string = tokenizer.encode(sample_string)\n",
    "print ('정수 인코딩 후의 문장 {}'.format(tokenized_string))\n",
    "\n",
    "original_string = tokenizer.decode(tokenized_string)\n",
    "print ('기존 문장: {}'.format(original_string))\n",
    "\n",
    "for ts in tokenized_string:\n",
    "    print ('{} ----> {}'.format(ts, tokenizer.decode([ts])))"
   ]
  },
  {
   "cell_type": "code",
   "execution_count": 531,
   "id": "99f5851e",
   "metadata": {},
   "outputs": [],
   "source": [
    "\"\"\"def tokenize_and_filter(inputs, outputs):\n",
    "    tokenized_inputs, tokenized_outputs = [], []\n",
    "    \n",
    "    for (sentence1, sentence2) in zip(inputs, outputs):\n",
    "        sentence1 = START_TOKEN + tokenizer.encode(sentence1) + END_TOKEN\n",
    "        sentence2 = START_TOKEN + tokenizer.encode(sentence2) + END_TOKEN\n",
    "        \n",
    "        if len(sentence1) <= MAX_LENGTH and len(sentence2) <= MAX_LENGTH:\n",
    "            tokenized_inputs.append(sentence1)\n",
    "            tokenized_outputs.append(sentence2)\n",
    "        \n",
    "    tokenized_inputs = tf.keras.preprocessing.sequence.pad_sequences(\n",
    "        tokenized_inputs, maxlen=MAX_LENGTH, padding='post')\n",
    "    tokenized_outputs = tf.keras.preprocessing.sequence.pad_sequences(\n",
    "        tokenized_outputs, maxlen=MAX_LENGTH, padding='post')\n",
    "    \n",
    "    return tokenized_inputs, tokenized_outputs\"\"\"\n",
    "\n",
    "def tokenize_and_filter(questions, answers):\n",
    "    sequences = []\n",
    "    before_list = []\n",
    "    for (sentence1, sentence2) in zip(questions, answers):\n",
    "        # delimiter 전까지의 토큰 길이 저장\n",
    "        before_deli = START_TOKEN + tokenizer.encode(sentence1)\n",
    "        # q + a 합쳐서 인코딩\n",
    "        encoded = START_TOKEN + tokenizer.encode(sentence1) + DELIMITER_TOKEN + tokenizer.encode(sentence2) + END_TOKEN\n",
    "        if len(encoded) <= MAX_LENGTH:\n",
    "            sequences.append(encoded)\n",
    "            before_list.append(len(before_deli))\n",
    "    # 패딩\n",
    "    padded = tf.keras.preprocessing.sequence.pad_sequences(\n",
    "        sequences, maxlen=MAX_LENGTH, padding='post')\n",
    "    # 질문 부분을 마스킹\n",
    "    masks = np.ones((len(sequences), MAX_LENGTH), dtype = np.float32)\n",
    "    for i, x in enumerate(before_list):\n",
    "        masks[i, :x] = 0\n",
    "    masked = padded * masks\n",
    "    \n",
    "    return padded[:, :-1], masked[:, 1:]"
   ]
  },
  {
   "cell_type": "code",
   "execution_count": 532,
   "id": "77a60f45",
   "metadata": {},
   "outputs": [
    {
     "name": "stdout",
     "output_type": "stream",
     "text": [
      "단어장의 크기 : 8478\n",
      "필터링 후의 질문 샘플 개수: 11823\n",
      "필터링 후의 답변 샘플 개수: 11823\n",
      "[8475 8214 1408 3058 8476 3845   66 8194 8477    0    0    0    0    0\n",
      "    0    0    0    0    0    0    0    0    0    0    0    0    0    0\n",
      "    0    0    0    0    0    0    0    0    0    0    0    0    0    0\n",
      "    0    0    0    0    0    0    0    0    0    0    0    0    0    0\n",
      "    0    0    0    0    0    0    0    0    0    0    0    0    0    0\n",
      "    0    0    0    0    0    0    0    0    0]\n",
      "하루가 또 가네요\n"
     ]
    }
   ],
   "source": [
    "questions, answer = tokenize_and_filter(questions, answers)\n",
    "print('단어장의 크기 :',(VOCAB_SIZE))\n",
    "print('필터링 후의 질문 샘플 개수: {}'.format(len(questions)))\n",
    "print('필터링 후의 답변 샘플 개수: {}'.format(len(answers)))\n",
    "\n",
    "print(questions[0])\n",
    "print(answers[0])"
   ]
  },
  {
   "cell_type": "code",
   "execution_count": 533,
   "id": "5111f03a",
   "metadata": {},
   "outputs": [],
   "source": [
    "BATCH_SIZE = 64\n",
    "BUFFER_SIZE = 20000\n",
    "\n",
    "dataset = tf.data.Dataset.from_tensor_slices((\n",
    "    {\n",
    "        # dataset에서도 inputs가 필요 없어짐.\n",
    "        #'inputs': questions,\n",
    "        'dec_inputs': questions\n",
    "    },\n",
    "    {\n",
    "        'outputs': answer\n",
    "    }))\n",
    "\n",
    "\n",
    "dataset = dataset.cache()\n",
    "dataset = dataset.shuffle(BUFFER_SIZE)\n",
    "dataset = dataset.batch(BATCH_SIZE)\n",
    "dataset = dataset.prefetch(tf.data.experimental.AUTOTUNE)"
   ]
  },
  {
   "cell_type": "code",
   "execution_count": 534,
   "id": "eaa91ab5",
   "metadata": {},
   "outputs": [],
   "source": [
    "def transformer(vocab_size, num_layers, units, d_model, num_heads, dropout, max_length, name='transformer'):\n",
    "    # 인코더 인풋은 받지 않음.\n",
    "    #inputs = tf.keras.Input(shape=(None,), name='inputs')\n",
    "    dec_inputs = tf.keras.Input(shape=(None,), name='dec_inputs')\n",
    "    \n",
    "    # 인코더 패딩도 받지 않음.\n",
    "    \"\"\"# 인코더 패딩\n",
    "    enc_padding_mask = tf.keras.layers.Lambda(\n",
    "        create_padding_mask, output_shape = (1, 1, None),\n",
    "        name='enc_padding_mask')(inputs)\"\"\"\n",
    "    # 디코더 패딩, 셀프어텐션부분\n",
    "    look_ahead_mask = tf.keras.layers.Lambda(\n",
    "        create_look_ahead_mask,\n",
    "        output_shape=(1, None, None),\n",
    "        name='look_ahead_mask')(dec_inputs)\n",
    "    # 크로스 어텐션도 받지 않음.\n",
    "    \"\"\"# 디코더 패딩, 크로스어텐션부분\n",
    "    # dec_padding_mask의 input이 인코더패딩의 input과 같은 이유?\n",
    "    # 디코더의 크로스 어텐션 레이어가 인코더 출력의 패딩 토큰을 무시하기 위해 필요하기 때문\n",
    "    dec_padding_mask = tf.keras.layers.Lambda(\n",
    "        create_padding_mask, output_shape=(1, 1, None),\n",
    "        name='dec_padding_mask')(inputs)\"\"\"\n",
    "    \n",
    "    \"\"\"# 인코더\n",
    "    enc_outputs = encoder(\n",
    "        vocab_size=vocab_size,\n",
    "        num_layers=num_layers,\n",
    "        units=units,\n",
    "        d_model=d_model,\n",
    "        num_heads=num_heads,\n",
    "        dropout=dropout,\n",
    "        max_legnth=max_length)(inputs=[inputs, enc_padding_mask])\"\"\"\n",
    "    \n",
    "    # 디코더\n",
    "    dec_outputs = decoder(\n",
    "        vocab_size=vocab_size,\n",
    "        num_layers=num_layers,\n",
    "        units=units,\n",
    "        d_model=d_model,\n",
    "        num_heads=num_heads,\n",
    "        dropout=dropout,\n",
    "        max_length=max_length)(inputs=[dec_inputs, look_ahead_mask])\n",
    "    # 인코더 아웃풋과 패딩마스크를 더이상 input으로 받지 않는다.\n",
    "    #(inputs=[dec_inputs, enc_outputs, look_ahead_mask, dec_padding_mask])\n",
    "    \n",
    "    outputs = tf.keras.layers.Dense(units=vocab_size, name=\"outputs\")(dec_outputs)\n",
    "    # 인코더 인풋풋을 더이상 input으로 받지 않는다.\n",
    "    #return tf.keras.Model(inputs=[inputs, dec_inputs], outputs=outputs, name=name)\n",
    "    return tf.keras.Model(inputs=[dec_inputs], outputs=outputs, name=name)"
   ]
  },
  {
   "cell_type": "code",
   "execution_count": 535,
   "id": "d198d3a3",
   "metadata": {},
   "outputs": [
    {
     "name": "stdout",
     "output_type": "stream",
     "text": [
      "Model: \"transformer\"\n",
      "__________________________________________________________________________________________________\n",
      "Layer (type)                    Output Shape         Param #     Connected to                     \n",
      "==================================================================================================\n",
      "dec_inputs (InputLayer)         [(None, None)]       0                                            \n",
      "__________________________________________________________________________________________________\n",
      "look_ahead_mask (Lambda)        (None, 1, None, None 0           dec_inputs[0][0]                 \n",
      "__________________________________________________________________________________________________\n",
      "decoder (Functional)            (None, None, 256)    4299264     dec_inputs[0][0]                 \n",
      "                                                                 look_ahead_mask[0][0]            \n",
      "__________________________________________________________________________________________________\n",
      "outputs (Dense)                 (None, None, 8478)   2178846     decoder[0][0]                    \n",
      "==================================================================================================\n",
      "Total params: 6,478,110\n",
      "Trainable params: 6,478,110\n",
      "Non-trainable params: 0\n",
      "__________________________________________________________________________________________________\n"
     ]
    }
   ],
   "source": [
    "tf.keras.backend.clear_session()\n",
    "\n",
    "# 하이퍼파라미터\n",
    "NUM_LAYERS = 4 # 인코더와 디코더의 층의 개수\n",
    "D_MODEL = 256 # 인코더와 디코더 내부의 입, 출력의 고정 차원\n",
    "NUM_HEADS = 8 # 멀티 헤드 어텐션에서의 헤드 수 \n",
    "UNITS = 512 # 피드 포워드 신경망의 은닉층의 크기\n",
    "DROPOUT = 0.1 # 드롭아웃의 비율\n",
    "MAX_LENGTH = 80\n",
    "\n",
    "model = transformer(\n",
    "    vocab_size=VOCAB_SIZE,\n",
    "    num_layers=NUM_LAYERS,\n",
    "    units=UNITS,\n",
    "    d_model=D_MODEL,\n",
    "    num_heads=NUM_HEADS,\n",
    "    dropout=DROPOUT,\n",
    "    max_length = MAX_LENGTH)\n",
    "\n",
    "model.summary()"
   ]
  },
  {
   "cell_type": "code",
   "execution_count": 536,
   "id": "f02e83c5",
   "metadata": {},
   "outputs": [],
   "source": [
    "def loss_function(y_true, y_pred):\n",
    "    y_true = tf.reshape(y_true, shape=(-1, MAX_LENGTH -1))\n",
    "    \n",
    "    loss = tf.keras.losses.SparseCategoricalCrossentropy(\n",
    "        from_logits=True, reduction='none')(y_true, y_pred)\n",
    "    \n",
    "    mask  = tf.cast(tf.not_equal(y_true, 0), tf.float32)\n",
    "    loss = tf.multiply(loss, mask)\n",
    "    return tf.reduce_mean(loss)"
   ]
  },
  {
   "cell_type": "code",
   "execution_count": 537,
   "id": "1c48562e",
   "metadata": {},
   "outputs": [],
   "source": [
    "class CustomSchedule(tf.keras.optimizers.schedules.LearningRateSchedule):\n",
    "\n",
    "    def __init__(self, d_model, warmup_steps=4000):\n",
    "        super(CustomSchedule, self).__init__()\n",
    "\n",
    "        self.d_model = d_model\n",
    "        self.d_model = tf.cast(self.d_model, tf.float32)\n",
    "\n",
    "        self.warmup_steps = warmup_steps\n",
    "\n",
    "    def __call__(self, step):\n",
    "        arg1 = tf.math.rsqrt(step)\n",
    "        arg2 = step * (self.warmup_steps**-1.5)\n",
    "\n",
    "        return tf.math.rsqrt(self.d_model) * tf.math.minimum(arg1, arg2)"
   ]
  },
  {
   "cell_type": "code",
   "execution_count": 538,
   "id": "88e8922e",
   "metadata": {},
   "outputs": [],
   "source": [
    "learning_rate = CustomSchedule(D_MODEL)\n",
    "\n",
    "optimizer = tf.keras.optimizers.Adam(\n",
    "    learning_rate, beta_1=0.9, beta_2=0.98, epsilon=1e-9)\n",
    "\n",
    "def accuracy(y_true, y_pred):\n",
    "    y_true = tf.reshape(y_true, shape=(-1, MAX_LENGTH - 1))\n",
    "    return tf.keras.metrics.sparse_categorical_accuracy(y_true, y_pred)\n",
    "\n",
    "model.compile(optimizer=optimizer, loss=loss_function, metrics=[accuracy])"
   ]
  },
  {
   "cell_type": "code",
   "execution_count": 539,
   "id": "1a647dfb",
   "metadata": {},
   "outputs": [
    {
     "name": "stdout",
     "output_type": "stream",
     "text": [
      "Epoch 1/20\n",
      "185/185 [==============================] - 20s 86ms/step - loss: 0.7253 - accuracy: 0.0130\n",
      "Epoch 2/20\n",
      "185/185 [==============================] - 16s 88ms/step - loss: 0.5787 - accuracy: 0.0253\n",
      "Epoch 3/20\n",
      "185/185 [==============================] - 17s 89ms/step - loss: 0.4897 - accuracy: 0.0256\n",
      "Epoch 4/20\n",
      "185/185 [==============================] - 16s 88ms/step - loss: 0.4524 - accuracy: 0.0277\n",
      "Epoch 5/20\n",
      "185/185 [==============================] - 16s 87ms/step - loss: 0.4253 - accuracy: 0.0293\n",
      "Epoch 6/20\n",
      "185/185 [==============================] - 16s 87ms/step - loss: 0.3969 - accuracy: 0.0311\n",
      "Epoch 7/20\n",
      "185/185 [==============================] - 16s 88ms/step - loss: 0.3657 - accuracy: 0.0339\n",
      "Epoch 8/20\n",
      "185/185 [==============================] - 16s 88ms/step - loss: 0.3315 - accuracy: 0.0377\n",
      "Epoch 9/20\n",
      "185/185 [==============================] - 16s 88ms/step - loss: 0.2936 - accuracy: 0.0419\n",
      "Epoch 10/20\n",
      "185/185 [==============================] - 16s 88ms/step - loss: 0.2532 - accuracy: 0.0467\n",
      "Epoch 11/20\n",
      "185/185 [==============================] - 16s 88ms/step - loss: 0.2109 - accuracy: 0.0523\n",
      "Epoch 12/20\n",
      "185/185 [==============================] - 16s 88ms/step - loss: 0.1691 - accuracy: 0.0582\n",
      "Epoch 13/20\n",
      "185/185 [==============================] - 16s 88ms/step - loss: 0.1293 - accuracy: 0.0646\n",
      "Epoch 14/20\n",
      "185/185 [==============================] - 16s 88ms/step - loss: 0.0947 - accuracy: 0.0703\n",
      "Epoch 15/20\n",
      "185/185 [==============================] - 16s 88ms/step - loss: 0.0660 - accuracy: 0.0754\n",
      "Epoch 16/20\n",
      "185/185 [==============================] - 16s 88ms/step - loss: 0.0450 - accuracy: 0.0791\n",
      "Epoch 17/20\n",
      "185/185 [==============================] - 16s 88ms/step - loss: 0.0316 - accuracy: 0.0813\n",
      "Epoch 18/20\n",
      "185/185 [==============================] - 16s 88ms/step - loss: 0.0247 - accuracy: 0.0821\n",
      "Epoch 19/20\n",
      "185/185 [==============================] - 16s 88ms/step - loss: 0.0218 - accuracy: 0.0825\n",
      "Epoch 20/20\n",
      "185/185 [==============================] - 16s 88ms/step - loss: 0.0201 - accuracy: 0.0826\n"
     ]
    }
   ],
   "source": [
    "EPOCHS = 20\n",
    "history = model.fit(dataset, epochs=EPOCHS, verbose=1)"
   ]
  },
  {
   "cell_type": "code",
   "execution_count": 540,
   "id": "9d8193a8",
   "metadata": {},
   "outputs": [
    {
     "data": {
      "image/png": "[encoded data removed]",
      "text/plain": [
       "<Figure size 864x360 with 2 Axes>"
      ]
     },
     "metadata": {
      "needs_background": "light"
     },
     "output_type": "display_data"
    }
   ],
   "source": [
    "# 학습 과정 시각화\n",
    "plt.figure(figsize=(12, 5))\n",
    "\n",
    "plt.subplot(1, 2, 1)\n",
    "plt.plot(history.history['loss'], label='Train Loss')\n",
    "plt.title('Model Loss')\n",
    "plt.xlabel('Epoch')\n",
    "plt.ylabel('Loss')\n",
    "plt.legend()\n",
    "\n",
    "plt.subplot(1, 2, 2)\n",
    "plt.plot(history.history['accuracy'], label='Train Accuracy')\n",
    "plt.title('Model Accuracy')\n",
    "plt.xlabel('Epoch')\n",
    "plt.ylabel('Accuracy')\n",
    "plt.legend()\n",
    "\n",
    "plt.tight_layout()\n",
    "plt.show()"
   ]
  },
  {
   "cell_type": "markdown",
   "id": "37d52bfe",
   "metadata": {},
   "source": [
    "인퍼런스 모델에서 input을 sentence를 제거."
   ]
  },
  {
   "cell_type": "code",
   "execution_count": 541,
   "id": "575903d7",
   "metadata": {},
   "outputs": [],
   "source": [
    "def decoder_inference(sentence):\n",
    "    sentence = preprocess_sentence(sentence)\n",
    "    sentence = tf.expand_dims(\n",
    "          START_TOKEN + tokenizer.encode(sentence) + END_TOKEN, axis=0)\n",
    "\n",
    "    output_sequence = tf.expand_dims(START_TOKEN, 0)\n",
    "\n",
    "    for i in range(MAX_LENGTH):\n",
    "        # 디코더는 최대 MAX_LENGTH의 길이만큼 다음 단어 예측을 반복합니다.\n",
    "        #predictions = model(inputs=[sentence, output_sequence], training=False)\n",
    "        predictions = model(inputs=[output_sequence], training=False)\n",
    "        predictions = predictions[:, -1:, :]\n",
    "\n",
    "        predicted_id = tf.cast(tf.argmax(predictions, axis=-1), tf.int32)\n",
    "\n",
    "        if tf.equal(predicted_id, END_TOKEN[0]):\n",
    "            break\n",
    "\n",
    "        output_sequence = tf.concat([output_sequence, predicted_id], axis=-1)\n",
    "\n",
    "    return tf.squeeze(output_sequence, axis=0)"
   ]
  },
  {
   "cell_type": "code",
   "execution_count": 542,
   "id": "f736153f",
   "metadata": {},
   "outputs": [],
   "source": [
    "def sentence_generation(sentence):\n",
    "    prediction = decoder_inference(sentence)\n",
    "\n",
    "    predicted_sentence = tokenizer.decode(\n",
    "      [i for i in prediction if i < tokenizer.vocab_size])\n",
    "\n",
    "    print('입력 : {}'.format(sentence))\n",
    "    print('출력 : {}'.format(predicted_sentence))\n",
    "\n",
    "    return predicted_sentence"
   ]
  },
  {
   "cell_type": "code",
   "execution_count": 543,
   "id": "3f10bb1f",
   "metadata": {},
   "outputs": [
    {
     "name": "stdout",
     "output_type": "stream",
     "text": [
      "입력 : 영화 뭐 좋아해?\n",
      "출력 : 가끔은 힘내지 말고 내려오세요\n"
     ]
    },
    {
     "data": {
      "text/plain": [
       "'가끔은 힘내지 말고 내려오세요'"
      ]
     },
     "execution_count": 543,
     "metadata": {},
     "output_type": "execute_result"
    }
   ],
   "source": [
    "sentence_generation(\"영화 뭐 좋아해?\")"
   ]
  },
  {
   "cell_type": "code",
   "execution_count": 546,
   "id": "7ec329b5",
   "metadata": {},
   "outputs": [
    {
     "name": "stdout",
     "output_type": "stream",
     "text": [
      "입력 : 사랑해\n",
      "출력 : 가끔은 힘내지 말고 내려오세요\n"
     ]
    },
    {
     "data": {
      "text/plain": [
       "'가끔은 힘내지 말고 내려오세요'"
      ]
     },
     "execution_count": 546,
     "metadata": {},
     "output_type": "execute_result"
    }
   ],
   "source": [
    "sentence_generation(\"사랑해\")"
   ]
  },
  {
   "cell_type": "code",
   "execution_count": null,
   "id": "917995e4",
   "metadata": {},
   "outputs": [],
   "source": []
  }
 ],
 "metadata": {
  "kernelspec": {
   "display_name": "Python 3 (ipykernel)",
   "language": "python",
   "name": "python3"
  },
  "language_info": {
   "codemirror_mode": {
    "name": "ipython",
    "version": 3
   },
   "file_extension": ".py",
   "mimetype": "text/x-python",
   "name": "python",
   "nbconvert_exporter": "python",
   "pygments_lexer": "ipython3",
   "version": "3.9.7"
  }
 },
 "nbformat": 4,
 "nbformat_minor": 5
}
